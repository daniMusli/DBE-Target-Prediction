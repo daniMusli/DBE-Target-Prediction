{
 "cells": [
  {
   "cell_type": "markdown",
   "metadata": {},
   "source": [
    "## ML Approaches for classification of target DBE \n",
    "\n",
    "### First approach drop prime vend and treat bid days as contiuous variable"
   ]
  },
  {
   "cell_type": "code",
   "execution_count": 166,
   "metadata": {},
   "outputs": [],
   "source": [
    "from math import sqrt\n",
    "import pandas as pd\n",
    "import numpy as np\n",
    "import scipy.stats as stats\n",
    "import matplotlib.pyplot as plt\n",
    "import seaborn as sns\n",
    "from IPython.display import display\n",
    "from sklearn.model_selection import train_test_split\n",
    "from sklearn.pipeline import Pipeline as pipe\n",
    "from sklearn.preprocessing import RobustScaler\n",
    "from imblearn.over_sampling import SMOTE,SMOTENC\n",
    "from sklearn.model_selection import cross_val_score\n",
    "from sklearn.metrics import roc_auc_score\n",
    "from sklearn.metrics import roc_curve\n",
    "from sklearn.metrics import recall_score\n",
    "from sklearn.metrics import classification_report\n",
    "from sklearn.model_selection import StratifiedKFold\n",
    "from sklearn.metrics import confusion_matrix,plot_confusion_matrix\n",
    "from sklearn.model_selection import GridSearchCV\n",
    "from sklearn.ensemble import GradientBoostingClassifier\n",
    "from sklearn.tree import DecisionTreeClassifier\n",
    "from sklearn.linear_model import LogisticRegression\n",
    "from sklearn.ensemble import RandomForestClassifier\n",
    "from sklearn.neighbors import KNeighborsClassifier\n",
    "from imblearn.pipeline import make_pipeline\n",
    "from sklearn.neural_network import MLPClassifier\n",
    "from sklearn.naive_bayes import GaussianNB\n",
    "from sklearn import svm\n",
    "from sklearn.preprocessing import StandardScaler\n",
    "from feature_engine.encoding import RareLabelEncoder, MeanEncoder,OneHotEncoder,OrdinalEncoder\n",
    "from feature_engine.discretisation import DecisionTreeDiscretiser\n",
    "from feature_engine.imputation import (\n",
    "AddMissingIndicator,\n",
    "MeanMedianImputer,\n",
    "CategoricalImputer,\n",
    " )   \n",
    "%matplotlib inline\n",
    "SEED = 42"
   ]
  },
  {
   "cell_type": "code",
   "execution_count": 31,
   "metadata": {},
   "outputs": [],
   "source": [
    "#options for pandas\n",
    "pd.set_option('display.max_rows', 500)\n",
    "pd.set_option('display.max_columns', 500)\n",
    "#pd.options.display.float_format = '{:.0f}'.format"
   ]
  },
  {
   "cell_type": "code",
   "execution_count": 32,
   "metadata": {},
   "outputs": [
    {
     "name": "stderr",
     "output_type": "stream",
     "text": [
      "C:\\Users\\abdul\\Anaconda3\\envs\\IT_project\\lib\\site-packages\\IPython\\core\\interactiveshell.py:3072: DtypeWarning: Columns (2,3,27) have mixed types.Specify dtype option on import or set low_memory=False.\n",
      "  interactivity=interactivity, compiler=compiler, result=result)\n"
     ]
    }
   ],
   "source": [
    "data = pd.read_csv(\"multi_row_per_sample.csv\") #Read the dataset"
   ]
  },
  {
   "cell_type": "code",
   "execution_count": 33,
   "metadata": {},
   "outputs": [],
   "source": [
    "data = data.drop('Unnamed: 0', 1)"
   ]
  },
  {
   "cell_type": "code",
   "execution_count": 34,
   "metadata": {},
   "outputs": [],
   "source": [
    "data.drop(data.iloc[:, 47:216], inplace=True, axis=1)"
   ]
  },
  {
   "cell_type": "code",
   "execution_count": 35,
   "metadata": {},
   "outputs": [],
   "source": [
    "data = data.drop('LN_ITM_NBR', 1)\n",
    "data = data.drop('PRD_END_DT', 1)\n",
    "data = data.drop('EST_T', 1)\n",
    "data = data.drop('current_item_payment_amount', 1)\n",
    "data = data.drop('payments_cumsum', 1)\n",
    "data = data.drop('Bin 1 (%)', 1)\n",
    "data = data.drop('Bin 171 (%)', 1)"
   ]
  },
  {
   "cell_type": "code",
   "execution_count": 36,
   "metadata": {},
   "outputs": [
    {
     "data": {
      "text/plain": [
       "(1080925, 41)"
      ]
     },
     "execution_count": 36,
     "metadata": {},
     "output_type": "execute_result"
    }
   ],
   "source": [
    "data.shape"
   ]
  },
  {
   "cell_type": "code",
   "execution_count": null,
   "metadata": {},
   "outputs": [],
   "source": []
  },
  {
   "cell_type": "code",
   "execution_count": 37,
   "metadata": {},
   "outputs": [
    {
     "data": {
      "text/plain": [
       "(1080925, 41)"
      ]
     },
     "execution_count": 37,
     "metadata": {},
     "output_type": "execute_result"
    }
   ],
   "source": [
    "data.shape"
   ]
  },
  {
   "cell_type": "code",
   "execution_count": 38,
   "metadata": {},
   "outputs": [],
   "source": [
    "#data.reset_index(drop=True, inplace=True)"
   ]
  },
  {
   "cell_type": "code",
   "execution_count": 39,
   "metadata": {},
   "outputs": [],
   "source": [
    "data = data.drop('TOTAL_PD', 1)\n",
    "data = data.drop('TOT_VERF_PAYM_AMT', 1)\n",
    "data = data.drop('DBE_PAYSUM', 1)\n",
    "data = data.drop('Subcontract_appr_date', 1)\n",
    "data = data.drop('Subcontract_payment_date', 1)\n",
    "data = data.drop('subcontract_payment_amount', 1)\n",
    "data = data.drop('ITM_CD', 1)\n",
    "data = data.drop('Item Unit', 1)\n",
    "data = data.drop('Total Item Quantity', 1)\n",
    "data = data.drop('Total Item Price ($)', 1)\n",
    "data = data.drop('item_description', 1)\n",
    "data = data.drop('LN_ITM_SUBC_QTY', 1)\n",
    "data = data.drop('LN_ITM_SUBC_UNT', 1)\n",
    "data = data.drop('LN_ITM_SUBC_PRIC', 1)\n",
    "data = data.drop('sum_of_bins', 1)\n",
    "data = data.drop('number_of_bins', 1)"
   ]
  },
  {
   "cell_type": "code",
   "execution_count": null,
   "metadata": {},
   "outputs": [],
   "source": []
  },
  {
   "cell_type": "code",
   "execution_count": 40,
   "metadata": {},
   "outputs": [],
   "source": [
    "data = data[data['BID_DAYS'].notna()]"
   ]
  },
  {
   "cell_type": "code",
   "execution_count": 23,
   "metadata": {},
   "outputs": [
    {
     "data": {
      "text/plain": [
       "(1064985, 25)"
      ]
     },
     "execution_count": 23,
     "metadata": {},
     "output_type": "execute_result"
    }
   ],
   "source": [
    "data.shape"
   ]
  },
  {
   "cell_type": "code",
   "execution_count": 41,
   "metadata": {},
   "outputs": [],
   "source": [
    "data = data.sort_values(by='DBE_goal', ascending=False)\n"
   ]
  },
  {
   "cell_type": "code",
   "execution_count": 42,
   "metadata": {},
   "outputs": [
    {
     "data": {
      "text/html": [
       "<div>\n",
       "<style scoped>\n",
       "    .dataframe tbody tr th:only-of-type {\n",
       "        vertical-align: middle;\n",
       "    }\n",
       "\n",
       "    .dataframe tbody tr th {\n",
       "        vertical-align: top;\n",
       "    }\n",
       "\n",
       "    .dataframe thead th {\n",
       "        text-align: right;\n",
       "    }\n",
       "</style>\n",
       "<table border=\"1\" class=\"dataframe\">\n",
       "  <thead>\n",
       "    <tr style=\"text-align: right;\">\n",
       "      <th></th>\n",
       "      <th>CONT_ID</th>\n",
       "      <th>PRJ_NBR</th>\n",
       "      <th>PRIME_VEND_ID</th>\n",
       "      <th>FUND_IND</th>\n",
       "      <th>FUNDTYPE</th>\n",
       "      <th>PROPOSAL_TYPE</th>\n",
       "      <th>SUB_VEND_ID</th>\n",
       "      <th>SUBCONT_NBR</th>\n",
       "      <th>DBE_T</th>\n",
       "      <th>DBE_COMMITMENT</th>\n",
       "      <th>DBEGOALPERCENT</th>\n",
       "      <th>DBE_Commit_Amount</th>\n",
       "      <th>DBE_Goal_Amount</th>\n",
       "      <th>proposal_estimated_amount</th>\n",
       "      <th>TOT_BID_AMT</th>\n",
       "      <th>START_DT</th>\n",
       "      <th>BID_DAYS</th>\n",
       "      <th>CLOSE_OUT_DT</th>\n",
       "      <th>EST_NBR</th>\n",
       "      <th>current_item_payment_quantity</th>\n",
       "      <th>number_of_payments</th>\n",
       "      <th>DBE_goal_status</th>\n",
       "      <th>DBE_commit_status</th>\n",
       "      <th>DBE_contract_target</th>\n",
       "      <th>DBE_goal</th>\n",
       "    </tr>\n",
       "  </thead>\n",
       "  <tbody>\n",
       "    <tr>\n",
       "      <th>0</th>\n",
       "      <td>120035</td>\n",
       "      <td>2.7748e+06</td>\n",
       "      <td>201749126</td>\n",
       "      <td>B</td>\n",
       "      <td>0FED</td>\n",
       "      <td>INTERSECTION MODIFICATION AND TRAFFIC SIGNALS</td>\n",
       "      <td>731004991</td>\n",
       "      <td>1</td>\n",
       "      <td>DBE</td>\n",
       "      <td>2.42</td>\n",
       "      <td>2.0</td>\n",
       "      <td>1.221349e+04</td>\n",
       "      <td>10093.7960</td>\n",
       "      <td>550161.47</td>\n",
       "      <td>504689.80</td>\n",
       "      <td>02/12/2014</td>\n",
       "      <td>90.0</td>\n",
       "      <td>04/27/2016</td>\n",
       "      <td>6.0</td>\n",
       "      <td>1784.63</td>\n",
       "      <td>3</td>\n",
       "      <td>1</td>\n",
       "      <td>1</td>\n",
       "      <td>1</td>\n",
       "      <td>1</td>\n",
       "    </tr>\n",
       "    <tr>\n",
       "      <th>715137</th>\n",
       "      <td>140376</td>\n",
       "      <td>2793904</td>\n",
       "      <td>731316732</td>\n",
       "      <td>B</td>\n",
       "      <td>FED</td>\n",
       "      <td>BRIDGE AND APPROACHES</td>\n",
       "      <td>731564757</td>\n",
       "      <td>5</td>\n",
       "      <td>DBE</td>\n",
       "      <td>3.47</td>\n",
       "      <td>3.0</td>\n",
       "      <td>1.136562e+06</td>\n",
       "      <td>982618.2096</td>\n",
       "      <td>31954938.25</td>\n",
       "      <td>32753940.32</td>\n",
       "      <td>07/06/2015</td>\n",
       "      <td>580.0</td>\n",
       "      <td>06/18/2019</td>\n",
       "      <td>7.0</td>\n",
       "      <td>945.00</td>\n",
       "      <td>14574</td>\n",
       "      <td>1</td>\n",
       "      <td>1</td>\n",
       "      <td>1</td>\n",
       "      <td>1</td>\n",
       "    </tr>\n",
       "    <tr>\n",
       "      <th>715124</th>\n",
       "      <td>140376</td>\n",
       "      <td>2793904</td>\n",
       "      <td>731316732</td>\n",
       "      <td>B</td>\n",
       "      <td>FED</td>\n",
       "      <td>BRIDGE AND APPROACHES</td>\n",
       "      <td>731564757</td>\n",
       "      <td>5</td>\n",
       "      <td>DBE</td>\n",
       "      <td>3.47</td>\n",
       "      <td>3.0</td>\n",
       "      <td>1.136562e+06</td>\n",
       "      <td>982618.2096</td>\n",
       "      <td>31954938.25</td>\n",
       "      <td>32753940.32</td>\n",
       "      <td>07/06/2015</td>\n",
       "      <td>580.0</td>\n",
       "      <td>06/18/2019</td>\n",
       "      <td>22.0</td>\n",
       "      <td>208.00</td>\n",
       "      <td>14574</td>\n",
       "      <td>1</td>\n",
       "      <td>1</td>\n",
       "      <td>0</td>\n",
       "      <td>1</td>\n",
       "    </tr>\n",
       "    <tr>\n",
       "      <th>715125</th>\n",
       "      <td>140376</td>\n",
       "      <td>2793904</td>\n",
       "      <td>731316732</td>\n",
       "      <td>B</td>\n",
       "      <td>FED</td>\n",
       "      <td>BRIDGE AND APPROACHES</td>\n",
       "      <td>731564757</td>\n",
       "      <td>5</td>\n",
       "      <td>DBE</td>\n",
       "      <td>3.47</td>\n",
       "      <td>3.0</td>\n",
       "      <td>1.136562e+06</td>\n",
       "      <td>982618.2096</td>\n",
       "      <td>31954938.25</td>\n",
       "      <td>32753940.32</td>\n",
       "      <td>07/06/2015</td>\n",
       "      <td>580.0</td>\n",
       "      <td>06/18/2019</td>\n",
       "      <td>24.0</td>\n",
       "      <td>363.00</td>\n",
       "      <td>14574</td>\n",
       "      <td>1</td>\n",
       "      <td>1</td>\n",
       "      <td>0</td>\n",
       "      <td>1</td>\n",
       "    </tr>\n",
       "    <tr>\n",
       "      <th>715126</th>\n",
       "      <td>140376</td>\n",
       "      <td>2793904</td>\n",
       "      <td>731316732</td>\n",
       "      <td>B</td>\n",
       "      <td>FED</td>\n",
       "      <td>BRIDGE AND APPROACHES</td>\n",
       "      <td>731564757</td>\n",
       "      <td>5</td>\n",
       "      <td>DBE</td>\n",
       "      <td>3.47</td>\n",
       "      <td>3.0</td>\n",
       "      <td>1.136562e+06</td>\n",
       "      <td>982618.2096</td>\n",
       "      <td>31954938.25</td>\n",
       "      <td>32753940.32</td>\n",
       "      <td>07/06/2015</td>\n",
       "      <td>580.0</td>\n",
       "      <td>06/18/2019</td>\n",
       "      <td>25.0</td>\n",
       "      <td>60.00</td>\n",
       "      <td>14574</td>\n",
       "      <td>1</td>\n",
       "      <td>1</td>\n",
       "      <td>0</td>\n",
       "      <td>1</td>\n",
       "    </tr>\n",
       "  </tbody>\n",
       "</table>\n",
       "</div>"
      ],
      "text/plain": [
       "        CONT_ID     PRJ_NBR PRIME_VEND_ID FUND_IND FUNDTYPE  \\\n",
       "0        120035  2.7748e+06     201749126        B     0FED   \n",
       "715137   140376     2793904     731316732        B      FED   \n",
       "715124   140376     2793904     731316732        B      FED   \n",
       "715125   140376     2793904     731316732        B      FED   \n",
       "715126   140376     2793904     731316732        B      FED   \n",
       "\n",
       "                                        PROPOSAL_TYPE  SUB_VEND_ID  \\\n",
       "0       INTERSECTION MODIFICATION AND TRAFFIC SIGNALS    731004991   \n",
       "715137                          BRIDGE AND APPROACHES    731564757   \n",
       "715124                          BRIDGE AND APPROACHES    731564757   \n",
       "715125                          BRIDGE AND APPROACHES    731564757   \n",
       "715126                          BRIDGE AND APPROACHES    731564757   \n",
       "\n",
       "        SUBCONT_NBR DBE_T  DBE_COMMITMENT  DBEGOALPERCENT  DBE_Commit_Amount  \\\n",
       "0                 1   DBE            2.42             2.0       1.221349e+04   \n",
       "715137            5   DBE            3.47             3.0       1.136562e+06   \n",
       "715124            5   DBE            3.47             3.0       1.136562e+06   \n",
       "715125            5   DBE            3.47             3.0       1.136562e+06   \n",
       "715126            5   DBE            3.47             3.0       1.136562e+06   \n",
       "\n",
       "        DBE_Goal_Amount  proposal_estimated_amount  TOT_BID_AMT    START_DT  \\\n",
       "0            10093.7960                  550161.47    504689.80  02/12/2014   \n",
       "715137      982618.2096                31954938.25  32753940.32  07/06/2015   \n",
       "715124      982618.2096                31954938.25  32753940.32  07/06/2015   \n",
       "715125      982618.2096                31954938.25  32753940.32  07/06/2015   \n",
       "715126      982618.2096                31954938.25  32753940.32  07/06/2015   \n",
       "\n",
       "        BID_DAYS CLOSE_OUT_DT  EST_NBR  current_item_payment_quantity  \\\n",
       "0           90.0   04/27/2016      6.0                        1784.63   \n",
       "715137     580.0   06/18/2019      7.0                         945.00   \n",
       "715124     580.0   06/18/2019     22.0                         208.00   \n",
       "715125     580.0   06/18/2019     24.0                         363.00   \n",
       "715126     580.0   06/18/2019     25.0                          60.00   \n",
       "\n",
       "        number_of_payments  DBE_goal_status  DBE_commit_status  \\\n",
       "0                        3                1                  1   \n",
       "715137               14574                1                  1   \n",
       "715124               14574                1                  1   \n",
       "715125               14574                1                  1   \n",
       "715126               14574                1                  1   \n",
       "\n",
       "        DBE_contract_target  DBE_goal  \n",
       "0                         1         1  \n",
       "715137                    1         1  \n",
       "715124                    0         1  \n",
       "715125                    0         1  \n",
       "715126                    0         1  "
      ]
     },
     "execution_count": 42,
     "metadata": {},
     "output_type": "execute_result"
    }
   ],
   "source": [
    "data.head(5)"
   ]
  },
  {
   "cell_type": "code",
   "execution_count": 43,
   "metadata": {},
   "outputs": [],
   "source": [
    "data = data.drop_duplicates(subset='CONT_ID', keep=\"first\")"
   ]
  },
  {
   "cell_type": "code",
   "execution_count": 44,
   "metadata": {},
   "outputs": [],
   "source": [
    "data.reset_index(drop=True, inplace=True)"
   ]
  },
  {
   "cell_type": "code",
   "execution_count": 45,
   "metadata": {},
   "outputs": [
    {
     "data": {
      "text/html": [
       "<div>\n",
       "<style scoped>\n",
       "    .dataframe tbody tr th:only-of-type {\n",
       "        vertical-align: middle;\n",
       "    }\n",
       "\n",
       "    .dataframe tbody tr th {\n",
       "        vertical-align: top;\n",
       "    }\n",
       "\n",
       "    .dataframe thead th {\n",
       "        text-align: right;\n",
       "    }\n",
       "</style>\n",
       "<table border=\"1\" class=\"dataframe\">\n",
       "  <thead>\n",
       "    <tr style=\"text-align: right;\">\n",
       "      <th></th>\n",
       "      <th>CONT_ID</th>\n",
       "      <th>PRJ_NBR</th>\n",
       "      <th>PRIME_VEND_ID</th>\n",
       "      <th>FUND_IND</th>\n",
       "      <th>FUNDTYPE</th>\n",
       "      <th>PROPOSAL_TYPE</th>\n",
       "      <th>SUB_VEND_ID</th>\n",
       "      <th>SUBCONT_NBR</th>\n",
       "      <th>DBE_T</th>\n",
       "      <th>DBE_COMMITMENT</th>\n",
       "      <th>DBEGOALPERCENT</th>\n",
       "      <th>DBE_Commit_Amount</th>\n",
       "      <th>DBE_Goal_Amount</th>\n",
       "      <th>proposal_estimated_amount</th>\n",
       "      <th>TOT_BID_AMT</th>\n",
       "      <th>START_DT</th>\n",
       "      <th>BID_DAYS</th>\n",
       "      <th>CLOSE_OUT_DT</th>\n",
       "      <th>EST_NBR</th>\n",
       "      <th>current_item_payment_quantity</th>\n",
       "      <th>number_of_payments</th>\n",
       "      <th>DBE_goal_status</th>\n",
       "      <th>DBE_commit_status</th>\n",
       "      <th>DBE_contract_target</th>\n",
       "      <th>DBE_goal</th>\n",
       "    </tr>\n",
       "  </thead>\n",
       "  <tbody>\n",
       "    <tr>\n",
       "      <th>0</th>\n",
       "      <td>120035</td>\n",
       "      <td>2.7748e+06</td>\n",
       "      <td>201749126</td>\n",
       "      <td>B</td>\n",
       "      <td>0FED</td>\n",
       "      <td>INTERSECTION MODIFICATION AND TRAFFIC SIGNALS</td>\n",
       "      <td>731004991</td>\n",
       "      <td>1</td>\n",
       "      <td>DBE</td>\n",
       "      <td>2.42</td>\n",
       "      <td>2.0</td>\n",
       "      <td>1.221349e+04</td>\n",
       "      <td>10093.7960</td>\n",
       "      <td>550161.47</td>\n",
       "      <td>504689.80</td>\n",
       "      <td>02/12/2014</td>\n",
       "      <td>90.0</td>\n",
       "      <td>04/27/2016</td>\n",
       "      <td>6.0</td>\n",
       "      <td>1784.63</td>\n",
       "      <td>3</td>\n",
       "      <td>1</td>\n",
       "      <td>1</td>\n",
       "      <td>1</td>\n",
       "      <td>1</td>\n",
       "    </tr>\n",
       "    <tr>\n",
       "      <th>1</th>\n",
       "      <td>140376</td>\n",
       "      <td>2793904</td>\n",
       "      <td>731316732</td>\n",
       "      <td>B</td>\n",
       "      <td>FED</td>\n",
       "      <td>BRIDGE AND APPROACHES</td>\n",
       "      <td>731564757</td>\n",
       "      <td>5</td>\n",
       "      <td>DBE</td>\n",
       "      <td>3.47</td>\n",
       "      <td>3.0</td>\n",
       "      <td>1.136562e+06</td>\n",
       "      <td>982618.2096</td>\n",
       "      <td>31954938.25</td>\n",
       "      <td>32753940.32</td>\n",
       "      <td>07/06/2015</td>\n",
       "      <td>580.0</td>\n",
       "      <td>06/18/2019</td>\n",
       "      <td>7.0</td>\n",
       "      <td>945.00</td>\n",
       "      <td>14574</td>\n",
       "      <td>1</td>\n",
       "      <td>1</td>\n",
       "      <td>1</td>\n",
       "      <td>1</td>\n",
       "    </tr>\n",
       "    <tr>\n",
       "      <th>2</th>\n",
       "      <td>150021</td>\n",
       "      <td>2790807</td>\n",
       "      <td>731561772</td>\n",
       "      <td>B</td>\n",
       "      <td>0FED</td>\n",
       "      <td>BRIDGE AND APPROACHES AND GUARDRAIL</td>\n",
       "      <td>731564757</td>\n",
       "      <td>6</td>\n",
       "      <td>DBE</td>\n",
       "      <td>2.16</td>\n",
       "      <td>2.0</td>\n",
       "      <td>2.676684e+05</td>\n",
       "      <td>247841.1042</td>\n",
       "      <td>12428625.76</td>\n",
       "      <td>12392055.21</td>\n",
       "      <td>01/04/2016</td>\n",
       "      <td>400.0</td>\n",
       "      <td>09/25/2018</td>\n",
       "      <td>29.0</td>\n",
       "      <td>1560.00</td>\n",
       "      <td>12726</td>\n",
       "      <td>1</td>\n",
       "      <td>1</td>\n",
       "      <td>1</td>\n",
       "      <td>1</td>\n",
       "    </tr>\n",
       "    <tr>\n",
       "      <th>3</th>\n",
       "      <td>140373</td>\n",
       "      <td>2798804</td>\n",
       "      <td>730764097A</td>\n",
       "      <td>B</td>\n",
       "      <td>0FED</td>\n",
       "      <td>BRIDGE AND APPROACHES</td>\n",
       "      <td>731564757</td>\n",
       "      <td>1</td>\n",
       "      <td>DBE</td>\n",
       "      <td>1.32</td>\n",
       "      <td>1.0</td>\n",
       "      <td>7.647172e+04</td>\n",
       "      <td>57933.1249</td>\n",
       "      <td>5377492.74</td>\n",
       "      <td>5793312.49</td>\n",
       "      <td>03/30/2015</td>\n",
       "      <td>300.0</td>\n",
       "      <td>03/15/2019</td>\n",
       "      <td>20.0</td>\n",
       "      <td>32.00</td>\n",
       "      <td>14600</td>\n",
       "      <td>1</td>\n",
       "      <td>1</td>\n",
       "      <td>0</td>\n",
       "      <td>1</td>\n",
       "    </tr>\n",
       "    <tr>\n",
       "      <th>4</th>\n",
       "      <td>150016</td>\n",
       "      <td>2958804</td>\n",
       "      <td>731394406</td>\n",
       "      <td>B</td>\n",
       "      <td>0FED</td>\n",
       "      <td>BRIDGE REHABILITATION</td>\n",
       "      <td>731564757</td>\n",
       "      <td>3</td>\n",
       "      <td>DBE</td>\n",
       "      <td>9.09</td>\n",
       "      <td>4.0</td>\n",
       "      <td>3.472402e+05</td>\n",
       "      <td>152800.9792</td>\n",
       "      <td>3491577.05</td>\n",
       "      <td>3820024.48</td>\n",
       "      <td>06/01/2015</td>\n",
       "      <td>300.0</td>\n",
       "      <td>10/22/2018</td>\n",
       "      <td>11.0</td>\n",
       "      <td>448.00</td>\n",
       "      <td>3923</td>\n",
       "      <td>1</td>\n",
       "      <td>1</td>\n",
       "      <td>1</td>\n",
       "      <td>1</td>\n",
       "    </tr>\n",
       "  </tbody>\n",
       "</table>\n",
       "</div>"
      ],
      "text/plain": [
       "   CONT_ID     PRJ_NBR PRIME_VEND_ID FUND_IND FUNDTYPE  \\\n",
       "0   120035  2.7748e+06     201749126        B     0FED   \n",
       "1   140376     2793904     731316732        B      FED   \n",
       "2   150021     2790807     731561772        B     0FED   \n",
       "3   140373     2798804    730764097A        B     0FED   \n",
       "4   150016     2958804     731394406        B     0FED   \n",
       "\n",
       "                                   PROPOSAL_TYPE  SUB_VEND_ID  SUBCONT_NBR  \\\n",
       "0  INTERSECTION MODIFICATION AND TRAFFIC SIGNALS    731004991            1   \n",
       "1                          BRIDGE AND APPROACHES    731564757            5   \n",
       "2            BRIDGE AND APPROACHES AND GUARDRAIL    731564757            6   \n",
       "3                          BRIDGE AND APPROACHES    731564757            1   \n",
       "4                          BRIDGE REHABILITATION    731564757            3   \n",
       "\n",
       "  DBE_T  DBE_COMMITMENT  DBEGOALPERCENT  DBE_Commit_Amount  DBE_Goal_Amount  \\\n",
       "0   DBE            2.42             2.0       1.221349e+04       10093.7960   \n",
       "1   DBE            3.47             3.0       1.136562e+06      982618.2096   \n",
       "2   DBE            2.16             2.0       2.676684e+05      247841.1042   \n",
       "3   DBE            1.32             1.0       7.647172e+04       57933.1249   \n",
       "4   DBE            9.09             4.0       3.472402e+05      152800.9792   \n",
       "\n",
       "   proposal_estimated_amount  TOT_BID_AMT    START_DT  BID_DAYS CLOSE_OUT_DT  \\\n",
       "0                  550161.47    504689.80  02/12/2014      90.0   04/27/2016   \n",
       "1                31954938.25  32753940.32  07/06/2015     580.0   06/18/2019   \n",
       "2                12428625.76  12392055.21  01/04/2016     400.0   09/25/2018   \n",
       "3                 5377492.74   5793312.49  03/30/2015     300.0   03/15/2019   \n",
       "4                 3491577.05   3820024.48  06/01/2015     300.0   10/22/2018   \n",
       "\n",
       "   EST_NBR  current_item_payment_quantity  number_of_payments  \\\n",
       "0      6.0                        1784.63                   3   \n",
       "1      7.0                         945.00               14574   \n",
       "2     29.0                        1560.00               12726   \n",
       "3     20.0                          32.00               14600   \n",
       "4     11.0                         448.00                3923   \n",
       "\n",
       "   DBE_goal_status  DBE_commit_status  DBE_contract_target  DBE_goal  \n",
       "0                1                  1                    1         1  \n",
       "1                1                  1                    1         1  \n",
       "2                1                  1                    1         1  \n",
       "3                1                  1                    0         1  \n",
       "4                1                  1                    1         1  "
      ]
     },
     "execution_count": 45,
     "metadata": {},
     "output_type": "execute_result"
    }
   ],
   "source": [
    "data.head(5)"
   ]
  },
  {
   "cell_type": "code",
   "execution_count": 46,
   "metadata": {},
   "outputs": [
    {
     "data": {
      "text/plain": [
       "(473, 25)"
      ]
     },
     "execution_count": 46,
     "metadata": {},
     "output_type": "execute_result"
    }
   ],
   "source": [
    "data.shape"
   ]
  },
  {
   "cell_type": "code",
   "execution_count": 47,
   "metadata": {},
   "outputs": [],
   "source": [
    "data = data.drop('SUB_VEND_ID', 1)\n",
    "data = data.drop('SUBCONT_NBR', 1)"
   ]
  },
  {
   "cell_type": "code",
   "execution_count": 48,
   "metadata": {},
   "outputs": [],
   "source": [
    "data = data[data['DBE_COMMITMENT'] > 0]"
   ]
  },
  {
   "cell_type": "code",
   "execution_count": 49,
   "metadata": {},
   "outputs": [],
   "source": [
    "data[\"PRJ_NBR\"]= data[\"PRJ_NBR\"].astype(str)"
   ]
  },
  {
   "cell_type": "code",
   "execution_count": 50,
   "metadata": {},
   "outputs": [
    {
     "name": "stdout",
     "output_type": "stream",
     "text": [
      "CONT_ID 472 472\n",
      "PRJ_NBR 457 472\n",
      "PRIME_VEND_ID 122 472\n",
      "FUND_IND 2 472\n",
      "FUNDTYPE 13 472\n",
      "PROPOSAL_TYPE 68 472\n",
      "DBE_T 1 472\n",
      "DBE_COMMITMENT 340 472\n",
      "DBEGOALPERCENT 18 472\n",
      "DBE_Commit_Amount 472 472\n",
      "DBE_Goal_Amount 472 472\n",
      "proposal_estimated_amount 472 472\n",
      "TOT_BID_AMT 472 472\n",
      "START_DT 309 472\n",
      "BID_DAYS 68 472\n",
      "CLOSE_OUT_DT 350 472\n",
      "EST_NBR 39 472\n",
      "current_item_payment_quantity 292 472\n",
      "number_of_payments 311 472\n",
      "DBE_goal_status 2 472\n",
      "DBE_commit_status 2 472\n",
      "DBE_contract_target 2 472\n",
      "DBE_goal 2 472\n"
     ]
    }
   ],
   "source": [
    "for var in data.columns:\n",
    "    print(var, data[var].nunique(), len(data))"
   ]
  },
  {
   "cell_type": "code",
   "execution_count": 51,
   "metadata": {},
   "outputs": [],
   "source": [
    "data.drop('CONT_ID', axis=1, inplace=True)"
   ]
  },
  {
   "cell_type": "code",
   "execution_count": 52,
   "metadata": {},
   "outputs": [],
   "source": [
    "data.drop('DBE_goal_status', axis=1, inplace=True)\n",
    "data.drop('DBE_commit_status', axis=1, inplace=True)\n",
    "data.drop('DBE_contract_target', axis=1, inplace=True)"
   ]
  },
  {
   "cell_type": "code",
   "execution_count": 53,
   "metadata": {},
   "outputs": [],
   "source": [
    "data.drop('PRIME_VEND_ID', axis=1, inplace=True)"
   ]
  },
  {
   "cell_type": "code",
   "execution_count": 54,
   "metadata": {},
   "outputs": [],
   "source": [
    "data.drop('PRJ_NBR', axis=1, inplace=True)\n",
    "data.drop('DBE_T', axis=1, inplace=True)\n",
    "data.drop('proposal_estimated_amount', axis=1, inplace=True)\n",
    "data.drop('START_DT', axis=1, inplace=True)\n",
    "data.drop('CLOSE_OUT_DT', axis=1, inplace=True)\n",
    "data.drop('EST_NBR', axis=1, inplace=True)\n",
    "data.drop('current_item_payment_quantity', axis=1, inplace=True)\n",
    "data.drop('number_of_payments', axis=1, inplace=True)"
   ]
  },
  {
   "cell_type": "code",
   "execution_count": 55,
   "metadata": {},
   "outputs": [
    {
     "data": {
      "text/html": [
       "<div>\n",
       "<style scoped>\n",
       "    .dataframe tbody tr th:only-of-type {\n",
       "        vertical-align: middle;\n",
       "    }\n",
       "\n",
       "    .dataframe tbody tr th {\n",
       "        vertical-align: top;\n",
       "    }\n",
       "\n",
       "    .dataframe thead th {\n",
       "        text-align: right;\n",
       "    }\n",
       "</style>\n",
       "<table border=\"1\" class=\"dataframe\">\n",
       "  <thead>\n",
       "    <tr style=\"text-align: right;\">\n",
       "      <th></th>\n",
       "      <th>FUND_IND</th>\n",
       "      <th>FUNDTYPE</th>\n",
       "      <th>PROPOSAL_TYPE</th>\n",
       "      <th>DBE_COMMITMENT</th>\n",
       "      <th>DBEGOALPERCENT</th>\n",
       "      <th>DBE_Commit_Amount</th>\n",
       "      <th>DBE_Goal_Amount</th>\n",
       "      <th>TOT_BID_AMT</th>\n",
       "      <th>BID_DAYS</th>\n",
       "      <th>DBE_goal</th>\n",
       "    </tr>\n",
       "  </thead>\n",
       "  <tbody>\n",
       "    <tr>\n",
       "      <th>0</th>\n",
       "      <td>B</td>\n",
       "      <td>0FED</td>\n",
       "      <td>INTERSECTION MODIFICATION AND TRAFFIC SIGNALS</td>\n",
       "      <td>2.42</td>\n",
       "      <td>2.0</td>\n",
       "      <td>1.221349e+04</td>\n",
       "      <td>10093.7960</td>\n",
       "      <td>504689.80</td>\n",
       "      <td>90.0</td>\n",
       "      <td>1</td>\n",
       "    </tr>\n",
       "    <tr>\n",
       "      <th>1</th>\n",
       "      <td>B</td>\n",
       "      <td>FED</td>\n",
       "      <td>BRIDGE AND APPROACHES</td>\n",
       "      <td>3.47</td>\n",
       "      <td>3.0</td>\n",
       "      <td>1.136562e+06</td>\n",
       "      <td>982618.2096</td>\n",
       "      <td>32753940.32</td>\n",
       "      <td>580.0</td>\n",
       "      <td>1</td>\n",
       "    </tr>\n",
       "    <tr>\n",
       "      <th>2</th>\n",
       "      <td>B</td>\n",
       "      <td>0FED</td>\n",
       "      <td>BRIDGE AND APPROACHES AND GUARDRAIL</td>\n",
       "      <td>2.16</td>\n",
       "      <td>2.0</td>\n",
       "      <td>2.676684e+05</td>\n",
       "      <td>247841.1042</td>\n",
       "      <td>12392055.21</td>\n",
       "      <td>400.0</td>\n",
       "      <td>1</td>\n",
       "    </tr>\n",
       "    <tr>\n",
       "      <th>3</th>\n",
       "      <td>B</td>\n",
       "      <td>0FED</td>\n",
       "      <td>BRIDGE AND APPROACHES</td>\n",
       "      <td>1.32</td>\n",
       "      <td>1.0</td>\n",
       "      <td>7.647172e+04</td>\n",
       "      <td>57933.1249</td>\n",
       "      <td>5793312.49</td>\n",
       "      <td>300.0</td>\n",
       "      <td>1</td>\n",
       "    </tr>\n",
       "  </tbody>\n",
       "</table>\n",
       "</div>"
      ],
      "text/plain": [
       "  FUND_IND FUNDTYPE                                  PROPOSAL_TYPE  \\\n",
       "0        B     0FED  INTERSECTION MODIFICATION AND TRAFFIC SIGNALS   \n",
       "1        B      FED                          BRIDGE AND APPROACHES   \n",
       "2        B     0FED            BRIDGE AND APPROACHES AND GUARDRAIL   \n",
       "3        B     0FED                          BRIDGE AND APPROACHES   \n",
       "\n",
       "   DBE_COMMITMENT  DBEGOALPERCENT  DBE_Commit_Amount  DBE_Goal_Amount  \\\n",
       "0            2.42             2.0       1.221349e+04       10093.7960   \n",
       "1            3.47             3.0       1.136562e+06      982618.2096   \n",
       "2            2.16             2.0       2.676684e+05      247841.1042   \n",
       "3            1.32             1.0       7.647172e+04       57933.1249   \n",
       "\n",
       "   TOT_BID_AMT  BID_DAYS  DBE_goal  \n",
       "0    504689.80      90.0         1  \n",
       "1  32753940.32     580.0         1  \n",
       "2  12392055.21     400.0         1  \n",
       "3   5793312.49     300.0         1  "
      ]
     },
     "execution_count": 55,
     "metadata": {},
     "output_type": "execute_result"
    }
   ],
   "source": [
    "data.head(4)"
   ]
  },
  {
   "cell_type": "code",
   "execution_count": 56,
   "metadata": {},
   "outputs": [
    {
     "data": {
      "text/html": [
       "<div>\n",
       "<style scoped>\n",
       "    .dataframe tbody tr th:only-of-type {\n",
       "        vertical-align: middle;\n",
       "    }\n",
       "\n",
       "    .dataframe tbody tr th {\n",
       "        vertical-align: top;\n",
       "    }\n",
       "\n",
       "    .dataframe thead th {\n",
       "        text-align: right;\n",
       "    }\n",
       "</style>\n",
       "<table border=\"1\" class=\"dataframe\">\n",
       "  <thead>\n",
       "    <tr style=\"text-align: right;\">\n",
       "      <th></th>\n",
       "      <th>DBE_COMMITMENT</th>\n",
       "      <th>DBEGOALPERCENT</th>\n",
       "      <th>DBE_Commit_Amount</th>\n",
       "      <th>DBE_Goal_Amount</th>\n",
       "      <th>TOT_BID_AMT</th>\n",
       "      <th>BID_DAYS</th>\n",
       "      <th>DBE_goal</th>\n",
       "    </tr>\n",
       "  </thead>\n",
       "  <tbody>\n",
       "    <tr>\n",
       "      <th>DBE_COMMITMENT</th>\n",
       "      <td>NaN</td>\n",
       "      <td>0.224118</td>\n",
       "      <td>0.352813</td>\n",
       "      <td>0.067437</td>\n",
       "      <td>0.012342</td>\n",
       "      <td>0.017715</td>\n",
       "      <td>0.149015</td>\n",
       "    </tr>\n",
       "    <tr>\n",
       "      <th>DBEGOALPERCENT</th>\n",
       "      <td>NaN</td>\n",
       "      <td>NaN</td>\n",
       "      <td>0.391993</td>\n",
       "      <td>0.474341</td>\n",
       "      <td>0.292698</td>\n",
       "      <td>0.234445</td>\n",
       "      <td>0.010756</td>\n",
       "    </tr>\n",
       "    <tr>\n",
       "      <th>DBE_Commit_Amount</th>\n",
       "      <td>NaN</td>\n",
       "      <td>NaN</td>\n",
       "      <td>NaN</td>\n",
       "      <td>0.767867</td>\n",
       "      <td>0.739090</td>\n",
       "      <td>0.615467</td>\n",
       "      <td>0.106594</td>\n",
       "    </tr>\n",
       "    <tr>\n",
       "      <th>DBE_Goal_Amount</th>\n",
       "      <td>NaN</td>\n",
       "      <td>NaN</td>\n",
       "      <td>NaN</td>\n",
       "      <td>NaN</td>\n",
       "      <td>0.927759</td>\n",
       "      <td>0.712439</td>\n",
       "      <td>0.122152</td>\n",
       "    </tr>\n",
       "    <tr>\n",
       "      <th>TOT_BID_AMT</th>\n",
       "      <td>NaN</td>\n",
       "      <td>NaN</td>\n",
       "      <td>NaN</td>\n",
       "      <td>NaN</td>\n",
       "      <td>NaN</td>\n",
       "      <td>0.807918</td>\n",
       "      <td>0.149248</td>\n",
       "    </tr>\n",
       "    <tr>\n",
       "      <th>BID_DAYS</th>\n",
       "      <td>NaN</td>\n",
       "      <td>NaN</td>\n",
       "      <td>NaN</td>\n",
       "      <td>NaN</td>\n",
       "      <td>NaN</td>\n",
       "      <td>NaN</td>\n",
       "      <td>0.166087</td>\n",
       "    </tr>\n",
       "    <tr>\n",
       "      <th>DBE_goal</th>\n",
       "      <td>NaN</td>\n",
       "      <td>NaN</td>\n",
       "      <td>NaN</td>\n",
       "      <td>NaN</td>\n",
       "      <td>NaN</td>\n",
       "      <td>NaN</td>\n",
       "      <td>NaN</td>\n",
       "    </tr>\n",
       "  </tbody>\n",
       "</table>\n",
       "</div>"
      ],
      "text/plain": [
       "                   DBE_COMMITMENT  DBEGOALPERCENT  DBE_Commit_Amount  \\\n",
       "DBE_COMMITMENT                NaN        0.224118           0.352813   \n",
       "DBEGOALPERCENT                NaN             NaN           0.391993   \n",
       "DBE_Commit_Amount             NaN             NaN                NaN   \n",
       "DBE_Goal_Amount               NaN             NaN                NaN   \n",
       "TOT_BID_AMT                   NaN             NaN                NaN   \n",
       "BID_DAYS                      NaN             NaN                NaN   \n",
       "DBE_goal                      NaN             NaN                NaN   \n",
       "\n",
       "                   DBE_Goal_Amount  TOT_BID_AMT  BID_DAYS  DBE_goal  \n",
       "DBE_COMMITMENT            0.067437     0.012342  0.017715  0.149015  \n",
       "DBEGOALPERCENT            0.474341     0.292698  0.234445  0.010756  \n",
       "DBE_Commit_Amount         0.767867     0.739090  0.615467  0.106594  \n",
       "DBE_Goal_Amount                NaN     0.927759  0.712439  0.122152  \n",
       "TOT_BID_AMT                    NaN          NaN  0.807918  0.149248  \n",
       "BID_DAYS                       NaN          NaN       NaN  0.166087  \n",
       "DBE_goal                       NaN          NaN       NaN       NaN  "
      ]
     },
     "execution_count": 56,
     "metadata": {},
     "output_type": "execute_result"
    }
   ],
   "source": [
    "data_copy = data.copy()\n",
    "corr_matrix = data_copy.corr().abs()\n",
    "upper = corr_matrix.where(np.triu(np.ones(corr_matrix.shape), k=1).astype(np.bool))\n",
    "upper"
   ]
  },
  {
   "cell_type": "code",
   "execution_count": 57,
   "metadata": {},
   "outputs": [
    {
     "data": {
      "text/plain": [
       "<AxesSubplot:>"
      ]
     },
     "execution_count": 57,
     "metadata": {},
     "output_type": "execute_result"
    },
    {
     "data": {
      "image/png": "[encoded data removed]",
      "text/plain": [
       "<Figure size 720x576 with 2 Axes>"
      ]
     },
     "metadata": {
      "needs_background": "light"
     },
     "output_type": "display_data"
    }
   ],
   "source": [
    "f, ax = plt.subplots(figsize=(10, 8))\n",
    "corr = data_copy.corr()\n",
    "sns.heatmap(corr, mask=np.zeros_like(corr, dtype=np.bool), cmap=sns.diverging_palette(220, 10, as_cmap=True),\n",
    "            square=True, ax=ax)"
   ]
  },
  {
   "cell_type": "code",
   "execution_count": 58,
   "metadata": {},
   "outputs": [
    {
     "data": {
      "text/plain": [
       "['TOT_BID_AMT']"
      ]
     },
     "execution_count": 58,
     "metadata": {},
     "output_type": "execute_result"
    }
   ],
   "source": [
    "to_drop = [var for var in upper.columns if any(upper[var] > .90)]\n",
    "to_drop"
   ]
  },
  {
   "cell_type": "code",
   "execution_count": 59,
   "metadata": {
    "scrolled": true
   },
   "outputs": [
    {
     "name": "stdout",
     "output_type": "stream",
     "text": [
      "FUND_IND percent of missing values 0.0\n",
      "FUNDTYPE percent of missing values 0.0\n",
      "PROPOSAL_TYPE percent of missing values 0.0\n",
      "DBE_COMMITMENT percent of missing values 0.0\n",
      "DBEGOALPERCENT percent of missing values 0.0\n",
      "DBE_Commit_Amount percent of missing values 0.0\n",
      "DBE_Goal_Amount percent of missing values 0.0\n",
      "TOT_BID_AMT percent of missing values 0.0\n",
      "BID_DAYS percent of missing values 0.0\n",
      "DBE_goal percent of missing values 0.0\n"
     ]
    }
   ],
   "source": [
    "for var in data_copy.columns:\n",
    "    print(var, 'percent of missing values', data_copy[var].isnull().mean().round(3))"
   ]
  },
  {
   "cell_type": "code",
   "execution_count": 60,
   "metadata": {},
   "outputs": [
    {
     "name": "stdout",
     "output_type": "stream",
     "text": [
      "FUND_IND ['B' 'F'] \n",
      "\n",
      "FUNDTYPE ['0FED' 'FED' '0L24' 'L05E' 'L24E' '0LY2' 'LS3E' 'L1CE' 'L23E' 'FED2'\n",
      " '0402' '0F13' 'L11E'] \n",
      "\n",
      "PROPOSAL_TYPE ['INTERSECTION MODIFICATION AND TRAFFIC SIGNALS' 'BRIDGE AND APPROACHES'\n",
      " 'BRIDGE AND APPROACHES AND GUARDRAIL' 'BRIDGE REHABILITATION'\n",
      " 'GRADE, DRAIN, AND SURFACE' 'RESURFACE (ASPHALT)'\n",
      " 'PAVEMENT REHABILITATION (P.C. CONCRETE)'\n",
      " 'GRADE, DRAIN, SURFACE, AND BRIDGE' 'WIDENING AND RESURFACE (ASPHALT)'\n",
      " 'GRADE, DRAIN, SURFACE, AND BRIDGE - DIVISION III'\n",
      " 'INTERSECTION MODIFICATION' 'RESURFACE (ASPHALT) - DIVISION II'\n",
      " 'BRIDGE AND APPROACHES - DIVISION III'\n",
      " 'GRADE, DRAIN, SURFACE, AND BRIDGE - DIVISION IV' 'WIDEN AND RESURFACE'\n",
      " 'RECONSTRUCT - ADD LANES' 'INTERSECTION MODIFICATION AND TRAFFIC SIGNAL'\n",
      " 'SIGNING AND HIGH FRICTION SURFACE COURSE' 'WIDEN, RESURFACE, AND BRIDGE'\n",
      " 'SURFACE' 'SAFETY IMPROVEMENT (GUARDRAIL AND CABLE BARRIER)'\n",
      " 'RESURFACE (PC CONCRETE)'\n",
      " 'SHOULDER IMPROVEMENT, RESURFACE (ASPHALT), AND BRIDGE'\n",
      " 'RESURFACE (ASPHALT) AND BRIDGE REPAIR'\n",
      " 'RESURFACE (ASPHALT) AND PEDESTRIAN IMPROVEMENTS'\n",
      " 'GRADE,DRAIN, SURFACE, AND BRIDGE' 'PEDESTRIAN IMPROVEMENTS (SIDEWALKS)'\n",
      " 'ENHANCEMENT (TRAIL CONSTRUCTION)' 'ENHANCEMENT (STREETSCAPE)'\n",
      " 'BRIDGE AND  APPROACHES' 'RESURFACE (CONCRETE)'\n",
      " 'GRADE, DRAIN,  AND SURFACE' 'INTERCHANGE - DIVISION II'\n",
      " 'BRIDGE  AND APPROACHES - DIVISION VII'\n",
      " 'RESURFACE (P.C. CONCRETE) - DIVISION VIII'\n",
      " 'GRADE, DRAIN, AND SURFACE - DIVISION II'\n",
      " 'BRIDGE REHABILITATION - DIVISION VIII'\n",
      " 'WIDEN AND RESURFACE - DIVISION VIII'\n",
      " 'BRIDGE AND APPROACHES - DIVISION IV'\n",
      " 'BRIDGE AND APPROACHES - DIVISION V'\n",
      " 'GRADE, DRAIN, SURFACE, AND TRAFFIC SIGNALS'\n",
      " 'BRIDGE AND APPROACHES AND BRIDGE REHABILITATION'\n",
      " 'GRADE, DRAIN, SURFACE, AND EROSION CONTROL' 'PAVEMENT REHABILITATION'\n",
      " 'GRADE AND DRAIN' 'WIDEN AND RESURFACE (ASPHALT)' 'BRIDGE REPAIR'\n",
      " 'GRADE, DRAIN AND SURFACE' 'SAFETY IMPROVEMENT (CABLE BARRIER)'\n",
      " 'PEDESTRIAN IMPROVEMENTS' 'RESURFACE (ASPHALT) AND TRAFFIC SIGNALS'\n",
      " 'WIDEN, RESURFACE (AC), AND BRIDGE' 'RESURFACE (UTBWC)'\n",
      " 'GRADE, DRAIN, SURFACE AND BRIDGE' 'INTERCHANGE' 'NOISE ABATEMENT'\n",
      " 'GRADE, DRAIN, SURFACE, AND SIGNAL'\n",
      " 'RESURFACE (P.C. CONCRETE) AND CABLE BARRIER' 'RESURFACE  (ASPHALT)'\n",
      " 'ASPHALT RESURFACE AND P.C. CONCRETE REHAB.'\n",
      " 'GRADE, DRAIN, SURFACE, BRIDGE AND APPROACHES'\n",
      " 'RECONSTRUCT-ADDED LANES, INTERSECTION MODIFICATION, SIGNALS'\n",
      " 'GRADE, DRAIN, SURFACE, AND SIGNING'\n",
      " 'SAFETY IMPROVEMENT (CABLE BARRIER AND INT. MODIFICATION)'\n",
      " 'BRIDGE AND APPROACHES - DIVISION II' 'SLIDE REPAIR' 'BRIDGE PAINTING'\n",
      " 'JOINT SEAL/REPAIR'] \n",
      "\n",
      "DBE_COMMITMENT [ 2.42  3.47  2.16  1.32  9.09 19.86  6.03  4.05  3.    2.2   5.01  8.19\n",
      "  5.85  1.98  4.04  2.74  7.61  2.45  1.81  5.37  2.29  3.52  2.79  2.02\n",
      "  4.56  3.12  3.58  0.53  4.9   3.78  2.9   4.96  1.18  2.01  1.34  2.6\n",
      "  4.24  1.39  2.36  0.69  7.29  5.    7.    1.66  2.13  2.58  6.43 10.99\n",
      "  2.47  1.2   5.21  2.09  0.59 11.98 10.91  5.92  7.59  6.13  5.12  1.71\n",
      "  3.82  3.5   5.33  4.01  2.71  5.55  4.52  5.64  2.8   3.03  5.13  6.4\n",
      "  2.19  5.47  4.12 16.1   3.27  3.91  5.05  5.09  2.    4.22  8.8  11.24\n",
      "  3.68 22.97  4.84  3.09  8.    7.21  5.4   2.34  1.23 14.6   6.16  7.15\n",
      "  8.17 11.27  3.15  3.98  7.28  4.    1.5   3.39  3.72  6.27  5.02  3.59\n",
      "  4.46  3.55  2.88 35.58  5.03  8.39  5.11  7.9   4.07  4.51  3.89  3.3\n",
      "  5.41  4.35  3.62  3.28  2.54  5.1   2.27  5.06  2.1   3.21  7.89  2.14\n",
      " 15.08  8.35  4.7   8.01  4.23  4.99  4.77  2.93  4.14  3.32 12.69 10.93\n",
      "  3.33  6.22 14.52  2.12  4.78  5.74  3.06  4.82  5.35  2.91  9.84  2.84\n",
      "  3.08  3.97  4.37  6.    3.81  4.48  6.07  3.93  3.79  2.33  3.45  6.08\n",
      "  3.53  3.48  5.71  7.08  6.5   3.31  7.27  3.22  1.75  2.48 10.8   2.43\n",
      "  6.29  1.27  9.01  6.01  9.    3.65  3.44  6.54  3.61 13.68  6.37  7.95\n",
      "  3.43  5.26 11.53  3.71  6.39  4.5   4.11  3.57  6.63 11.89 11.08  3.69\n",
      "  9.87  1.79  5.34  8.59  1.55  3.49  5.57  3.16  5.89  4.47  3.73  3.13\n",
      "  2.18  5.32  7.72  6.18  8.03  5.73  7.14  6.1   9.62  6.85  6.17 11.25\n",
      "  9.39 10.94  6.94  6.24  8.63  4.66 38.35 39.45  7.45  5.29  4.39  6.53\n",
      "  6.31  7.35 11.41 19.42  3.29  5.16  6.02  6.19  7.25  6.25  9.6   4.95\n",
      "  6.11 32.75 13.34  4.02  8.56  7.42  4.09 11.94 13.1   9.74  7.7   5.04\n",
      "  5.56  4.62  9.4   6.35  4.42  3.02  3.18  3.84  4.85 14.89  6.99  6.15\n",
      "  4.68  2.92  6.12  7.99  5.52 13.55  6.04  5.54  4.38  4.28  7.64  5.43\n",
      "  3.1   3.11  6.83  7.63  3.99  9.45  5.24  2.55  9.14  3.26  6.33  8.05\n",
      "  9.31 10.43  6.73  5.48  6.86  4.16  3.04  3.36  8.71  4.61 14.14  4.55\n",
      "  6.3   4.71  6.44  5.99  8.67  7.05  5.17  7.03  6.6  42.14  7.58  5.61\n",
      "  4.72  7.13  4.98  5.18  6.06  9.36 98.52  1.88  3.34 16.51  7.02  8.76\n",
      "  4.3   3.41  3.86  6.32] \n",
      "\n",
      "DBEGOALPERCENT [ 2.   3.   1.   4.   1.5  6.   5.   7.   2.5  3.5  0.5  4.5  8.   5.5\n",
      "  6.5 10.   7.5  9. ] \n",
      "\n",
      "DBE_Commit_Amount [1.22134932e+04 1.13656173e+06 2.67668393e+05 7.64717249e+04\n",
      " 3.47240225e+05 3.36987588e+05 4.31484175e+04 2.52182768e+04\n",
      " 6.48112050e+04 1.96386390e+04 2.60415298e+05 2.65384953e+06\n",
      " 3.89240217e+05 4.91402805e+05 2.24835252e+04 1.83657364e+04\n",
      " 2.68036946e+05 1.80525020e+05 1.71631766e+04 2.03718629e+05\n",
      " 7.60836012e+03 2.47559027e+04 1.76223916e+04 1.63816425e+04\n",
      " 4.44594537e+04 1.27917155e+04 4.35459207e+04 8.30881000e+02\n",
      " 1.12929805e+05 1.66336859e+04 2.43984975e+04 2.23957117e+05\n",
      " 5.79742059e+03 1.19305162e+05 6.84593645e+03 4.92556595e+05\n",
      " 2.76660104e+05 5.58202335e+04 9.38867271e+03 2.25202740e+04\n",
      " 5.60333293e+04 8.55177111e+05 8.73784166e+05 1.94654122e+05\n",
      " 1.80825353e+05 4.95964136e+04 5.54119777e+04 6.75916267e+05\n",
      " 9.61268627e+04 1.03396691e+05 1.67709189e+05 1.86413039e+05\n",
      " 5.53670749e+04 1.19210623e+05 5.85807315e+04 1.70932579e+04\n",
      " 4.52968122e+03 2.39955597e+06 1.74894937e+05 1.89233066e+05\n",
      " 1.03273355e+06 4.41834800e+05 4.08881868e+05 1.38186972e+04\n",
      " 4.49168194e+04 1.34459475e+05 1.18088145e+04 2.97370087e+05\n",
      " 3.18292070e+04 6.75885382e+04 8.67460944e+04 5.82134159e+05\n",
      " 2.56640899e+04 1.24215722e+05 4.19006852e+05 3.26468177e+04\n",
      " 6.88872688e+04 7.10466701e+04 6.79119000e+03 1.51864255e+04\n",
      " 1.26648097e+05 1.31786203e+05 3.11667575e+05 3.60163359e+04\n",
      " 2.30278351e+04 6.89907636e+04 4.97465738e+04 6.44340555e+04\n",
      " 4.15715600e+03 4.45386501e+05 5.16708489e+04 3.02659641e+05\n",
      " 2.98504219e+05 1.55886144e+05 2.95752032e+04 3.20993756e+04\n",
      " 2.11586578e+04 2.78077117e+04 3.76771407e+04 2.45678484e+04\n",
      " 7.77119840e+04 1.73214030e+05 3.85945048e+05 3.95747424e+04\n",
      " 1.50162843e+05 1.43989711e+04 1.30379627e+06 1.76569125e+04\n",
      " 3.73216873e+04 4.41867265e+04 7.55380920e+04 1.77748039e+05\n",
      " 1.34328765e+04 1.80105029e+05 5.16876012e+05 2.50989208e+05\n",
      " 5.36806883e+05 5.80761579e+04 7.94901194e+04 4.44950357e+04\n",
      " 6.05573761e+04 8.26020003e+04 1.14321434e+04 6.77554191e+04\n",
      " 2.05077375e+05 4.10313529e+05 1.73850765e+05 8.64261487e+04\n",
      " 6.45793829e+05 1.04495184e+05 5.19823551e+04 2.11711214e+04\n",
      " 1.20617066e+05 2.95715817e+04 1.84332875e+05 2.04250902e+05\n",
      " 3.86532222e+04 4.56954440e+04 5.37430940e+04 4.94967611e+04\n",
      " 2.48466784e+04 1.14971112e+05 7.50977819e+04 8.71388112e+04\n",
      " 2.18025242e+04 8.96153129e+04 2.91353672e+04 6.27603942e+04\n",
      " 1.53232838e+05 1.09395000e+05 6.35759195e+04 6.02665102e+04\n",
      " 1.27358664e+04 1.93957269e+04 2.62598200e+04 2.17296911e+04\n",
      " 1.10762792e+05 1.97115851e+05 6.13937752e+04 6.90353126e+04\n",
      " 3.13851052e+05 1.72159003e+04 5.64322122e+04 1.70241316e+04\n",
      " 4.17313575e+04 3.53273188e+04 2.88543230e+04 1.86559164e+04\n",
      " 2.26697505e+04 9.48854903e+03 7.72651187e+04 2.78014210e+05\n",
      " 1.04634127e+05 7.99532845e+04 5.73665801e+04 1.45180265e+04\n",
      " 2.25340964e+04 1.02066917e+05 1.56348195e+04 1.24542460e+05\n",
      " 3.42090294e+05 3.09144034e+05 3.05882398e+04 9.84075453e+04\n",
      " 1.20839160e+05 2.06569277e+04 2.18491562e+04 3.00767627e+04\n",
      " 3.53857986e+05 7.34804082e+04 8.56661880e+04 2.18915574e+04\n",
      " 2.43351584e+04 1.48356606e+05 2.25106207e+04 2.60143351e+04\n",
      " 8.19160541e+04 5.13751576e+04 1.58260858e+04 2.12628585e+04\n",
      " 2.17447923e+04 5.88672172e+04 1.46824681e+04 3.63299743e+04\n",
      " 3.06506753e+04 5.18963200e+04 8.18025000e+05 9.31600255e+05\n",
      " 1.18266019e+05 1.07519984e+06 2.03637722e+05 4.40319730e+04\n",
      " 5.53265048e+04 9.67444532e+05 4.25678073e+04 5.01186048e+04\n",
      " 1.39665273e+04 5.98093110e+04 9.17901060e+03 1.42635083e+05\n",
      " 3.06035166e+05 1.85528700e+05 3.06931843e+04 2.05169623e+05\n",
      " 6.45592377e+04 7.44395582e+04 9.59528426e+04 1.71155177e+05\n",
      " 2.19972845e+04 3.88034883e+04 1.58386809e+06 7.12175231e+04\n",
      " 8.19904364e+04 9.37684438e+04 2.19092704e+05 5.54912468e+04\n",
      " 2.12736595e+05 1.94265528e+04 1.27910451e+05 1.18722708e+05\n",
      " 3.96419874e+05 1.90664694e+04 1.75601281e+05 5.40746362e+04\n",
      " 1.86529194e+05 2.07680024e+05 2.50311116e+05 2.88165244e+04\n",
      " 1.94550748e+05 2.81791720e+04 3.11548659e+05 1.13873400e+05\n",
      " 1.34178227e+06 1.86732460e+05 2.07353180e+05 2.28623065e+04\n",
      " 1.60799568e+05 1.49794382e+04 2.59896732e+04 4.33468208e+04\n",
      " 9.89624708e+04 1.75767773e+04 5.92154804e+04 8.12375258e+04\n",
      " 7.25067305e+04 5.21702519e+04 1.15819340e+05 6.61252132e+04\n",
      " 3.86001929e+04 4.46272805e+04 2.64694587e+04 2.21523053e+04\n",
      " 4.12884374e+04 8.65488911e+04 4.97558700e+05 4.98738902e+04\n",
      " 9.21095729e+05 5.86777252e+05 1.24770351e+06 1.22680842e+06\n",
      " 2.84661123e+05 2.06255210e+06 1.86055999e+05 2.21017696e+05\n",
      " 1.25009652e+05 9.26910659e+05 1.05433144e+06 1.11305788e+06\n",
      " 5.78545016e+05 1.70000955e+05 1.19479521e+05 1.51390004e+05\n",
      " 1.57950700e+05 2.53297915e+06 4.18580127e+06 5.56948120e+05\n",
      " 9.21590333e+04 8.20853853e+04 7.83105198e+04 1.17416806e+05\n",
      " 9.65649228e+04 7.79524092e+04 3.25167627e+04 4.67306064e+05\n",
      " 4.55432328e+05 1.01121359e+05 1.27375684e+06 3.42908475e+04\n",
      " 8.48179747e+04 9.09867677e+05 3.14366280e+05 3.70294404e+04\n",
      " 1.93986053e+05 2.99590574e+05 6.30925323e+05 2.59059309e+05\n",
      " 4.73029961e+04 4.74275841e+05 1.19992193e+05 6.34212360e+05\n",
      " 1.08417488e+05 3.86659849e+04 5.20368512e+04 6.00327521e+04\n",
      " 1.59202189e+05 3.03046155e+04 1.03110338e+06 7.92753083e+04\n",
      " 6.84670335e+05 4.12585572e+05 4.16760130e+05 1.45283247e+05\n",
      " 3.65875094e+04 3.13978434e+04 1.05696848e+05 4.08306164e+05\n",
      " 3.26575864e+04 1.35796188e+06 3.61307385e+05 1.12395524e+04\n",
      " 2.08209159e+04 1.51015656e+04 7.64678511e+04 2.28589375e+05\n",
      " 1.52873621e+04 2.71243523e+04 2.39764843e+04 5.28634734e+04\n",
      " 4.85316259e+05 1.43992380e+06 2.40060598e+05 1.79128590e+04\n",
      " 3.48818972e+04 2.49295024e+05 2.74287514e+05 3.02777175e+05\n",
      " 2.60929862e+05 5.27108904e+04 7.12000711e+05 2.27293958e+05\n",
      " 1.18243279e+05 4.93919940e+04 8.86720345e+04 2.17834548e+04\n",
      " 5.68549599e+04 2.60267097e+04 9.71351763e+05 5.05532972e+04\n",
      " 7.32625335e+05 3.37526054e+04 3.34513390e+04 3.58667711e+04\n",
      " 2.71579019e+04 6.04661856e+04 2.38627484e+04 5.70157059e+04\n",
      " 6.80022701e+04 3.29913123e+04 3.00067180e+04 1.02849898e+05\n",
      " 7.28367829e+05 1.16449881e+05 7.54815400e+04 7.89496813e+05\n",
      " 4.34277354e+05 1.07237547e+06 4.86229953e+05 2.13148927e+04\n",
      " 1.54856982e+05 3.28287149e+04 1.71557353e+05 2.18187455e+04\n",
      " 3.61091620e+04 7.04345509e+04 5.97952146e+05 4.98002760e+04\n",
      " 8.15462249e+05 1.59826333e+06 5.27004239e+04 1.31988271e+05\n",
      " 5.26939396e+04 6.02069634e+04 1.97851643e+05 1.47222579e+05\n",
      " 2.62305978e+05 8.03233348e+04 3.39117903e+04 3.42490542e+04\n",
      " 1.11274840e+05 1.60616752e+06 1.78570903e+05 1.80402855e+05\n",
      " 1.33060203e+04 1.03720367e+05 5.46809377e+04 5.33860288e+03\n",
      " 1.34834174e+04 4.86615091e+04 4.80306131e+04 7.48493218e+04\n",
      " 1.97996128e+04 1.52335927e+04 2.69556722e+04 6.08984558e+05\n",
      " 1.44086639e+06 1.60714448e+05 9.27668431e+04 4.77307378e+05\n",
      " 2.14133640e+04 1.71735662e+04 7.36500581e+04 1.28199897e+05\n",
      " 1.83376023e+05 5.75583018e+04 1.59703491e+04 4.43243053e+04\n",
      " 5.47634660e+04 4.63982855e+04 6.99673338e+04 5.99462399e+04\n",
      " 1.83544161e+04 5.64202782e+04 3.70536881e+05 4.70534374e+04\n",
      " 7.00017663e+04 4.85427898e+04 3.98839240e+04 2.55071237e+04\n",
      " 1.78417268e+05 9.81244698e+04 6.88508843e+04 3.74118688e+04\n",
      " 1.80936504e+04 1.61074606e+04 4.49868220e+04 5.77547279e+05\n",
      " 2.32337253e+05 9.53256572e+04 9.68387774e+03 4.46566604e+04\n",
      " 3.03677844e+04 1.74190686e+04 6.14418659e+04 2.81757589e+04\n",
      " 7.33354900e+04 3.72537256e+05 1.57590894e+04 1.73730634e+04\n",
      " 1.97293755e+04 7.71356152e+03 2.97298046e+04 1.66422169e+04] \n",
      "\n",
      "DBE_Goal_Amount [1.00937960e+04 9.82618210e+05 2.47841104e+05 5.79331249e+04\n",
      " 1.52800979e+05 2.54522347e+04 4.29337488e+04 2.49069400e+04\n",
      " 6.48112050e+04 1.33899811e+04 2.59895507e+05 2.26824746e+06\n",
      " 1.66341973e+05 1.48909941e+06 5.56522900e+03 1.34056470e+04\n",
      " 2.46551724e+05 1.10525522e+05 1.42236270e+04 1.89682150e+05\n",
      " 3.32242800e+03 2.46152441e+04 6.31626940e+03 8.10972400e+03\n",
      " 3.89995208e+04 4.09990880e+03 3.64909950e+04 7.83850000e+02\n",
      " 2.30468990e+04 1.10011150e+04 2.10331875e+04 2.03186900e+05\n",
      " 4.91306830e+03 1.18711604e+05 5.10890780e+03 4.73612111e+05\n",
      " 2.43485240e+05 3.94954482e+04 2.02633224e+04 1.90849780e+04\n",
      " 2.84227033e+05 8.21157720e+05 8.73784166e+05 1.94654122e+05\n",
      " 1.29160966e+05 4.48160364e+04 5.20300260e+04 6.72553500e+05\n",
      " 9.31461848e+04 1.02882280e+05 1.56493800e+05 1.01772360e+05\n",
      " 4.48316396e+04 9.93421857e+04 6.74634144e+04 1.63571846e+04\n",
      " 1.53548516e+04 1.40207778e+06 3.20614000e+04 6.39300898e+04\n",
      " 1.36065026e+05 3.60387275e+05 3.19438960e+05 1.21216642e+04\n",
      " 3.76397928e+04 1.05596447e+05 1.01218410e+04 2.78958806e+05\n",
      " 3.96872905e+03 3.74106300e+04 8.65297700e+04 5.76889707e+05\n",
      " 1.70336880e+04 1.10120321e+05 3.74113261e+05 3.23235819e+04\n",
      " 6.71415875e+04 6.66062532e+04 6.20200000e+03 1.23970820e+04\n",
      " 1.15766085e+05 1.27947770e+05 1.16149407e+05 3.30425100e+04\n",
      " 1.17789438e+04 6.89907636e+04 4.92540335e+04 6.32947500e+04\n",
      " 4.15715600e+03 4.09685350e+05 2.44885540e+04 2.23555416e+05\n",
      " 2.98504219e+05 8.32132440e+04 2.41102200e+04 2.56282440e+04\n",
      " 2.11586578e+04 6.05305000e+03 3.11381328e+04 1.59015200e+04\n",
      " 7.77119840e+04 1.73214030e+05 3.74703930e+05 1.46573120e+04\n",
      " 1.28344311e+05 1.17064806e+04 1.78602229e+05 1.43319095e+04\n",
      " 3.13188984e+04 1.82589779e+04 1.84915770e+04 1.57717870e+05\n",
      " 1.34328765e+04 1.42940499e+05 3.89605034e+05 2.06859238e+05\n",
      " 5.36806883e+05 5.80761579e+04 4.68968256e+04 2.39220622e+04\n",
      " 1.93165474e+04 8.26020003e+04 5.69329850e+03 3.77467516e+04\n",
      " 1.83925897e+05 3.46743828e+05 1.50912122e+05 7.38685032e+04\n",
      " 7.26018920e+04 9.34847568e+04 3.71745090e+04 1.03576915e+04\n",
      " 1.06875881e+05 1.62258336e+04 1.84332875e+05 2.00737987e+05\n",
      " 3.86532222e+04 4.05281100e+04 4.14471162e+04 2.99980370e+04\n",
      " 2.25878895e+04 7.43805713e+04 6.04235027e+04 5.05780828e+04\n",
      " 2.12915275e+04 8.66446396e+04 1.77654678e+04 4.94176332e+04\n",
      " 1.52622349e+05 9.65250000e+04 5.60140260e+04 2.38207550e+04\n",
      " 1.21293966e+04 1.17549860e+04 1.47803865e+04 1.31429583e+04\n",
      " 1.03516628e+05 1.87372482e+05 5.73773600e+04 2.74676310e+04\n",
      " 1.50347809e+05 1.09888725e+04 1.76130500e+04 1.60984696e+04\n",
      " 1.67259950e+04 1.48122930e+04 1.96957836e+04 9.01252000e+03\n",
      " 2.04847143e+04 1.86929650e+03 2.12072604e+04 2.51217660e+05\n",
      " 9.42649794e+04 5.78440161e+04 9.87716600e+03 1.36962514e+04\n",
      " 1.88569844e+04 8.89084645e+04 1.15244370e+04 1.22100451e+05\n",
      " 2.83892360e+05 2.31135726e+05 4.20456904e+04 3.50026838e+04\n",
      " 8.50980000e+04 1.00601920e+04 1.65106974e+04 1.19827740e+04\n",
      " 3.23897470e+05 4.77145508e+04 8.56661880e+04 1.72374468e+04\n",
      " 1.90118425e+04 1.46645739e+05 1.14557866e+04 2.00110270e+04\n",
      " 4.32274692e+04 4.04528800e+04 1.35846230e+04 1.84894422e+04\n",
      " 1.06854016e+04 5.80926486e+04 1.24780182e+04 2.08792956e+04\n",
      " 1.07357882e+04 1.46599774e+04 8.18025000e+05 7.03980041e+05\n",
      " 5.35948726e+04 5.17634038e+05 1.89724586e+05 3.77416911e+04\n",
      " 3.34636118e+04 6.71836480e+05 3.75046760e+04 4.89439500e+04\n",
      " 1.14950842e+04 9.50863450e+03 7.22756740e+03 1.29668257e+05\n",
      " 1.69830836e+05 1.85220000e+05 2.40259760e+04 2.05169623e+05\n",
      " 4.30394918e+04 6.11831985e+04 5.57865364e+04 1.70108357e+05\n",
      " 9.14014590e+03 3.78201640e+04 3.47339493e+05 3.51691472e+04\n",
      " 7.72280406e+04 3.53843184e+04 1.91626272e+05 4.21986668e+04\n",
      " 9.22535105e+04 1.83269366e+04 7.75214856e+04 1.11476721e+05\n",
      " 1.76186611e+05 1.50129680e+04 1.49538804e+05 1.35865920e+04\n",
      " 1.56747222e+05 6.26485744e+04 8.42089540e+04 1.66089478e+04\n",
      " 1.57530970e+05 2.81791720e+04 1.40590550e+05 9.25800000e+04\n",
      " 4.75809317e+05 1.56479715e+05 7.76603672e+04 7.98450750e+03\n",
      " 1.59999570e+05 1.44962306e+04 1.44789266e+04 2.48405850e+04\n",
      " 7.45948272e+04 1.05566230e+04 3.18934365e+04 7.71242334e+04\n",
      " 4.30854935e+04 4.66847892e+04 5.45460000e+04 5.31838176e+04\n",
      " 2.46646600e+04 3.24955926e+04 2.59504497e+04 1.34256396e+04\n",
      " 3.53900892e+04 7.94026524e+04 4.84950000e+05 1.87495828e+04\n",
      " 8.35190427e+05 5.85606040e+05 1.21136263e+06 9.16668808e+05\n",
      " 2.98074474e+05 2.02210991e+06 1.83005901e+05 1.14874062e+05\n",
      " 1.09497506e+05 9.01371792e+05 5.62310100e+05 7.11219095e+05\n",
      " 2.11533827e+05 1.46974889e+05 7.65894368e+04 8.77114740e+04\n",
      " 1.35580000e+05 3.30245000e+05 6.36623768e+05 5.23306958e+05\n",
      " 7.19992448e+04 5.99163396e+04 7.40175045e+04 1.06985700e+05\n",
      " 7.58859904e+04 7.16254908e+04 3.09192672e+04 1.89961815e+06\n",
      " 4.33745074e+05 4.43126025e+04 4.59129655e+05 3.12682500e+04\n",
      " 8.21879600e+04 7.37481400e+05 3.13321874e+05 2.39285560e+04\n",
      " 1.60540182e+05 2.87606951e+05 3.94328327e+05 2.61676070e+05\n",
      " 4.46254680e+04 4.65737323e+05 1.18569361e+05 1.16191577e+05\n",
      " 4.06362400e+04 3.84736168e+04 4.25534998e+04 5.66346718e+04\n",
      " 1.55698962e+05 1.26903750e+04 3.93550908e+05 3.25565948e+04\n",
      " 6.22427577e+05 4.12585572e+05 4.13452510e+05 1.41051696e+05\n",
      " 2.63219492e+04 2.71842800e+04 7.81492404e+04 2.17184130e+05\n",
      " 2.57146350e+04 1.32354959e+06 3.26975009e+05 1.11651183e+04\n",
      " 1.67460450e+04 1.42467600e+04 5.97405087e+04 2.27829942e+05\n",
      " 1.20372930e+04 2.09185236e+04 1.48308150e+04 1.64427600e+04\n",
      " 1.95560615e+05 1.11994074e+06 2.06060599e+05 8.73798000e+03\n",
      " 2.44356548e+04 2.49295024e+05 2.57719812e+05 1.94087932e+05\n",
      " 1.78719084e+05 4.18340400e+04 6.98039913e+05 1.42236520e+05\n",
      " 1.17772190e+05 3.57913000e+04 8.76205875e+04 1.45871349e+04\n",
      " 8.39187600e+03 1.58217080e+04 9.68124680e+05 4.18487560e+04\n",
      " 6.61214201e+05 3.35290782e+04 2.29118760e+04 3.35203468e+04\n",
      " 2.70227880e+04 4.74865332e+04 2.31677169e+04 2.10002600e+04\n",
      " 5.87915880e+04 3.19270764e+04 3.00067180e+04 9.92121201e+04\n",
      " 6.39854608e+05 7.63105380e+04 5.67530376e+04 3.34178545e+05\n",
      " 2.50063736e+05 1.01326817e+06 4.74833938e+05 1.32665307e+04\n",
      " 1.14992809e+05 3.06810420e+04 1.35940850e+05 1.97752980e+04\n",
      " 3.40652472e+04 6.59499540e+04 5.70565025e+05 3.90590400e+04\n",
      " 8.15462249e+05 1.57378227e+06 4.84973226e+04 8.34049108e+04\n",
      " 2.61833240e+04 5.92199640e+04 1.27509115e+05 7.05765000e+04\n",
      " 2.33853769e+05 8.03233348e+04 2.47531316e+04 1.49777205e+04\n",
      " 1.11052735e+05 2.70268572e+06 1.67829796e+05 1.78029133e+05\n",
      " 8.72525920e+03 2.39354692e+05 4.88222658e+04 2.45171200e+03\n",
      " 8.77445820e+03 1.72070400e+04 4.77916548e+04 4.93512012e+04\n",
      " 1.96035770e+04 1.23850347e+04 2.55908280e+04 8.69977940e+05\n",
      " 1.39889941e+06 9.34386324e+04 7.87828816e+04 3.70580263e+05\n",
      " 2.03291430e+04 9.42308160e+03 5.82981990e+04 1.28413920e+05\n",
      " 1.69205096e+05 5.45576320e+04 1.59703491e+04 1.88614065e+04\n",
      " 5.47634660e+04 4.48726165e+04 6.96885795e+04 5.97967480e+04\n",
      " 1.04434800e+04 3.41941080e+04 1.75859934e+04 1.86227325e+04\n",
      " 4.63587856e+04 2.16322592e+04 3.37999356e+04 1.43097468e+04\n",
      " 1.78417268e+05 7.88148352e+04 3.32291913e+04 2.90464820e+04\n",
      " 9.29468340e+03 7.97399040e+03 4.49868220e+04 1.23407538e+05\n",
      " 3.53741250e+03 7.99376580e+04 7.72649820e+03 2.35655200e+04\n",
      " 2.22311745e+04 1.04305800e+04 1.11644820e+04 2.27682900e+04\n",
      " 7.31265570e+04 2.12635420e+05 1.46596180e+04 1.01894800e+04\n",
      " 1.16055150e+04 3.99666400e+03 1.41122490e+04 1.61968048e+04] \n",
      "\n",
      "TOT_BID_AMT [  504689.8  32753940.32 12392055.21  5793312.49  3820024.48  1696815.65\n",
      "   715562.48   622673.5   2160373.5    892665.41  5197910.14 32403535.17\n",
      "  6653678.92 24818323.48   556522.9    670282.35  3522167.49  7368368.15\n",
      "   948241.8   3793643.     332242.8    703292.69   631626.94   810972.4\n",
      "   974988.02   409990.88  1216366.5    156770.    2304689.9    440044.6\n",
      "   841327.5   4515264.45   491306.83  5935580.2    510890.78 18944484.44\n",
      "  3043565.5   1316514.94   675444.08   954248.9   8120772.36 11730824.57\n",
      " 17475683.31  3893082.45  2583219.33  2987735.76  2601501.3  11209225.\n",
      "  3725847.39  5144114.    2608230.    1696206.    2241581.98  9934218.57\n",
      "  1124390.24   817859.23   767742.58 20029682.58  1603070.    3196504.49\n",
      " 13606502.62  7207745.51  7985973.99   808110.95  1254659.76  3519881.55\n",
      "   337394.7   5579176.11   793745.81  2494042.    2163244.25 10488903.77\n",
      "   567789.6   2202406.41 14964530.44  1077452.73  1342831.75  1110104.22\n",
      "   310100.     619854.1   2315321.7   3198694.24  1935823.45  1101417.\n",
      "   588947.19  2299692.12   985080.67  1265895.     207857.8   5852647.85\n",
      "  1224427.7   3439314.1   9950140.63  1386887.4    803674.     640706.1\n",
      "  1057932.89   121061.     778453.32   795076.    2220342.4   2165175.38\n",
      "  5352913.29   732865.6   6417215.53  1170648.06  8930111.47   286638.19\n",
      "   521981.64  1825897.79   924578.85  1577178.7    447762.55  5717619.96\n",
      " 12986834.47  3447653.96 13420172.08  3871743.86  2344841.28  1196103.11\n",
      "   965827.37  2753400.01   227731.94  1887337.58  4598147.42 11558127.59\n",
      "  6036484.89  3693425.16  1815047.3   2077439.04   619575.15   414307.66\n",
      "  1526798.3    405645.84  3686657.5   5018449.68  1288440.74  1013202.75\n",
      "  1381570.54  1499901.85   752929.65  2125159.18  1726385.79  1445088.08\n",
      "   425830.55  2475561.13   888273.39  2470881.66  3052446.98  2145000.\n",
      "  2800701.3   1191037.75   606469.83   587749.3    492679.55   438098.61\n",
      "  3450554.26  2498299.76  2868868.     457793.85  3758695.23   366295.75\n",
      "   704522.     402461.74   836299.75   740614.65   984789.18   450626.\n",
      "   682823.81    74771.86   706908.68  8373922.    3142165.98  1285422.58\n",
      "   395086.64   684812.57   471424.61  1778169.29   384147.9   4070015.02\n",
      "  7097309.01  5778393.15  1051142.26  1000076.68  4254900.     670679.47\n",
      "   550356.58   599138.7   8097436.74  2385727.54  1427769.8    574581.56\n",
      "   543195.5   2444095.65   572789.33  1000551.35  2161373.46  2022644.\n",
      "   679231.15   616314.74   534270.08   968210.81   415933.94  1043964.78\n",
      "   536789.41   732998.87 12585000.   23466001.38  3572991.51 14789543.93\n",
      "  6324152.87  2516112.74  2230907.45  8957819.74  1875233.8    978879.\n",
      "   574754.21   950863.45   722756.74  4322275.23  3396616.71  3087000.\n",
      "   600649.4   2279662.48  2151974.59  2039439.95  2789326.82  2617051.64\n",
      "   609343.06   756403.28 11577983.09  1758457.36  1287134.01  1179477.28\n",
      "  6387542.4   1054966.67  1845070.21   523626.76  3876074.28  1857945.35\n",
      "  8809330.54   750648.4   4272537.25  1358659.2   5224907.4   3132428.72\n",
      "  2105223.85   830447.39  7876548.52   704479.3   2811811.    3086000.\n",
      " 13594551.91 10431981.    3883018.36   266150.25  7999978.49   966415.37\n",
      "   723946.33  1242029.25  2486494.24   527831.15  1063114.55  2570807.78\n",
      "  1231014.1   1167119.73  1818200.    1772793.92  1233233.    1083186.42\n",
      "   865014.99   671281.98  1179669.64  3970132.62  9699000.     937479.14\n",
      " 11931291.82 11712120.8  20189377.21 15277813.47  4967907.9  28887284.36\n",
      "  3050098.35  2297481.25  1824958.43 15022863.2   9371835.   11853651.59\n",
      "  5288345.67  2449581.48  1914735.92  1754229.48  3389500.01  6604900.\n",
      " 10610396.13  7475813.69  1799981.12  1997211.32  1480350.09  2674642.51\n",
      "  1897149.76  1193758.18   515321.12 37992362.93  6196358.2    886252.05\n",
      "  6558995.07  1042275.    1643759.2   9218517.5   5222031.23   598213.9\n",
      "  2675669.7   4793449.19  6572138.78  5233521.39  1115636.7   7762288.72\n",
      "  2371387.22  1936526.29   812724.8    961840.42   607907.14   809066.74\n",
      "  3892474.05   253807.5   7871018.16   813914.87  8891822.53 10314639.29\n",
      "  8269050.2   3526292.41   658048.73   679607.    1953731.01  4343682.6\n",
      "   514292.7  26470991.89  8174375.22   372170.61   558201.5    474892.\n",
      "  1991350.29  3797165.7    401243.1    697284.12   494360.5    822138.\n",
      "  3259343.58 15999153.37  3434343.32   291266.     610891.37  8309834.13\n",
      "  3681711.6   6469597.75  8935954.19  1045851.   11633998.55  2844730.39\n",
      "  2355443.81   894782.5   1752411.75   486237.83   419593.8    791085.4\n",
      " 16135411.34   836975.12 13224284.02  1117635.94   763729.2    838008.67\n",
      "   675569.7    791442.22   772257.23  1050013.     979859.8   1064235.88\n",
      "   428667.4   3307070.67 10664243.47  1526210.76  1891767.92  8354463.63\n",
      "  8335457.85 16887802.75  9496678.77   442217.69  3833093.62   767026.05\n",
      "  2718817.     659176.6    851631.18  1318999.08 11411300.49  1952952.\n",
      " 13591037.49 17486469.72  1616577.42  2085122.77   654583.1    986999.4\n",
      "  2125151.91  1411530.    3897562.82  4016166.74   618828.29   499257.35\n",
      "  2221054.7  38609796.04  3356595.92  5934304.44   218131.48  3989244.87\n",
      "  1627408.86    61292.8    292481.94   344140.8   1194791.37  1645040.04\n",
      "   392071.54   412834.49   853027.6   9666421.56 23314990.09  4671931.62\n",
      "  1969572.04  7411605.25   677638.1    235577.04  1943273.3   2140232.\n",
      "  2115063.7   1363940.8    532344.97   628713.55  1369086.65   897452.33\n",
      "  1393771.59  1494918.7    261087.     854852.7    879299.67   620757.75\n",
      "  1158969.64   865290.37   844998.39   357743.67  2973621.13  1970370.88\n",
      "  1329167.65   580929.64   619645.56   265799.68  1124670.55  6170376.91\n",
      "   235827.5   1998441.45   515099.88   589138.     444623.49   521529.\n",
      "   372149.4    569207.25  1044665.1   4252708.4    366490.45   509474.\n",
      "   386850.5    199833.2    470408.3    404920.12] \n",
      "\n",
      "BID_DAYS [ 90. 580. 400. 300. 160. 120.  75. 210. 510. 170. 730.  80.  60. 270.\n",
      " 460. 110. 240. 220. 430.  45. 330. 320. 365. 180. 275. 140. 450. 230.\n",
      "  70. 200.  25. 165.  21. 280.  30. 150. 420. 440. 100. 250. 225. 295.\n",
      " 125. 175. 260. 135. 370. 185. 350. 325. 500. 360. 335. 310. 215. 390.\n",
      " 255. 130. 600. 285. 375. 195. 545. 380. 525. 650. 340.  14.] \n",
      "\n",
      "DBE_goal [1 0] \n",
      "\n"
     ]
    }
   ],
   "source": [
    "for var in data_copy.columns:\n",
    "    print(var, data_copy[var].unique(), '\\n')"
   ]
  },
  {
   "cell_type": "code",
   "execution_count": 61,
   "metadata": {},
   "outputs": [
    {
     "name": "stdout",
     "output_type": "stream",
     "text": [
      "FUND_IND \n",
      " B    0.720339\n",
      "F    0.279661\n",
      "Name: FUND_IND, dtype: float64\n",
      "FUNDTYPE \n",
      " 0FED    0.898305\n",
      "FED     0.046610\n",
      "L05E    0.012712\n",
      "L24E    0.008475\n",
      "LS3E    0.006356\n",
      "L1CE    0.006356\n",
      "0402    0.004237\n",
      "L23E    0.004237\n",
      "L11E    0.004237\n",
      "0F13    0.002119\n",
      "FED2    0.002119\n",
      "0LY2    0.002119\n",
      "0L24    0.002119\n",
      "Name: FUNDTYPE, dtype: float64\n",
      "PROPOSAL_TYPE \n",
      " BRIDGE AND APPROACHES                                          0.480932\n",
      "RESURFACE (ASPHALT)                                            0.129237\n",
      "GRADE, DRAIN, SURFACE, AND BRIDGE                              0.082627\n",
      "GRADE, DRAIN, AND SURFACE                                      0.074153\n",
      "BRIDGE REHABILITATION                                          0.055085\n",
      "WIDEN, RESURFACE, AND BRIDGE                                   0.008475\n",
      "PEDESTRIAN IMPROVEMENTS (SIDEWALKS)                            0.008475\n",
      "INTERSECTION MODIFICATION                                      0.008475\n",
      "GRADE AND DRAIN                                                0.006356\n",
      "PAVEMENT REHABILITATION (P.C. CONCRETE)                        0.006356\n",
      "WIDEN AND RESURFACE                                            0.004237\n",
      "BRIDGE AND  APPROACHES                                         0.004237\n",
      "BRIDGE AND APPROACHES - DIVISION III                           0.004237\n",
      "SHOULDER IMPROVEMENT, RESURFACE (ASPHALT), AND BRIDGE          0.004237\n",
      "SAFETY IMPROVEMENT (CABLE BARRIER)                             0.004237\n",
      "RESURFACE (UTBWC)                                              0.004237\n",
      "INTERSECTION MODIFICATION AND TRAFFIC SIGNALS                  0.004237\n",
      "INTERSECTION MODIFICATION AND TRAFFIC SIGNAL                   0.004237\n",
      "BRIDGE  AND APPROACHES - DIVISION VII                          0.002119\n",
      "BRIDGE AND APPROACHES AND GUARDRAIL                            0.002119\n",
      "WIDENING AND RESURFACE (ASPHALT)                               0.002119\n",
      "ENHANCEMENT (TRAIL CONSTRUCTION)                               0.002119\n",
      "BRIDGE REPAIR                                                  0.002119\n",
      "GRADE, DRAIN, SURFACE AND BRIDGE                               0.002119\n",
      "RESURFACE (ASPHALT) AND BRIDGE REPAIR                          0.002119\n",
      "RESURFACE (ASPHALT) AND PEDESTRIAN IMPROVEMENTS                0.002119\n",
      "WIDEN, RESURFACE (AC), AND BRIDGE                              0.002119\n",
      "PAVEMENT REHABILITATION                                        0.002119\n",
      "RESURFACE (ASPHALT) AND TRAFFIC SIGNALS                        0.002119\n",
      "RESURFACE (ASPHALT) - DIVISION II                              0.002119\n",
      "JOINT SEAL/REPAIR                                              0.002119\n",
      "GRADE, DRAIN, SURFACE, AND SIGNING                             0.002119\n",
      "BRIDGE AND APPROACHES - DIVISION II                            0.002119\n",
      "RESURFACE (P.C. CONCRETE) - DIVISION VIII                      0.002119\n",
      "RESURFACE (PC CONCRETE)                                        0.002119\n",
      "RECONSTRUCT - ADD LANES                                        0.002119\n",
      "INTERCHANGE                                                    0.002119\n",
      "GRADE, DRAIN, SURFACE, AND EROSION CONTROL                     0.002119\n",
      "ENHANCEMENT (STREETSCAPE)                                      0.002119\n",
      "INTERCHANGE - DIVISION II                                      0.002119\n",
      "GRADE,DRAIN, SURFACE, AND BRIDGE                               0.002119\n",
      "NOISE ABATEMENT                                                0.002119\n",
      "GRADE, DRAIN, SURFACE, AND BRIDGE - DIVISION III               0.002119\n",
      "SURFACE                                                        0.002119\n",
      "ASPHALT RESURFACE AND P.C. CONCRETE REHAB.                     0.002119\n",
      "BRIDGE AND APPROACHES - DIVISION IV                            0.002119\n",
      "PEDESTRIAN IMPROVEMENTS                                        0.002119\n",
      "SAFETY IMPROVEMENT (GUARDRAIL AND CABLE BARRIER)               0.002119\n",
      "GRADE, DRAIN, AND SURFACE - DIVISION II                        0.002119\n",
      "SIGNING AND HIGH FRICTION SURFACE COURSE                       0.002119\n",
      "RESURFACE (CONCRETE)                                           0.002119\n",
      "SLIDE REPAIR                                                   0.002119\n",
      "BRIDGE AND APPROACHES AND BRIDGE REHABILITATION                0.002119\n",
      "RESURFACE  (ASPHALT)                                           0.002119\n",
      "BRIDGE AND APPROACHES - DIVISION V                             0.002119\n",
      "GRADE, DRAIN, SURFACE, AND TRAFFIC SIGNALS                     0.002119\n",
      "RECONSTRUCT-ADDED LANES, INTERSECTION MODIFICATION, SIGNALS    0.002119\n",
      "GRADE, DRAIN,  AND SURFACE                                     0.002119\n",
      "GRADE, DRAIN, SURFACE, AND SIGNAL                              0.002119\n",
      "BRIDGE PAINTING                                                0.002119\n",
      "GRADE, DRAIN AND SURFACE                                       0.002119\n",
      "GRADE, DRAIN, SURFACE, BRIDGE AND APPROACHES                   0.002119\n",
      "RESURFACE (P.C. CONCRETE) AND CABLE BARRIER                    0.002119\n",
      "WIDEN AND RESURFACE (ASPHALT)                                  0.002119\n",
      "WIDEN AND RESURFACE - DIVISION VIII                            0.002119\n",
      "GRADE, DRAIN, SURFACE, AND BRIDGE - DIVISION IV                0.002119\n",
      "BRIDGE REHABILITATION - DIVISION VIII                          0.002119\n",
      "SAFETY IMPROVEMENT (CABLE BARRIER AND INT. MODIFICATION)       0.002119\n",
      "Name: PROPOSAL_TYPE, dtype: float64\n",
      "DBE_COMMITMENT \n",
      " 3.00     0.019068\n",
      "3.30     0.012712\n",
      "4.00     0.010593\n",
      "5.02     0.010593\n",
      "5.12     0.010593\n",
      "5.01     0.008475\n",
      "5.13     0.008475\n",
      "6.00     0.006356\n",
      "4.12     0.006356\n",
      "4.11     0.006356\n",
      "6.10     0.006356\n",
      "5.00     0.006356\n",
      "3.98     0.006356\n",
      "3.16     0.006356\n",
      "5.06     0.006356\n",
      "3.50     0.006356\n",
      "4.24     0.006356\n",
      "7.29     0.006356\n",
      "4.07     0.006356\n",
      "6.03     0.006356\n",
      "6.02     0.006356\n",
      "4.01     0.006356\n",
      "2.54     0.006356\n",
      "2.60     0.006356\n",
      "4.02     0.006356\n",
      "2.00     0.006356\n",
      "2.01     0.006356\n",
      "3.32     0.004237\n",
      "2.47     0.004237\n",
      "9.87     0.004237\n",
      "4.77     0.004237\n",
      "4.95     0.004237\n",
      "6.31     0.004237\n",
      "3.08     0.004237\n",
      "7.58     0.004237\n",
      "3.44     0.004237\n",
      "2.42     0.004237\n",
      "4.82     0.004237\n",
      "4.28     0.004237\n",
      "3.58     0.004237\n",
      "6.44     0.004237\n",
      "5.33     0.004237\n",
      "7.00     0.004237\n",
      "7.45     0.004237\n",
      "5.10     0.004237\n",
      "3.06     0.004237\n",
      "2.45     0.004237\n",
      "9.00     0.004237\n",
      "6.35     0.004237\n",
      "7.61     0.004237\n",
      "6.83     0.004237\n",
      "3.47     0.004237\n",
      "4.05     0.004237\n",
      "5.71     0.004237\n",
      "6.43     0.004237\n",
      "6.94     0.004237\n",
      "3.69     0.004237\n",
      "5.41     0.004237\n",
      "3.81     0.004237\n",
      "2.92     0.004237\n",
      "2.27     0.004237\n",
      "9.09     0.004237\n",
      "3.02     0.004237\n",
      "5.04     0.004237\n",
      "5.11     0.004237\n",
      "1.23     0.004237\n",
      "3.59     0.004237\n",
      "6.18     0.004237\n",
      "5.05     0.004237\n",
      "3.31     0.004237\n",
      "3.33     0.004237\n",
      "5.09     0.004237\n",
      "5.21     0.004237\n",
      "4.04     0.004237\n",
      "4.96     0.004237\n",
      "6.37     0.004237\n",
      "4.22     0.004237\n",
      "3.09     0.004237\n",
      "3.79     0.004237\n",
      "3.89     0.004237\n",
      "3.97     0.004237\n",
      "3.29     0.004237\n",
      "2.34     0.004237\n",
      "3.73     0.004237\n",
      "5.34     0.004237\n",
      "6.04     0.004237\n",
      "4.48     0.004237\n",
      "5.32     0.004237\n",
      "4.56     0.002119\n",
      "3.65     0.002119\n",
      "3.57     0.002119\n",
      "1.98     0.002119\n",
      "7.99     0.002119\n",
      "3.48     0.002119\n",
      "6.39     0.002119\n",
      "3.21     0.002119\n",
      "5.54     0.002119\n",
      "7.90     0.002119\n",
      "5.61     0.002119\n",
      "3.68     0.002119\n",
      "4.47     0.002119\n",
      "1.71     0.002119\n",
      "3.34     0.002119\n",
      "16.51    0.002119\n",
      "7.14     0.002119\n",
      "3.45     0.002119\n",
      "5.64     0.002119\n",
      "1.27     0.002119\n",
      "2.14     0.002119\n",
      "4.66     0.002119\n",
      "4.37     0.002119\n",
      "5.43     0.002119\n",
      "8.80     0.002119\n",
      "1.18     0.002119\n",
      "4.61     0.002119\n",
      "3.82     0.002119\n",
      "7.27     0.002119\n",
      "11.41    0.002119\n",
      "4.42     0.002119\n",
      "7.02     0.002119\n",
      "11.27    0.002119\n",
      "3.18     0.002119\n",
      "5.26     0.002119\n",
      "5.29     0.002119\n",
      "6.17     0.002119\n",
      "39.45    0.002119\n",
      "1.20     0.002119\n",
      "12.69    0.002119\n",
      "3.15     0.002119\n",
      "5.99     0.002119\n",
      "10.80    0.002119\n",
      "6.32     0.002119\n",
      "2.29     0.002119\n",
      "9.14     0.002119\n",
      "9.39     0.002119\n",
      "7.95     0.002119\n",
      "5.57     0.002119\n",
      "11.89    0.002119\n",
      "2.91     0.002119\n",
      "2.79     0.002119\n",
      "2.16     0.002119\n",
      "7.64     0.002119\n",
      "4.14     0.002119\n",
      "5.56     0.002119\n",
      "8.01     0.002119\n",
      "3.93     0.002119\n",
      "6.24     0.002119\n",
      "3.72     0.002119\n",
      "6.63     0.002119\n",
      "6.86     0.002119\n",
      "4.30     0.002119\n",
      "32.75    0.002119\n",
      "7.59     0.002119\n",
      "6.25     0.002119\n",
      "4.23     0.002119\n",
      "1.81     0.002119\n",
      "7.25     0.002119\n",
      "3.61     0.002119\n",
      "4.46     0.002119\n",
      "7.15     0.002119\n",
      "11.25    0.002119\n",
      "6.54     0.002119\n",
      "4.50     0.002119\n",
      "14.52    0.002119\n",
      "8.39     0.002119\n",
      "0.53     0.002119\n",
      "0.69     0.002119\n",
      "1.75     0.002119\n",
      "6.50     0.002119\n",
      "1.39     0.002119\n",
      "1.50     0.002119\n",
      "5.40     0.002119\n",
      "8.00     0.002119\n",
      "4.99     0.002119\n",
      "11.98    0.002119\n",
      "3.84     0.002119\n",
      "3.41     0.002119\n",
      "6.12     0.002119\n",
      "8.17     0.002119\n",
      "6.11     0.002119\n",
      "1.32     0.002119\n",
      "3.26     0.002119\n",
      "3.36     0.002119\n",
      "7.13     0.002119\n",
      "8.03     0.002119\n",
      "3.10     0.002119\n",
      "13.34    0.002119\n",
      "2.19     0.002119\n",
      "2.12     0.002119\n",
      "3.71     0.002119\n",
      "6.33     0.002119\n",
      "35.58    0.002119\n",
      "3.43     0.002119\n",
      "7.03     0.002119\n",
      "8.19     0.002119\n",
      "10.93    0.002119\n",
      "4.72     0.002119\n",
      "3.78     0.002119\n",
      "7.70     0.002119\n",
      "5.18     0.002119\n",
      "2.18     0.002119\n",
      "22.97    0.002119\n",
      "4.09     0.002119\n",
      "4.71     0.002119\n",
      "2.74     0.002119\n",
      "1.88     0.002119\n",
      "10.94    0.002119\n",
      "6.16     0.002119\n",
      "1.79     0.002119\n",
      "4.70     0.002119\n",
      "6.60     0.002119\n",
      "7.72     0.002119\n",
      "3.27     0.002119\n",
      "3.55     0.002119\n",
      "2.58     0.002119\n",
      "4.68     0.002119\n",
      "2.43     0.002119\n",
      "2.80     0.002119\n",
      "8.05     0.002119\n",
      "2.20     0.002119\n",
      "5.85     0.002119\n",
      "9.31     0.002119\n",
      "5.48     0.002119\n",
      "14.14    0.002119\n",
      "14.89    0.002119\n",
      "3.86     0.002119\n",
      "5.47     0.002119\n",
      "0.59     0.002119\n",
      "6.07     0.002119\n",
      "6.40     0.002119\n",
      "3.91     0.002119\n",
      "4.62     0.002119\n",
      "9.40     0.002119\n",
      "4.39     0.002119\n",
      "6.06     0.002119\n",
      "5.73     0.002119\n",
      "5.89     0.002119\n",
      "7.08     0.002119\n",
      "2.90     0.002119\n",
      "8.76     0.002119\n",
      "11.08    0.002119\n",
      "3.39     0.002119\n",
      "5.52     0.002119\n",
      "19.42    0.002119\n",
      "13.68    0.002119\n",
      "2.02     0.002119\n",
      "6.73     0.002119\n",
      "7.21     0.002119\n",
      "5.03     0.002119\n",
      "2.33     0.002119\n",
      "2.55     0.002119\n",
      "10.99    0.002119\n",
      "4.90     0.002119\n",
      "2.84     0.002119\n",
      "8.59     0.002119\n",
      "9.45     0.002119\n",
      "6.29     0.002119\n",
      "4.85     0.002119\n",
      "3.11     0.002119\n",
      "2.71     0.002119\n",
      "2.09     0.002119\n",
      "3.04     0.002119\n",
      "6.27     0.002119\n",
      "7.63     0.002119\n",
      "7.35     0.002119\n",
      "3.99     0.002119\n",
      "6.85     0.002119\n",
      "10.43    0.002119\n",
      "6.19     0.002119\n",
      "5.35     0.002119\n",
      "3.28     0.002119\n",
      "3.13     0.002119\n",
      "2.88     0.002119\n",
      "4.35     0.002119\n",
      "3.03     0.002119\n",
      "19.86    0.002119\n",
      "7.42     0.002119\n",
      "9.74     0.002119\n",
      "4.55     0.002119\n",
      "3.22     0.002119\n",
      "2.13     0.002119\n",
      "2.36     0.002119\n",
      "98.52    0.002119\n",
      "6.01     0.002119\n",
      "13.10    0.002119\n",
      "11.24    0.002119\n",
      "3.49     0.002119\n",
      "16.10    0.002119\n",
      "15.08    0.002119\n",
      "5.74     0.002119\n",
      "3.52     0.002119\n",
      "7.28     0.002119\n",
      "4.52     0.002119\n",
      "6.08     0.002119\n",
      "6.99     0.002119\n",
      "1.55     0.002119\n",
      "11.94    0.002119\n",
      "9.60     0.002119\n",
      "3.53     0.002119\n",
      "5.24     0.002119\n",
      "1.34     0.002119\n",
      "8.35     0.002119\n",
      "6.15     0.002119\n",
      "9.01     0.002119\n",
      "8.67     0.002119\n",
      "4.78     0.002119\n",
      "5.16     0.002119\n",
      "2.48     0.002119\n",
      "3.62     0.002119\n",
      "10.91    0.002119\n",
      "7.05     0.002119\n",
      "11.53    0.002119\n",
      "42.14    0.002119\n",
      "4.51     0.002119\n",
      "2.93     0.002119\n",
      "5.17     0.002119\n",
      "7.89     0.002119\n",
      "8.71     0.002119\n",
      "1.66     0.002119\n",
      "2.10     0.002119\n",
      "5.55     0.002119\n",
      "6.22     0.002119\n",
      "6.53     0.002119\n",
      "4.16     0.002119\n",
      "9.84     0.002119\n",
      "8.56     0.002119\n",
      "38.35    0.002119\n",
      "3.12     0.002119\n",
      "4.98     0.002119\n",
      "8.63     0.002119\n",
      "5.92     0.002119\n",
      "9.36     0.002119\n",
      "5.37     0.002119\n",
      "6.13     0.002119\n",
      "4.84     0.002119\n",
      "9.62     0.002119\n",
      "13.55    0.002119\n",
      "6.30     0.002119\n",
      "4.38     0.002119\n",
      "14.60    0.002119\n",
      "Name: DBE_COMMITMENT, dtype: float64\n",
      "DBEGOALPERCENT \n",
      " 3.0     0.197034\n",
      "2.0     0.182203\n",
      "4.0     0.156780\n",
      "5.0     0.131356\n",
      "6.0     0.114407\n",
      "7.0     0.042373\n",
      "1.5     0.038136\n",
      "1.0     0.033898\n",
      "2.5     0.031780\n",
      "3.5     0.029661\n",
      "4.5     0.008475\n",
      "8.0     0.008475\n",
      "6.5     0.006356\n",
      "9.0     0.006356\n",
      "7.5     0.004237\n",
      "0.5     0.004237\n",
      "5.5     0.002119\n",
      "10.0    0.002119\n",
      "Name: DBEGOALPERCENT, dtype: float64\n",
      "DBE_Commit_Amount \n",
      " 5.011860e+04    0.002119\n",
      "5.167085e+04    0.002119\n",
      "1.548570e+05    0.002119\n",
      "5.137516e+04    0.002119\n",
      "1.439897e+04    0.002119\n",
      "7.000177e+04    0.002119\n",
      "1.483566e+05    0.002119\n",
      "3.007676e+04    0.002119\n",
      "1.182433e+05    0.002119\n",
      "1.056968e+05    0.002119\n",
      "1.762239e+04    0.002119\n",
      "3.610916e+04    0.002119\n",
      "1.341782e+06    0.002119\n",
      "2.190927e+05    0.002119\n",
      "1.860560e+05    0.002119\n",
      "4.569544e+04    0.002119\n",
      "5.270042e+04    0.002119\n",
      "8.208539e+04    0.002119\n",
      "8.654889e+04    0.002119\n",
      "6.026651e+04    0.002119\n",
      "1.451803e+04    0.002119\n",
      "9.179011e+03    0.002119\n",
      "1.303796e+06    0.002119\n",
      "6.996733e+04    0.002119\n",
      "1.805250e+05    0.002119\n",
      "2.598967e+04    0.002119\n",
      "7.484932e+04    0.002119\n",
      "7.120007e+05    0.002119\n",
      "1.638164e+04    0.002119\n",
      "4.465666e+04    0.002119\n",
      "2.050774e+05    0.002119\n",
      "1.677092e+05    0.002119\n",
      "1.597035e+04    0.002119\n",
      "4.103135e+05    0.002119\n",
      "2.184916e+04    0.002119\n",
      "2.653850e+06    0.002119\n",
      "5.736658e+04    0.002119\n",
      "1.664222e+04    0.002119\n",
      "7.553809e+04    0.002119\n",
      "6.309253e+05    0.002119\n",
      "6.846703e+05    0.002119\n",
      "5.217025e+04    0.002119\n",
      "5.867773e+05    0.002119\n",
      "8.481797e+04    0.002119\n",
      "3.988392e+04    0.002119\n",
      "5.642028e+04    0.002119\n",
      "2.885432e+04    0.002119\n",
      "2.680369e+05    0.002119\n",
      "3.116676e+05    0.002119\n",
      "1.279172e+04    0.002119\n",
      "6.357592e+04    0.002119\n",
      "4.854279e+04    0.002119\n",
      "9.098677e+05    0.002119\n",
      "2.957158e+04    0.002119\n",
      "6.455924e+04    0.002119\n",
      "1.738508e+05    0.002119\n",
      "1.836574e+04    0.002119\n",
      "2.590593e+05    0.002119\n",
      "5.055330e+04    0.002119\n",
      "5.269394e+04    0.002119\n",
      "2.215231e+04    0.002119\n",
      "1.532328e+05    0.002119\n",
      "1.791286e+04    0.002119\n",
      "1.906647e+04    0.002119\n",
      "6.342124e+05    0.002119\n",
      "2.051696e+05    0.002119\n",
      "5.785450e+05    0.002119\n",
      "2.972980e+04    0.002119\n",
      "4.354592e+04    0.002119\n",
      "7.646785e+04    0.002119\n",
      "3.282871e+04    0.002119\n",
      "2.172969e+04    0.002119\n",
      "9.713518e+05    0.002119\n",
      "2.475590e+04    0.002119\n",
      "1.756013e+05    0.002119\n",
      "3.060352e+05    0.002119\n",
      "7.949012e+04    0.002119\n",
      "2.062552e+06    0.002119\n",
      "1.084175e+05    0.002119\n",
      "4.432431e+04    0.002119\n",
      "1.187227e+05    0.002119\n",
      "2.126286e+04    0.002119\n",
      "1.317862e+05    0.002119\n",
      "6.055738e+04    0.002119\n",
      "1.330602e+04    0.002119\n",
      "4.125856e+05    0.002119\n",
      "2.251062e+04    0.002119\n",
      "1.250097e+05    0.002119\n",
      "2.285894e+05    0.002119\n",
      "2.302784e+04    0.002119\n",
      "1.439924e+06    0.002119\n",
      "1.357962e+06    0.002119\n",
      "3.375261e+04    0.002119\n",
      "1.711552e+05    0.002119\n",
      "2.817576e+04    0.002119\n",
      "4.773074e+05    0.002119\n",
      "4.445945e+04    0.002119\n",
      "7.043455e+04    0.002119\n",
      "3.299131e+04    0.002119\n",
      "7.250673e+04    0.002119\n",
      "5.549125e+04    0.002119\n",
      "7.726512e+04    0.002119\n",
      "1.513900e+05    0.002119\n",
      "7.647172e+04    0.002119\n",
      "2.117112e+04    0.002119\n",
      "3.472402e+05    0.002119\n",
      "1.149711e+05    0.002119\n",
      "1.396653e+04    0.002119\n",
      "3.058824e+04    0.002119\n",
      "1.785709e+05    0.002119\n",
      "1.784173e+05    0.002119\n",
      "8.308810e+02    0.002119\n",
      "4.418348e+05    0.002119\n",
      "3.391179e+04    0.002119\n",
      "1.199922e+05    0.002119\n",
      "6.144187e+04    0.002119\n",
      "1.801050e+05    0.002119\n",
      "9.488549e+03    0.002119\n",
      "6.020696e+04    0.002119\n",
      "1.939861e+05    0.002119\n",
      "1.452832e+05    0.002119\n",
      "2.286231e+04    0.002119\n",
      "4.529681e+03    0.002119\n",
      "2.266975e+04    0.002119\n",
      "5.797421e+03    0.002119\n",
      "1.717357e+04    0.002119\n",
      "3.601634e+04    0.002119\n",
      "2.503111e+05    0.002119\n",
      "1.607144e+05    0.002119\n",
      "9.840755e+04    0.002119\n",
      "2.913537e+04    0.002119\n",
      "5.532650e+04    0.002119\n",
      "7.894968e+05    0.002119\n",
      "4.449504e+04    0.002119\n",
      "3.026596e+05    0.002119\n",
      "5.921548e+04    0.002119\n",
      "4.128844e+04    0.002119\n",
      "6.800227e+04    0.002119\n",
      "1.032734e+06    0.002119\n",
      "3.741187e+04    0.002119\n",
      "1.972938e+04    0.002119\n",
      "2.210177e+05    0.002119\n",
      "4.925566e+05    0.002119\n",
      "1.865592e+04    0.002119\n",
      "7.283678e+05    0.002119\n",
      "5.643221e+04    0.002119\n",
      "6.089846e+05    0.002119\n",
      "2.609299e+05    0.002119\n",
      "2.973701e+05    0.002119\n",
      "6.612521e+04    0.002119\n",
      "1.072375e+06    0.002119\n",
      "5.374309e+04    0.002119\n",
      "1.737306e+04    0.002119\n",
      "3.859450e+05    0.002119\n",
      "3.702944e+04    0.002119\n",
      "3.767714e+04    0.002119\n",
      "4.256781e+04    0.002119\n",
      "2.036377e+05    0.002119\n",
      "2.199728e+04    0.002119\n",
      "9.812447e+04    0.002119\n",
      "9.215903e+04    0.002119\n",
      "2.141336e+04    0.002119\n",
      "3.138511e+05    0.002119\n",
      "1.607996e+05    0.002119\n",
      "8.123753e+04    0.002119\n",
      "1.510157e+04    0.002119\n",
      "3.613074e+05    0.002119\n",
      "1.709326e+04    0.002119\n",
      "1.843329e+05    0.002119\n",
      "1.575909e+04    0.002119\n",
      "1.732140e+05    0.002119\n",
      "5.168760e+05    0.002119\n",
      "1.598263e+06    0.002119\n",
      "1.206171e+05    0.002119\n",
      "1.715574e+05    0.002119\n",
      "1.741907e+04    0.002119\n",
      "2.127366e+05    0.002119\n",
      "1.583868e+06    0.002119\n",
      "2.550712e+04    0.002119\n",
      "1.138734e+05    0.002119\n",
      "1.208392e+05    0.002119\n",
      "4.314842e+04    0.002119\n",
      "5.886722e+04    0.002119\n",
      "1.472226e+05    0.002119\n",
      "4.083062e+05    0.002119\n",
      "1.193052e+05    0.002119\n",
      "4.959641e+04    0.002119\n",
      "1.702413e+04    0.002119\n",
      "9.388673e+03    0.002119\n",
      "4.173136e+04    0.002119\n",
      "1.865292e+05    0.002119\n",
      "6.899076e+04    0.002119\n",
      "3.532732e+04    0.002119\n",
      "1.164499e+05    0.002119\n",
      "1.579507e+05    0.002119\n",
      "5.536707e+04    0.002119\n",
      "1.892331e+05    0.002119\n",
      "3.251676e+04    0.002119\n",
      "7.509778e+04    0.002119\n",
      "5.685496e+04    0.002119\n",
      "7.326253e+05    0.002119\n",
      "2.604153e+05    0.002119\n",
      "1.107628e+05    0.002119\n",
      "1.942655e+04    0.002119\n",
      "2.433516e+04    0.002119\n",
      "5.338603e+03    0.002119\n",
      "2.566409e+04    0.002119\n",
      "7.771198e+04    0.002119\n",
      "7.713562e+03    0.002119\n",
      "1.592022e+05    0.002119\n",
      "4.639829e+04    0.002119\n",
      "2.492950e+05    0.002119\n",
      "1.046341e+05    0.002119\n",
      "9.316003e+05    0.002119\n",
      "4.418673e+04    0.002119\n",
      "2.646946e+04    0.002119\n",
      "2.484668e+04    0.002119\n",
      "9.532566e+04    0.002119\n",
      "2.174479e+04    0.002119\n",
      "4.705344e+04    0.002119\n",
      "1.497944e+04    0.002119\n",
      "1.112748e+05    0.002119\n",
      "8.566619e+04    0.002119\n",
      "6.276039e+04    0.002119\n",
      "9.612686e+04    0.002119\n",
      "5.979521e+05    0.002119\n",
      "6.845936e+03    0.002119\n",
      "3.424905e+04    0.002119\n",
      "8.032333e+04    0.002119\n",
      "3.725373e+05    0.002119\n",
      "6.443406e+04    0.002119\n",
      "3.030462e+04    0.002119\n",
      "3.957474e+04    0.002119\n",
      "5.807616e+04    0.002119\n",
      "2.131489e+04    0.002119\n",
      "8.154622e+05    0.002119\n",
      "8.867203e+04    0.002119\n",
      "6.457938e+05    0.002119\n",
      "7.348041e+04    0.002119\n",
      "9.683878e+03    0.002119\n",
      "4.939199e+04    0.002119\n",
      "5.858073e+04    0.002119\n",
      "1.777480e+05    0.002119\n",
      "1.833760e+05    0.002119\n",
      "5.582023e+04    0.002119\n",
      "8.737842e+05    0.002119\n",
      "2.181875e+04    0.002119\n",
      "8.713881e+04    0.002119\n",
      "1.971159e+05    0.002119\n",
      "8.551771e+05    0.002119\n",
      "1.273587e+04    0.002119\n",
      "6.758854e+04    0.002119\n",
      "7.548154e+04    0.002119\n",
      "8.674609e+04    0.002119\n",
      "1.143214e+04    0.002119\n",
      "1.011214e+05    0.002119\n",
      "2.178345e+04    0.002119\n",
      "4.853163e+05    0.002119\n",
      "3.369876e+05    0.002119\n",
      "3.705369e+05    0.002119\n",
      "8.180250e+05    0.002119\n",
      "2.399556e+06    0.002119\n",
      "5.603333e+04    0.002119\n",
      "3.069318e+04    0.002119\n",
      "2.037186e+05    0.002119\n",
      "1.245425e+05    0.002119\n",
      "1.054331e+06    0.002119\n",
      "5.468094e+04    0.002119\n",
      "6.885088e+04    0.002119\n",
      "5.755830e+04    0.002119\n",
      "2.272940e+05    0.002119\n",
      "9.896247e+04    0.002119\n",
      "4.491682e+04    0.002119\n",
      "1.582609e+04    0.002119\n",
      "3.143663e+05    0.002119\n",
      "3.892402e+05    0.002119\n",
      "6.888727e+04    0.002119\n",
      "1.809365e+04    0.002119\n",
      "2.189156e+04    0.002119\n",
      "6.046619e+04    0.002119\n",
      "8.191605e+04    0.002119\n",
      "7.995328e+04    0.002119\n",
      "7.365006e+04    0.002119\n",
      "3.538580e+05    0.002119\n",
      "1.266481e+05    0.002119\n",
      "2.439850e+04    0.002119\n",
      "2.180252e+04    0.002119\n",
      "1.558861e+05    0.002119\n",
      "4.088819e+05    0.002119\n",
      "2.073532e+05    0.002119\n",
      "8.199044e+04    0.002119\n",
      "4.980028e+04    0.002119\n",
      "4.803061e+04    0.002119\n",
      "1.020669e+05    0.002119\n",
      "3.000672e+04    0.002119\n",
      "1.855287e+05    0.002119\n",
      "5.994624e+04    0.002119\n",
      "2.817917e+04    0.002119\n",
      "1.348342e+04    0.002119\n",
      "9.595284e+04    0.002119\n",
      "1.700010e+05    0.002119\n",
      "3.880349e+04    0.002119\n",
      "5.407464e+04    0.002119\n",
      "2.780771e+04    0.002119\n",
      "3.866598e+04    0.002119\n",
      "2.509892e+05    0.002119\n",
      "4.342774e+05    0.002119\n",
      "1.528736e+04    0.002119\n",
      "4.866151e+04    0.002119\n",
      "5.189632e+04    0.002119\n",
      "4.975587e+05    0.002119\n",
      "4.462728e+04    0.002119\n",
      "2.323373e+05    0.002119\n",
      "6.139378e+04    0.002119\n",
      "9.210957e+05    0.002119\n",
      "5.980931e+04    0.002119\n",
      "4.498682e+04    0.002119\n",
      "2.881652e+04    0.002119\n",
      "6.003275e+04    0.002119\n",
      "1.867325e+05    0.002119\n",
      "2.082092e+04    0.002119\n",
      "8.260200e+04    0.002119\n",
      "1.281999e+05    0.002119\n",
      "3.027772e+05    0.002119\n",
      "2.780142e+05    0.002119\n",
      "3.065068e+04    0.002119\n",
      "4.334682e+04    0.002119\n",
      "5.569481e+05    0.002119\n",
      "3.964199e+05    0.002119\n",
      "1.194795e+05    0.002119\n",
      "2.602671e+04    0.002119\n",
      "4.190069e+05    0.002119\n",
      "2.397648e+04    0.002119\n",
      "6.903531e+04    0.002119\n",
      "1.979961e+04    0.002119\n",
      "8.961531e+04    0.002119\n",
      "2.386275e+04    0.002119\n",
      "2.715790e+04    0.002119\n",
      "7.795241e+04    0.002119\n",
      "4.554323e+05    0.002119\n",
      "1.748949e+05    0.002119\n",
      "3.091440e+05    0.002119\n",
      "1.136562e+06    0.002119\n",
      "1.037204e+05    0.002119\n",
      "8.642615e+04    0.002119\n",
      "1.180881e+04    0.002119\n",
      "1.939573e+04    0.002119\n",
      "1.273757e+06    0.002119\n",
      "3.488190e+04    0.002119\n",
      "2.846611e+05    0.002119\n",
      "5.701571e+04    0.002119\n",
      "2.625982e+04    0.002119\n",
      "9.376844e+04    0.002119\n",
      "3.632997e+04    0.002119\n",
      "1.044952e+05    0.002119\n",
      "2.042509e+05    0.002119\n",
      "5.271089e+04    0.002119\n",
      "5.476347e+04    0.002119\n",
      "1.075200e+06    0.002119\n",
      "2.065693e+04    0.002119\n",
      "2.712435e+04    0.002119\n",
      "4.453865e+05    0.002119\n",
      "3.865322e+04    0.002119\n",
      "1.440866e+06    0.002119\n",
      "1.158193e+05    0.002119\n",
      "5.775473e+05    0.002119\n",
      "4.673061e+05    0.002119\n",
      "2.239571e+05    0.002119\n",
      "3.115487e+05    0.002119\n",
      "1.606168e+06    0.002119\n",
      "1.426351e+05    0.002119\n",
      "3.732169e+04    0.002119\n",
      "4.730300e+04    0.002119\n",
      "7.104667e+04    0.002119\n",
      "2.253410e+04    0.002119\n",
      "9.674445e+05    0.002119\n",
      "3.860019e+04    0.002119\n",
      "1.501628e+05    0.002119\n",
      "1.468247e+04    0.002119\n",
      "9.656492e+04    0.002119\n",
      "1.344595e+05    0.002119\n",
      "1.247704e+06    0.002119\n",
      "2.252027e+04    0.002119\n",
      "3.264682e+04    0.002119\n",
      "1.242157e+05    0.002119\n",
      "6.481121e+04    0.002119\n",
      "2.985042e+05    0.002119\n",
      "5.198236e+04    0.002119\n",
      "4.914028e+05    0.002119\n",
      "5.821342e+05    0.002119\n",
      "1.757678e+04    0.002119\n",
      "5.203685e+04    0.002119\n",
      "1.129298e+05    0.002119\n",
      "2.076800e+05    0.002119\n",
      "4.949676e+04    0.002119\n",
      "1.279105e+05    0.002119\n",
      "9.269107e+05    0.002119\n",
      "4.185801e+06    0.002119\n",
      "2.676684e+05    0.002119\n",
      "4.157156e+03    0.002119\n",
      "4.403197e+04    0.002119\n",
      "3.420903e+05    0.002119\n",
      "1.716318e+04    0.002119\n",
      "1.123955e+04    0.002119\n",
      "2.456785e+04    0.002119\n",
      "7.831052e+04    0.002119\n",
      "7.333549e+04    0.002119\n",
      "2.248353e+04    0.002119\n",
      "1.226808e+06    0.002119\n",
      "1.192106e+05    0.002119\n",
      "2.957520e+04    0.002119\n",
      "1.765691e+04    0.002119\n",
      "9.276684e+04    0.002119\n",
      "1.221349e+04    0.002119\n",
      "2.766601e+05    0.002119\n",
      "3.209938e+04    0.002119\n",
      "5.541198e+04    0.002119\n",
      "1.033967e+05    0.002119\n",
      "1.113058e+06    0.002119\n",
      "2.400606e+05    0.002119\n",
      "1.946541e+05    0.002119\n",
      "1.319883e+05    0.002119\n",
      "3.182921e+04    0.002119\n",
      "1.343288e+04    0.002119\n",
      "3.345134e+04    0.002119\n",
      "4.974657e+04    0.002119\n",
      "7.121752e+04    0.002119\n",
      "3.139784e+04    0.002119\n",
      "1.663369e+04    0.002119\n",
      "1.381870e+04    0.002119\n",
      "1.945507e+05    0.002119\n",
      "4.862300e+05    0.002119\n",
      "2.601434e+04    0.002119\n",
      "2.623060e+05    0.002119\n",
      "1.721590e+04    0.002119\n",
      "3.586677e+04    0.002119\n",
      "4.167601e+05    0.002119\n",
      "7.927531e+04    0.002119\n",
      "1.610746e+04    0.002119\n",
      "1.804029e+05    0.002119\n",
      "2.742875e+05    0.002119\n",
      "2.115866e+04    0.002119\n",
      "5.286347e+04    0.002119\n",
      "1.031103e+06    0.002119\n",
      "1.864130e+05    0.002119\n",
      "6.775542e+04    0.002119\n",
      "1.963864e+04    0.002119\n",
      "7.608360e+03    0.002119\n",
      "1.028499e+05    0.002119\n",
      "1.978516e+05    0.002119\n",
      "1.174168e+05    0.002119\n",
      "1.518643e+04    0.002119\n",
      "1.093950e+05    0.002119\n",
      "7.443956e+04    0.002119\n",
      "3.265759e+04    0.002119\n",
      "1.523359e+04    0.002119\n",
      "1.808254e+05    0.002119\n",
      "3.658751e+04    0.002119\n",
      "2.521828e+04    0.002119\n",
      "2.532979e+06    0.002119\n",
      "4.987389e+04    0.002119\n",
      "1.182660e+05    0.002119\n",
      "1.563482e+04    0.002119\n",
      "1.835442e+04    0.002119\n",
      "4.742758e+05    0.002119\n",
      "3.036778e+04    0.002119\n",
      "5.368069e+05    0.002119\n",
      "3.429085e+04    0.002119\n",
      "6.791190e+03    0.002119\n",
      "6.759163e+05    0.002119\n",
      "2.695567e+04    0.002119\n",
      "2.995906e+05    0.002119\n",
      "Name: DBE_Commit_Amount, dtype: float64\n",
      "DBE_Goal_Amount \n",
      " 4.689683e+04    0.002119\n",
      "1.355800e+05    0.002119\n",
      "7.374814e+05    0.002119\n",
      "1.116448e+04    0.002119\n",
      "3.905904e+04    0.002119\n",
      "4.337451e+05    0.002119\n",
      "7.712423e+04    0.002119\n",
      "4.052811e+04    0.002119\n",
      "2.129153e+04    0.002119\n",
      "7.401750e+04    0.002119\n",
      "5.675304e+04    0.002119\n",
      "3.717451e+04    0.002119\n",
      "3.899952e+04    0.002119\n",
      "1.644276e+04    0.002119\n",
      "2.632195e+04    0.002119\n",
      "1.701084e+05    0.002119\n",
      "3.579130e+04    0.002119\n",
      "1.465998e+04    0.002119\n",
      "5.991634e+04    0.002119\n",
      "4.219867e+04    0.002119\n",
      "1.955606e+05    0.002119\n",
      "3.255659e+04    0.002119\n",
      "1.291610e+05    0.002119\n",
      "1.651070e+04    0.002119\n",
      "4.748339e+05    0.002119\n",
      "1.489099e+06    0.002119\n",
      "1.609847e+04    0.002119\n",
      "8.699779e+05    0.002119\n",
      "3.322919e+04    0.002119\n",
      "2.512177e+05    0.002119\n",
      "6.118320e+04    0.002119\n",
      "2.268247e+06    0.002119\n",
      "6.202000e+03    0.002119\n",
      "3.000672e+04    0.002119\n",
      "1.152444e+04    0.002119\n",
      "4.736121e+05    0.002119\n",
      "1.447893e+04    0.002119\n",
      "1.105255e+05    0.002119\n",
      "1.369625e+04    0.002119\n",
      "8.652977e+04    0.002119\n",
      "7.386850e+04    0.002119\n",
      "1.279478e+05    0.002119\n",
      "4.635879e+04    0.002119\n",
      "3.249559e+04    0.002119\n",
      "3.741063e+04    0.002119\n",
      "3.750468e+04    0.002119\n",
      "9.258000e+04    0.002119\n",
      "4.063624e+04    0.002119\n",
      "1.786022e+05    0.002119\n",
      "2.171841e+05    0.002119\n",
      "2.103319e+04    0.002119\n",
      "5.974051e+04    0.002119\n",
      "1.678298e+05    0.002119\n",
      "1.342564e+04    0.002119\n",
      "2.060606e+05    0.002119\n",
      "2.392856e+04    0.002119\n",
      "9.140146e+03    0.002119\n",
      "3.379994e+04    0.002119\n",
      "4.144712e+04    0.002119\n",
      "1.012184e+04    0.002119\n",
      "1.203729e+04    0.002119\n",
      "1.776547e+04    0.002119\n",
      "1.044348e+04    0.002119\n",
      "1.098887e+04    0.002119\n",
      "9.012520e+03    0.002119\n",
      "3.747039e+05    0.002119\n",
      "2.091852e+04    0.002119\n",
      "2.718428e+04    0.002119\n",
      "4.941763e+04    0.002119\n",
      "2.904648e+04    0.002119\n",
      "3.538432e+04    0.002119\n",
      "1.619680e+04    0.002119\n",
      "1.787191e+05    0.002119\n",
      "6.594995e+04    0.002119\n",
      "4.771455e+04    0.002119\n",
      "2.595045e+04    0.002119\n",
      "6.224276e+05    0.002119\n",
      "2.032914e+04    0.002119\n",
      "4.431260e+04    0.002119\n",
      "1.622583e+04    0.002119\n",
      "4.125856e+05    0.002119\n",
      "4.591297e+05    0.002119\n",
      "2.577198e+05    0.002119\n",
      "1.960358e+04    0.002119\n",
      "5.768897e+05    0.002119\n",
      "2.392206e+04    0.002119\n",
      "5.663467e+04    0.002119\n",
      "4.498682e+04    0.002119\n",
      "2.051696e+05    0.002119\n",
      "1.148741e+05    0.002119\n",
      "2.500637e+05    0.002119\n",
      "1.424676e+04    0.002119\n",
      "3.537412e+03    0.002119\n",
      "1.043058e+04    0.002119\n",
      "2.007380e+05    0.002119\n",
      "7.766037e+04    0.002119\n",
      "1.006019e+04    0.002119\n",
      "2.338538e+05    0.002119\n",
      "8.218796e+04    0.002119\n",
      "4.748653e+04    0.002119\n",
      "1.035166e+05    0.002119\n",
      "1.582171e+04    0.002119\n",
      "2.356552e+04    0.002119\n",
      "4.255350e+04    0.002119\n",
      "4.293375e+04    0.002119\n",
      "7.814924e+04    0.002119\n",
      "5.737736e+04    0.002119\n",
      "3.192708e+04    0.002119\n",
      "5.108908e+03    0.002119\n",
      "1.149928e+05    0.002119\n",
      "1.848944e+04    0.002119\n",
      "5.455763e+04    0.002119\n",
      "1.896821e+05    0.002119\n",
      "1.862273e+04    0.002119\n",
      "1.483082e+04    0.002119\n",
      "1.758599e+04    0.002119\n",
      "7.312656e+04    0.002119\n",
      "3.113813e+04    0.002119\n",
      "3.238975e+05    0.002119\n",
      "1.055964e+05    0.002119\n",
      "1.672599e+04    0.002119\n",
      "6.393009e+04    0.002119\n",
      "5.829820e+04    0.002119\n",
      "6.714159e+04    0.002119\n",
      "1.017724e+05    0.002119\n",
      "4.096853e+05    0.002119\n",
      "1.503478e+05    0.002119\n",
      "7.878288e+04    0.002119\n",
      "5.565229e+03    0.002119\n",
      "6.264857e+04    0.002119\n",
      "5.203003e+04    0.002119\n",
      "1.723745e+04    0.002119\n",
      "9.426498e+04    0.002119\n",
      "2.001103e+04    0.002119\n",
      "2.048471e+04    0.002119\n",
      "3.406525e+04    0.002119\n",
      "2.702279e+04    0.002119\n",
      "5.476347e+04    0.002119\n",
      "1.977530e+04    0.002119\n",
      "1.239708e+04    0.002119\n",
      "9.652500e+04    0.002119\n",
      "1.094975e+05    0.002119\n",
      "2.291188e+04    0.002119\n",
      "1.114767e+05    0.002119\n",
      "3.943283e+05    0.002119\n",
      "3.131890e+04    0.002119\n",
      "1.157661e+05    0.002119\n",
      "8.664464e+04    0.002119\n",
      "5.454600e+04    0.002119\n",
      "8.762059e+04    0.002119\n",
      "8.211577e+05    0.002119\n",
      "7.993766e+04    0.002119\n",
      "6.660625e+04    0.002119\n",
      "3.996664e+03    0.002119\n",
      "7.658944e+04    0.002119\n",
      "3.302450e+05    0.002119\n",
      "1.234075e+05    0.002119\n",
      "1.497772e+04    0.002119\n",
      "2.120726e+04    0.002119\n",
      "1.899618e+06    0.002119\n",
      "1.535485e+04    0.002119\n",
      "2.278299e+05    0.002119\n",
      "1.635718e+04    0.002119\n",
      "1.916263e+05    0.002119\n",
      "3.516915e+04    0.002119\n",
      "2.443565e+04    0.002119\n",
      "9.343863e+04    0.002119\n",
      "4.481604e+04    0.002119\n",
      "1.843329e+05    0.002119\n",
      "4.925403e+04    0.002119\n",
      "5.233070e+05    0.002119\n",
      "3.304251e+04    0.002119\n",
      "5.793312e+04    0.002119\n",
      "2.465517e+05    0.002119\n",
      "1.198277e+04    0.002119\n",
      "4.487262e+04    0.002119\n",
      "3.649100e+04    0.002119\n",
      "9.348476e+04    0.002119\n",
      "5.359487e+04    0.002119\n",
      "6.746341e+04    0.002119\n",
      "2.393547e+05    0.002119\n",
      "1.028823e+05    0.002119\n",
      "1.009380e+04    0.002119\n",
      "4.157156e+03    0.002119\n",
      "8.725259e+03    0.002119\n",
      "1.528010e+05    0.002119\n",
      "2.466466e+04    0.002119\n",
      "5.807616e+04    0.002119\n",
      "2.598955e+05    0.002119\n",
      "1.116512e+04    0.002119\n",
      "1.359409e+05    0.002119\n",
      "7.771198e+04    0.002119\n",
      "6.718365e+05    0.002119\n",
      "2.842270e+05    0.002119\n",
      "1.481229e+04    0.002119\n",
      "1.849158e+04    0.002119\n",
      "1.660895e+04    0.002119\n",
      "1.018948e+04    0.002119\n",
      "9.877166e+03    0.002119\n",
      "3.473395e+05    0.002119\n",
      "1.469749e+05    0.002119\n",
      "1.931655e+04    0.002119\n",
      "2.026332e+04    0.002119\n",
      "6.899076e+04    0.002119\n",
      "5.921996e+04    0.002119\n",
      "7.588599e+04    0.002119\n",
      "8.032333e+04    0.002119\n",
      "1.874958e+04    0.002119\n",
      "2.115338e+05    0.002119\n",
      "1.969578e+04    0.002119\n",
      "3.269750e+05    0.002119\n",
      "1.247802e+04    0.002119\n",
      "3.189344e+04    0.002119\n",
      "2.616761e+05    0.002119\n",
      "2.382076e+04    0.002119\n",
      "3.126825e+04    0.002119\n",
      "1.698308e+05    0.002119\n",
      "4.935120e+04    0.002119\n",
      "2.411022e+04    0.002119\n",
      "7.039800e+05    0.002119\n",
      "8.109724e+03    0.002119\n",
      "1.358462e+04    0.002119\n",
      "1.732140e+05    0.002119\n",
      "1.269038e+04    0.002119\n",
      "4.894395e+04    0.002119\n",
      "2.559083e+04    0.002119\n",
      "7.726498e+03    0.002119\n",
      "1.402078e+06    0.002119\n",
      "1.422363e+04    0.002119\n",
      "7.057650e+04    0.002119\n",
      "2.545223e+04    0.002119\n",
      "1.073579e+04    0.002119\n",
      "8.566619e+04    0.002119\n",
      "4.849500e+05    0.002119\n",
      "9.314618e+04    0.002119\n",
      "7.227567e+03    0.002119\n",
      "9.013718e+05    0.002119\n",
      "6.612142e+05    0.002119\n",
      "5.601403e+04    0.002119\n",
      "1.597035e+04    0.002119\n",
      "8.737842e+05    0.002119\n",
      "6.366238e+05    0.002119\n",
      "5.809265e+04    0.002119\n",
      "3.352035e+04    0.002119\n",
      "1.343288e+04    0.002119\n",
      "8.509800e+04    0.002119\n",
      "1.564938e+05    0.002119\n",
      "9.934219e+04    0.002119\n",
      "5.705650e+05    0.002119\n",
      "1.873725e+05    0.002119\n",
      "1.674604e+04    0.002119\n",
      "8.351904e+05    0.002119\n",
      "4.303949e+04    0.002119\n",
      "3.419411e+04    0.002119\n",
      "1.326653e+04    0.002119\n",
      "1.068759e+05    0.002119\n",
      "1.398899e+06    0.002119\n",
      "1.149508e+04    0.002119\n",
      "1.013268e+06    0.002119\n",
      "2.031869e+05    0.002119\n",
      "8.180250e+05    0.002119\n",
      "1.284139e+05    0.002119\n",
      "1.100111e+04    0.002119\n",
      "2.448855e+04    0.002119\n",
      "4.099909e+03    0.002119\n",
      "1.212166e+04    0.002119\n",
      "3.741133e+05    0.002119\n",
      "1.509121e+05    0.002119\n",
      "3.774169e+04    0.002119\n",
      "6.968858e+04    0.002119\n",
      "2.402598e+04    0.002119\n",
      "7.973990e+03    0.002119\n",
      "1.577179e+05    0.002119\n",
      "8.420895e+04    0.002119\n",
      "3.322428e+03    0.002119\n",
      "2.258789e+04    0.002119\n",
      "3.232358e+04    0.002119\n",
      "3.346361e+04    0.002119\n",
      "4.882227e+04    0.002119\n",
      "4.322747e+04    0.002119\n",
      "2.304690e+04    0.002119\n",
      "1.433191e+04    0.002119\n",
      "4.849732e+04    0.002119\n",
      "1.211363e+06    0.002119\n",
      "6.725535e+05    0.002119\n",
      "8.321324e+04    0.002119\n",
      "1.340565e+04    0.002119\n",
      "8.890846e+04    0.002119\n",
      "2.571463e+04    0.002119\n",
      "1.161494e+05    0.002119\n",
      "8.340491e+04    0.002119\n",
      "2.100026e+04    0.002119\n",
      "1.429405e+05    0.002119\n",
      "1.358659e+04    0.002119\n",
      "2.311357e+05    0.002119\n",
      "8.737980e+03    0.002119\n",
      "2.115866e+04    0.002119\n",
      "1.703369e+04    0.002119\n",
      "4.308549e+04    0.002119\n",
      "4.462547e+04    0.002119\n",
      "2.478411e+05    0.002119\n",
      "3.539009e+04    0.002119\n",
      "9.166688e+05    0.002119\n",
      "1.526223e+05    0.002119\n",
      "2.490694e+04    0.002119\n",
      "1.830059e+05    0.002119\n",
      "4.779165e+04    0.002119\n",
      "1.160551e+04    0.002119\n",
      "1.221005e+05    0.002119\n",
      "2.876070e+05    0.002119\n",
      "1.573782e+06    0.002119\n",
      "3.763979e+04    0.002119\n",
      "2.817917e+04    0.002119\n",
      "7.631054e+04    0.002119\n",
      "7.752149e+04    0.002119\n",
      "3.705803e+05    0.002119\n",
      "1.323550e+06    0.002119\n",
      "1.275091e+05    0.002119\n",
      "6.329475e+04    0.002119\n",
      "5.176340e+05    0.002119\n",
      "1.825898e+04    0.002119\n",
      "8.260200e+04    0.002119\n",
      "1.035769e+04    0.002119\n",
      "5.318382e+04    0.002119\n",
      "1.940879e+05    0.002119\n",
      "1.422365e+05    0.002119\n",
      "3.068104e+04    0.002119\n",
      "3.091927e+04    0.002119\n",
      "3.865322e+04    0.002119\n",
      "2.492950e+05    0.002119\n",
      "1.564797e+05    0.002119\n",
      "5.693298e+03    0.002119\n",
      "2.838924e+05    0.002119\n",
      "9.508635e+03    0.002119\n",
      "7.162549e+04    0.002119\n",
      "2.746763e+04    0.002119\n",
      "3.603873e+05    0.002119\n",
      "3.896050e+05    0.002119\n",
      "1.055662e+04    0.002119\n",
      "6.042350e+04    0.002119\n",
      "1.590152e+04    0.002119\n",
      "1.869296e+03    0.002119\n",
      "5.578654e+04    0.002119\n",
      "1.784173e+05    0.002119\n",
      "1.170648e+04    0.002119\n",
      "3.782016e+04    0.002119\n",
      "6.316269e+03    0.002119\n",
      "1.466457e+05    0.002119\n",
      "7.838500e+02    0.002119\n",
      "2.126354e+05    0.002119\n",
      "1.839259e+05    0.002119\n",
      "1.780291e+05    0.002119\n",
      "5.623101e+05    0.002119\n",
      "1.449623e+04    0.002119\n",
      "2.276829e+04    0.002119\n",
      "3.500268e+04    0.002119\n",
      "1.068540e+04    0.002119\n",
      "4.204569e+04    0.002119\n",
      "1.177722e+05    0.002119\n",
      "1.908498e+04    0.002119\n",
      "1.338998e+04    0.002119\n",
      "2.985042e+05    0.002119\n",
      "6.481121e+04    0.002119\n",
      "1.177894e+04    0.002119\n",
      "1.185694e+05    0.002119\n",
      "4.657373e+05    0.002119\n",
      "6.053050e+03    0.002119\n",
      "1.110527e+05    0.002119\n",
      "1.663420e+05    0.002119\n",
      "1.175499e+04    0.002119\n",
      "1.501297e+04    0.002119\n",
      "3.467438e+05    0.002119\n",
      "2.316772e+04    0.002119\n",
      "7.199924e+04    0.002119\n",
      "3.774675e+04    0.002119\n",
      "1.314296e+04    0.002119\n",
      "8.391876e+03    0.002119\n",
      "1.283443e+05    0.002119\n",
      "7.722804e+04    0.002119\n",
      "3.341785e+05    0.002119\n",
      "9.423082e+03    0.002119\n",
      "1.495388e+05    0.002119\n",
      "1.145579e+04    0.002119\n",
      "5.879159e+04    0.002119\n",
      "1.430975e+04    0.002119\n",
      "2.451712e+03    0.002119\n",
      "3.206140e+04    0.002119\n",
      "4.668479e+04    0.002119\n",
      "7.260189e+04    0.002119\n",
      "1.605402e+05    0.002119\n",
      "1.852200e+05    0.002119\n",
      "1.897246e+05    0.002119\n",
      "2.980745e+05    0.002119\n",
      "1.720704e+04    0.002119\n",
      "2.484058e+04    0.002119\n",
      "8.774458e+03    0.002119\n",
      "2.163226e+04    0.002119\n",
      "3.935509e+05    0.002119\n",
      "3.847362e+04    0.002119\n",
      "5.979675e+04    0.002119\n",
      "7.459483e+04    0.002119\n",
      "1.119941e+06    0.002119\n",
      "9.921212e+04    0.002119\n",
      "1.410517e+05    0.002119\n",
      "7.940265e+04    0.002119\n",
      "1.575310e+05    0.002119\n",
      "7.881484e+04    0.002119\n",
      "2.475313e+04    0.002119\n",
      "1.069857e+05    0.002119\n",
      "1.692051e+05    0.002119\n",
      "8.154622e+05    0.002119\n",
      "9.681247e+05    0.002119\n",
      "3.194390e+05    0.002119\n",
      "1.360650e+05    0.002119\n",
      "7.112191e+05    0.002119\n",
      "1.886141e+04    0.002119\n",
      "5.368069e+05    0.002119\n",
      "4.045288e+04    0.002119\n",
      "1.901184e+04    0.002119\n",
      "3.352908e+04    0.002119\n",
      "2.087930e+04    0.002119\n",
      "2.434852e+05    0.002119\n",
      "4.758093e+05    0.002119\n",
      "5.856060e+05    0.002119\n",
      "1.187116e+05    0.002119\n",
      "1.238503e+04    0.002119\n",
      "1.458713e+04    0.002119\n",
      "1.946541e+05    0.002119\n",
      "4.913068e+03    0.002119\n",
      "1.465731e+04    0.002119\n",
      "6.980399e+05    0.002119\n",
      "4.183404e+04    0.002119\n",
      "1.405905e+05    0.002119\n",
      "8.771147e+04    0.002119\n",
      "6.398546e+05    0.002119\n",
      "1.101203e+05    0.002119\n",
      "1.478039e+04    0.002119\n",
      "7.438057e+04    0.002119\n",
      "5.784402e+04    0.002119\n",
      "4.184876e+04    0.002119\n",
      "3.968729e+03    0.002119\n",
      "7.984507e+03    0.002119\n",
      "4.134525e+05    0.002119\n",
      "2.999804e+04    0.002119\n",
      "2.235554e+05    0.002119\n",
      "1.161916e+05    0.002119\n",
      "1.832694e+04    0.002119\n",
      "2.022110e+06    0.002119\n",
      "1.761866e+05    0.002119\n",
      "2.562824e+04    0.002119\n",
      "2.702686e+06    0.002119\n",
      "3.133219e+05    0.002119\n",
      "1.465962e+04    0.002119\n",
      "1.761305e+04    0.002119\n",
      "1.885698e+04    0.002119\n",
      "1.599996e+05    0.002119\n",
      "1.212940e+04    0.002119\n",
      "2.618332e+04    0.002119\n",
      "1.411225e+04    0.002119\n",
      "1.556990e+05    0.002119\n",
      "5.057808e+04    0.002119\n",
      "9.225351e+04    0.002119\n",
      "9.294683e+03    0.002119\n",
      "9.826182e+05    0.002119\n",
      "2.789588e+05    0.002119\n",
      "4.483164e+04    0.002119\n",
      "2.223117e+04    0.002119\n",
      "1.296683e+05    0.002119\n",
      "1.567472e+05    0.002119\n",
      "2.461524e+04    0.002119\n",
      "3.949545e+04    0.002119\n",
      "2.068592e+05    0.002119\n",
      "Name: DBE_Goal_Amount, dtype: float64\n",
      "TOT_BID_AMT \n",
      " 968210.81      0.002119\n",
      "6196358.20     0.002119\n",
      "580929.64      0.002119\n",
      "218131.48      0.002119\n",
      "2299692.12     0.002119\n",
      "2486494.24     0.002119\n",
      "961840.42      0.002119\n",
      "5579176.11     0.002119\n",
      "4671931.62     0.002119\n",
      "4793449.19     0.002119\n",
      "8269050.20     0.002119\n",
      "1857945.35     0.002119\n",
      "865014.99      0.002119\n",
      "1045851.00     0.002119\n",
      "631626.94      0.002119\n",
      "26470991.89    0.002119\n",
      "1318999.08     0.002119\n",
      "723946.33      0.002119\n",
      "2165175.38     0.002119\n",
      "2800701.30     0.002119\n",
      "428667.40      0.002119\n",
      "3883018.36     0.002119\n",
      "1193758.18     0.002119\n",
      "2675669.70     0.002119\n",
      "654583.10      0.002119\n",
      "3447653.96     0.002119\n",
      "670282.35      0.002119\n",
      "1526210.76     0.002119\n",
      "763729.20      0.002119\n",
      "684812.57      0.002119\n",
      "772257.23      0.002119\n",
      "2161373.46     0.002119\n",
      "619575.15      0.002119\n",
      "1845070.21     0.002119\n",
      "1233233.00     0.002119\n",
      "2279662.48     0.002119\n",
      "9666421.56     0.002119\n",
      "1216366.50     0.002119\n",
      "11577983.09    0.002119\n",
      "1043964.78     0.002119\n",
      "6604900.00     0.002119\n",
      "521981.64      0.002119\n",
      "1914735.92     0.002119\n",
      "447762.55      0.002119\n",
      "527831.15      0.002119\n",
      "1051142.26     0.002119\n",
      "28887284.36    0.002119\n",
      "199833.20      0.002119\n",
      "2163244.25     0.002119\n",
      "4252708.40     0.002119\n",
      "419593.80      0.002119\n",
      "732865.60      0.002119\n",
      "854852.70      0.002119\n",
      "514292.70      0.002119\n",
      "8097436.74     0.002119\n",
      "679607.00      0.002119\n",
      "3758695.23     0.002119\n",
      "703292.69      0.002119\n",
      "8930111.47     0.002119\n",
      "2789326.82     0.002119\n",
      "793745.81      0.002119\n",
      "609343.06      0.002119\n",
      "2160373.50     0.002119\n",
      "253807.50      0.002119\n",
      "795076.00      0.002119\n",
      "1287134.01     0.002119\n",
      "261087.00      0.002119\n",
      "1115636.70     0.002119\n",
      "536789.41      0.002119\n",
      "740614.65      0.002119\n",
      "1044665.10     0.002119\n",
      "11633998.55    0.002119\n",
      "504689.80      0.002119\n",
      "1997211.32     0.002119\n",
      "1242029.25     0.002119\n",
      "16887802.75    0.002119\n",
      "2085122.77     0.002119\n",
      "2077439.04     0.002119\n",
      "658048.73      0.002119\n",
      "2674642.51     0.002119\n",
      "5233521.39     0.002119\n",
      "3970132.62     0.002119\n",
      "14789543.93    0.002119\n",
      "2811811.00     0.002119\n",
      "1117635.94     0.002119\n",
      "752929.65      0.002119\n",
      "24818323.48    0.002119\n",
      "640706.10      0.002119\n",
      "844998.39      0.002119\n",
      "1231014.10     0.002119\n",
      "7871018.16     0.002119\n",
      "3797165.70     0.002119\n",
      "392071.54      0.002119\n",
      "543195.50      0.002119\n",
      "8174375.22     0.002119\n",
      "156770.00      0.002119\n",
      "12986834.47    0.002119\n",
      "948241.80      0.002119\n",
      "9496678.77     0.002119\n",
      "11411300.49    0.002119\n",
      "616314.74      0.002119\n",
      "619645.56      0.002119\n",
      "5352913.29     0.002119\n",
      "1754229.48     0.002119\n",
      "4254900.00     0.002119\n",
      "574581.56      0.002119\n",
      "610891.37      0.002119\n",
      "5288345.67     0.002119\n",
      "2304689.90     0.002119\n",
      "2115063.70     0.002119\n",
      "2868868.00     0.002119\n",
      "767026.05      0.002119\n",
      "3820024.48     0.002119\n",
      "2498299.76     0.002119\n",
      "3086000.00     0.002119\n",
      "366295.75      0.002119\n",
      "2470881.66     0.002119\n",
      "9950140.63     0.002119\n",
      "17486469.72    0.002119\n",
      "750648.40      0.002119\n",
      "1645040.04     0.002119\n",
      "1224427.70     0.002119\n",
      "2355443.81     0.002119\n",
      "8120772.36     0.002119\n",
      "7368368.15     0.002119\n",
      "11931291.82    0.002119\n",
      "23314990.09    0.002119\n",
      "622673.50      0.002119\n",
      "1124670.55     0.002119\n",
      "8891822.53     0.002119\n",
      "2973621.13     0.002119\n",
      "1778169.29     0.002119\n",
      "1316514.94     0.002119\n",
      "5934304.44     0.002119\n",
      "715562.48      0.002119\n",
      "3876074.28     0.002119\n",
      "986999.40      0.002119\n",
      "7207745.51     0.002119\n",
      "1891767.92     0.002119\n",
      "515099.88      0.002119\n",
      "6036484.89     0.002119\n",
      "8335457.85     0.002119\n",
      "20189377.21    0.002119\n",
      "767742.58      0.002119\n",
      "532344.97      0.002119\n",
      "1265895.00     0.002119\n",
      "2039439.95     0.002119\n",
      "6170376.91     0.002119\n",
      "509474.00      0.002119\n",
      "13420172.08    0.002119\n",
      "3686657.50     0.002119\n",
      "1998441.45     0.002119\n",
      "598213.90      0.002119\n",
      "838008.67      0.002119\n",
      "704522.00      0.002119\n",
      "471424.61      0.002119\n",
      "1393771.59     0.002119\n",
      "6572138.78     0.002119\n",
      "697284.12      0.002119\n",
      "442217.69      0.002119\n",
      "5717619.96     0.002119\n",
      "3389500.01     0.002119\n",
      "412834.49      0.002119\n",
      "470408.30      0.002119\n",
      "4967907.90     0.002119\n",
      "974988.02      0.002119\n",
      "1167119.73     0.002119\n",
      "10314639.29    0.002119\n",
      "2105223.85     0.002119\n",
      "5793312.49     0.002119\n",
      "567789.60      0.002119\n",
      "677638.10      0.002119\n",
      "15999153.37    0.002119\n",
      "3043565.50     0.002119\n",
      "5222031.23     0.002119\n",
      "659176.60      0.002119\n",
      "4515264.45     0.002119\n",
      "6417215.53     0.002119\n",
      "1494918.70     0.002119\n",
      "8373922.00     0.002119\n",
      "7097309.01     0.002119\n",
      "3897562.82     0.002119\n",
      "3793643.00     0.002119\n",
      "384147.90      0.002119\n",
      "1772793.92     0.002119\n",
      "2516112.74     0.002119\n",
      "836299.75      0.002119\n",
      "235827.50      0.002119\n",
      "7762288.72     0.002119\n",
      "401243.10      0.002119\n",
      "5018449.68     0.002119\n",
      "1526798.30     0.002119\n",
      "620757.75      0.002119\n",
      "558201.50      0.002119\n",
      "8354463.63     0.002119\n",
      "405645.84      0.002119\n",
      "9934218.57     0.002119\n",
      "670679.47      0.002119\n",
      "404920.12      0.002119\n",
      "16135411.34    0.002119\n",
      "1480350.09     0.002119\n",
      "1499901.85     0.002119\n",
      "2344841.28     0.002119\n",
      "1696206.00     0.002119\n",
      "722756.74      0.002119\n",
      "1329167.65     0.002119\n",
      "74771.86       0.002119\n",
      "3893082.45     0.002119\n",
      "61292.80       0.002119\n",
      "2570807.78     0.002119\n",
      "3196504.49     0.002119\n",
      "1057932.89     0.002119\n",
      "534270.08      0.002119\n",
      "1064235.88     0.002119\n",
      "12585000.00    0.002119\n",
      "7985973.99     0.002119\n",
      "450626.00      0.002119\n",
      "5197910.14     0.002119\n",
      "1952952.00     0.002119\n",
      "292481.94      0.002119\n",
      "12392055.21    0.002119\n",
      "813914.87      0.002119\n",
      "924578.85      0.002119\n",
      "2315321.70     0.002119\n",
      "1158969.64     0.002119\n",
      "332242.80      0.002119\n",
      "675569.70      0.002119\n",
      "791442.22      0.002119\n",
      "1411530.00     0.002119\n",
      "1196103.11     0.002119\n",
      "15277813.47    0.002119\n",
      "706908.68      0.002119\n",
      "11209225.00    0.002119\n",
      "8809330.54     0.002119\n",
      "1063114.55     0.002119\n",
      "679231.15      0.002119\n",
      "235577.04      0.002119\n",
      "2444095.65     0.002119\n",
      "409990.88      0.002119\n",
      "266150.25      0.002119\n",
      "1643759.20     0.002119\n",
      "1000076.68     0.002119\n",
      "3142165.98     0.002119\n",
      "2385727.54     0.002119\n",
      "1000551.35     0.002119\n",
      "3434343.32     0.002119\n",
      "3892474.05     0.002119\n",
      "803674.00      0.002119\n",
      "550356.58      0.002119\n",
      "11730824.57    0.002119\n",
      "1577178.70     0.002119\n",
      "1042275.00     0.002119\n",
      "291266.00      0.002119\n",
      "1254659.76     0.002119\n",
      "851631.18      0.002119\n",
      "6387542.40     0.002119\n",
      "6653678.92     0.002119\n",
      "286638.19      0.002119\n",
      "5778393.15     0.002119\n",
      "569207.25      0.002119\n",
      "1696815.65     0.002119\n",
      "822138.00      0.002119\n",
      "1726385.79     0.002119\n",
      "2220342.40     0.002119\n",
      "2617051.64     0.002119\n",
      "1627408.86     0.002119\n",
      "491306.83      0.002119\n",
      "3989244.87     0.002119\n",
      "954248.90      0.002119\n",
      "853027.60      0.002119\n",
      "2844730.39     0.002119\n",
      "20029682.58    0.002119\n",
      "965827.37      0.002119\n",
      "984789.18      0.002119\n",
      "2718817.00     0.002119\n",
      "2608230.00     0.002119\n",
      "897452.33      0.002119\n",
      "704479.30      0.002119\n",
      "121061.00      0.002119\n",
      "3572991.51     0.002119\n",
      "1818200.00     0.002119\n",
      "812724.80      0.002119\n",
      "3052446.98     0.002119\n",
      "2151974.59     0.002119\n",
      "966415.37      0.002119\n",
      "1101417.00     0.002119\n",
      "357743.67      0.002119\n",
      "1445088.08     0.002119\n",
      "1077452.73     0.002119\n",
      "402461.74      0.002119\n",
      "894782.50      0.002119\n",
      "1363940.80     0.002119\n",
      "8935954.19     0.002119\n",
      "556522.90      0.002119\n",
      "2202406.41     0.002119\n",
      "606469.83      0.002119\n",
      "38609796.04    0.002119\n",
      "3396616.71     0.002119\n",
      "1953731.01     0.002119\n",
      "17475683.31    0.002119\n",
      "337394.70      0.002119\n",
      "10488903.77    0.002119\n",
      "1179477.28     0.002119\n",
      "1935823.45     0.002119\n",
      "1616577.42     0.002119\n",
      "5852647.85     0.002119\n",
      "13606502.62    0.002119\n",
      "978879.00      0.002119\n",
      "207857.80      0.002119\n",
      "1285422.58     0.002119\n",
      "1194791.37     0.002119\n",
      "6324152.87     0.002119\n",
      "4016166.74     0.002119\n",
      "892665.41      0.002119\n",
      "830447.39      0.002119\n",
      "6558995.07     0.002119\n",
      "9699000.00     0.002119\n",
      "7876548.52     0.002119\n",
      "37992362.93    0.002119\n",
      "950863.45      0.002119\n",
      "15022863.20    0.002119\n",
      "366490.45      0.002119\n",
      "572789.33      0.002119\n",
      "438098.61      0.002119\n",
      "5144114.00     0.002119\n",
      "809066.74      0.002119\n",
      "1758457.36     0.002119\n",
      "3450554.26     0.002119\n",
      "415933.94      0.002119\n",
      "1897149.76     0.002119\n",
      "7475813.69     0.002119\n",
      "4322275.23     0.002119\n",
      "14964530.44    0.002119\n",
      "3693425.16     0.002119\n",
      "2494042.00     0.002119\n",
      "1815047.30     0.002119\n",
      "1369086.65     0.002119\n",
      "574754.21      0.002119\n",
      "2449581.48     0.002119\n",
      "1124390.24     0.002119\n",
      "13224284.02    0.002119\n",
      "2987735.76     0.002119\n",
      "2297481.25     0.002119\n",
      "486237.83      0.002119\n",
      "3681711.60     0.002119\n",
      "1110104.22     0.002119\n",
      "344140.80      0.002119\n",
      "1288440.74     0.002119\n",
      "10610396.13    0.002119\n",
      "879299.67      0.002119\n",
      "3833093.62     0.002119\n",
      "1799981.12     0.002119\n",
      "1943273.30     0.002119\n",
      "888273.39      0.002119\n",
      "265799.68      0.002119\n",
      "1013202.75     0.002119\n",
      "523626.76      0.002119\n",
      "3198694.24     0.002119\n",
      "3259343.58     0.002119\n",
      "11853651.59    0.002119\n",
      "515321.12      0.002119\n",
      "1875233.80     0.002119\n",
      "11558127.59    0.002119\n",
      "23466001.38    0.002119\n",
      "9371835.00     0.002119\n",
      "2221054.70     0.002119\n",
      "395086.64      0.002119\n",
      "32403535.17    0.002119\n",
      "841327.50      0.002119\n",
      "521529.00      0.002119\n",
      "1887337.58     0.002119\n",
      "628713.55      0.002119\n",
      "1970370.88     0.002119\n",
      "1969572.04     0.002119\n",
      "3439314.10     0.002119\n",
      "2022644.00     0.002119\n",
      "1083186.42     0.002119\n",
      "937479.14      0.002119\n",
      "619854.10      0.002119\n",
      "587749.30      0.002119\n",
      "2475561.13     0.002119\n",
      "600649.40      0.002119\n",
      "588947.19      0.002119\n",
      "3050098.35     0.002119\n",
      "440044.60      0.002119\n",
      "18944484.44    0.002119\n",
      "372170.61      0.002119\n",
      "425830.55      0.002119\n",
      "1991350.29     0.002119\n",
      "599138.70      0.002119\n",
      "386850.50      0.002119\n",
      "2583219.33     0.002119\n",
      "979859.80      0.002119\n",
      "8309834.13     0.002119\n",
      "2371387.22     0.002119\n",
      "2140232.00     0.002119\n",
      "499257.35      0.002119\n",
      "474892.00      0.002119\n",
      "32753940.32    0.002119\n",
      "227731.94      0.002119\n",
      "3871743.86     0.002119\n",
      "2125151.91     0.002119\n",
      "3725847.39     0.002119\n",
      "2125159.18     0.002119\n",
      "494360.50      0.002119\n",
      "4272537.25     0.002119\n",
      "817859.23      0.002119\n",
      "1179669.64     0.002119\n",
      "492679.55      0.002119\n",
      "1191037.75     0.002119\n",
      "675444.08      0.002119\n",
      "3519881.55     0.002119\n",
      "985080.67      0.002119\n",
      "8957819.74     0.002119\n",
      "756403.28      0.002119\n",
      "1936526.29     0.002119\n",
      "2753400.01     0.002119\n",
      "7999978.49     0.002119\n",
      "1050013.00     0.002119\n",
      "13591037.49    0.002119\n",
      "3307070.67     0.002119\n",
      "1427769.80     0.002119\n",
      "607907.14      0.002119\n",
      "2241581.98     0.002119\n",
      "10431981.00    0.002119\n",
      "791085.40      0.002119\n",
      "2601501.30     0.002119\n",
      "10664243.47    0.002119\n",
      "457793.85      0.002119\n",
      "589138.00      0.002119\n",
      "836975.12      0.002119\n",
      "778453.32      0.002119\n",
      "3526292.41     0.002119\n",
      "865290.37      0.002119\n",
      "7411605.25     0.002119\n",
      "5935580.20     0.002119\n",
      "414307.66      0.002119\n",
      "6469597.75     0.002119\n",
      "810972.40      0.002119\n",
      "11712120.80    0.002119\n",
      "1603070.00     0.002119\n",
      "2230907.45     0.002119\n",
      "808110.95      0.002119\n",
      "1381570.54     0.002119\n",
      "1054966.67     0.002119\n",
      "444623.49      0.002119\n",
      "1825897.79     0.002119\n",
      "1358659.20     0.002119\n",
      "4343682.60     0.002119\n",
      "1170648.06     0.002119\n",
      "9218517.50     0.002119\n",
      "4598147.42     0.002119\n",
      "5224907.40     0.002119\n",
      "1386887.40     0.002119\n",
      "3087000.00     0.002119\n",
      "310100.00      0.002119\n",
      "13594551.91    0.002119\n",
      "682823.81      0.002119\n",
      "732998.87      0.002119\n",
      "1752411.75     0.002119\n",
      "372149.40      0.002119\n",
      "3356595.92     0.002119\n",
      "671281.98      0.002119\n",
      "886252.05      0.002119\n",
      "4070015.02     0.002119\n",
      "1342831.75     0.002119\n",
      "3522167.49     0.002119\n",
      "510890.78      0.002119\n",
      "2145000.00     0.002119\n",
      "1824958.43     0.002119\n",
      "3132428.72     0.002119\n",
      "618828.29      0.002119\n",
      "Name: TOT_BID_AMT, dtype: float64\n",
      "BID_DAYS \n",
      " 120.0    0.169492\n",
      "90.0     0.146186\n",
      "150.0    0.065678\n",
      "60.0     0.065678\n",
      "180.0    0.055085\n",
      "210.0    0.040254\n",
      "45.0     0.031780\n",
      "300.0    0.029661\n",
      "270.0    0.027542\n",
      "200.0    0.025424\n",
      "30.0     0.021186\n",
      "100.0    0.021186\n",
      "240.0    0.019068\n",
      "75.0     0.019068\n",
      "220.0    0.016949\n",
      "330.0    0.014831\n",
      "110.0    0.012712\n",
      "400.0    0.012712\n",
      "365.0    0.010593\n",
      "140.0    0.010593\n",
      "160.0    0.010593\n",
      "70.0     0.008475\n",
      "375.0    0.008475\n",
      "275.0    0.008475\n",
      "500.0    0.006356\n",
      "230.0    0.006356\n",
      "260.0    0.006356\n",
      "80.0     0.006356\n",
      "165.0    0.006356\n",
      "250.0    0.006356\n",
      "170.0    0.006356\n",
      "360.0    0.006356\n",
      "450.0    0.004237\n",
      "320.0    0.004237\n",
      "21.0     0.004237\n",
      "420.0    0.004237\n",
      "440.0    0.004237\n",
      "325.0    0.004237\n",
      "135.0    0.004237\n",
      "295.0    0.004237\n",
      "350.0    0.004237\n",
      "310.0    0.004237\n",
      "730.0    0.002119\n",
      "340.0    0.002119\n",
      "14.0     0.002119\n",
      "545.0    0.002119\n",
      "510.0    0.002119\n",
      "525.0    0.002119\n",
      "460.0    0.002119\n",
      "335.0    0.002119\n",
      "285.0    0.002119\n",
      "580.0    0.002119\n",
      "380.0    0.002119\n",
      "600.0    0.002119\n",
      "195.0    0.002119\n",
      "280.0    0.002119\n",
      "130.0    0.002119\n",
      "430.0    0.002119\n",
      "255.0    0.002119\n",
      "390.0    0.002119\n",
      "215.0    0.002119\n",
      "185.0    0.002119\n",
      "370.0    0.002119\n",
      "175.0    0.002119\n",
      "25.0     0.002119\n",
      "125.0    0.002119\n",
      "225.0    0.002119\n",
      "650.0    0.002119\n",
      "Name: BID_DAYS, dtype: float64\n",
      "DBE_goal \n",
      " 1    0.908898\n",
      "0    0.091102\n",
      "Name: DBE_goal, dtype: float64\n"
     ]
    }
   ],
   "source": [
    "for var in data_copy.columns:\n",
    "    print(var,'\\n', data_copy[var].value_counts()/len(data_copy))"
   ]
  },
  {
   "cell_type": "code",
   "execution_count": 62,
   "metadata": {},
   "outputs": [
    {
     "data": {
      "text/plain": [
       "1    429\n",
       "0     43\n",
       "Name: DBE_goal, dtype: int64"
      ]
     },
     "execution_count": 62,
     "metadata": {},
     "output_type": "execute_result"
    }
   ],
   "source": [
    "data['DBE_goal'].value_counts()"
   ]
  },
  {
   "cell_type": "code",
   "execution_count": 63,
   "metadata": {},
   "outputs": [
    {
     "data": {
      "text/plain": [
       "(472, 10)"
      ]
     },
     "execution_count": 63,
     "metadata": {},
     "output_type": "execute_result"
    }
   ],
   "source": [
    "data.shape"
   ]
  },
  {
   "cell_type": "code",
   "execution_count": 64,
   "metadata": {},
   "outputs": [
    {
     "data": {
      "text/plain": [
       "(Index(['FUND_IND', 'FUNDTYPE', 'PROPOSAL_TYPE', 'DBE_COMMITMENT',\n",
       "        'DBEGOALPERCENT', 'DBE_Commit_Amount', 'DBE_Goal_Amount', 'TOT_BID_AMT',\n",
       "        'BID_DAYS', 'DBE_goal'],\n",
       "       dtype='object'),\n",
       " 'Number of Features:',\n",
       " 10)"
      ]
     },
     "execution_count": 64,
     "metadata": {},
     "output_type": "execute_result"
    }
   ],
   "source": [
    "categorical = ['FUND_IND', 'FUNDTYPE', 'PROPOSAL_TYPE','DBE_goal']\n",
    "discrete = ['DBEGOALPERCENT']\n",
    "continuous = ['DBE_Commit_Amount', 'DBE_Goal_Amount','TOT_BID_AMT','DBE_COMMITMENT','BID_DAYS']\n",
    "data.columns,'Number of Features:',len(data.columns)"
   ]
  },
  {
   "cell_type": "code",
   "execution_count": 65,
   "metadata": {},
   "outputs": [],
   "source": [
    "for var in data.columns:\n",
    "    if data[var].isnull().sum() > 0:\n",
    "        print(var, data[var].isnull().mean())"
   ]
  },
  {
   "cell_type": "code",
   "execution_count": 66,
   "metadata": {},
   "outputs": [
    {
     "name": "stdout",
     "output_type": "stream",
     "text": [
      "FUND_IND has 2 unique categories\n",
      "FUNDTYPE has 13 unique categories\n",
      "PROPOSAL_TYPE has 68 unique categories\n",
      "DBE_goal has 2 unique categories\n"
     ]
    }
   ],
   "source": [
    "for var in categorical:\n",
    "    print(var, 'has', data[var].nunique(), 'unique categories')"
   ]
  },
  {
   "cell_type": "code",
   "execution_count": 67,
   "metadata": {},
   "outputs": [
    {
     "name": "stdout",
     "output_type": "stream",
     "text": [
      "DBEGOALPERCENT has 18 unique categories\n"
     ]
    }
   ],
   "source": [
    "for var in discrete:\n",
    "    print(var, 'has', data[var].nunique(), 'unique categories')"
   ]
  },
  {
   "cell_type": "code",
   "execution_count": 68,
   "metadata": {},
   "outputs": [
    {
     "name": "stdout",
     "output_type": "stream",
     "text": [
      "2 FUND_IND\n",
      "B    0.720339\n",
      "F    0.279661\n",
      "Name: FUND_IND, dtype: float64\n",
      "13 FUNDTYPE\n",
      "0402    0.004237\n",
      "0F13    0.002119\n",
      "0FED    0.898305\n",
      "0L24    0.002119\n",
      "0LY2    0.002119\n",
      "FED     0.046610\n",
      "FED2    0.002119\n",
      "L05E    0.012712\n",
      "L11E    0.004237\n",
      "L1CE    0.006356\n",
      "L23E    0.004237\n",
      "L24E    0.008475\n",
      "LS3E    0.006356\n",
      "Name: FUNDTYPE, dtype: float64\n",
      "68 PROPOSAL_TYPE\n",
      "ASPHALT RESURFACE AND P.C. CONCRETE REHAB.                     0.002119\n",
      "BRIDGE  AND APPROACHES - DIVISION VII                          0.002119\n",
      "BRIDGE AND  APPROACHES                                         0.004237\n",
      "BRIDGE AND APPROACHES                                          0.480932\n",
      "BRIDGE AND APPROACHES - DIVISION II                            0.002119\n",
      "BRIDGE AND APPROACHES - DIVISION III                           0.004237\n",
      "BRIDGE AND APPROACHES - DIVISION IV                            0.002119\n",
      "BRIDGE AND APPROACHES - DIVISION V                             0.002119\n",
      "BRIDGE AND APPROACHES AND BRIDGE REHABILITATION                0.002119\n",
      "BRIDGE AND APPROACHES AND GUARDRAIL                            0.002119\n",
      "BRIDGE PAINTING                                                0.002119\n",
      "BRIDGE REHABILITATION                                          0.055085\n",
      "BRIDGE REHABILITATION - DIVISION VIII                          0.002119\n",
      "BRIDGE REPAIR                                                  0.002119\n",
      "ENHANCEMENT (STREETSCAPE)                                      0.002119\n",
      "ENHANCEMENT (TRAIL CONSTRUCTION)                               0.002119\n",
      "GRADE AND DRAIN                                                0.006356\n",
      "GRADE, DRAIN AND SURFACE                                       0.002119\n",
      "GRADE, DRAIN,  AND SURFACE                                     0.002119\n",
      "GRADE, DRAIN, AND SURFACE                                      0.074153\n",
      "GRADE, DRAIN, AND SURFACE - DIVISION II                        0.002119\n",
      "GRADE, DRAIN, SURFACE AND BRIDGE                               0.002119\n",
      "GRADE, DRAIN, SURFACE, AND BRIDGE                              0.082627\n",
      "GRADE, DRAIN, SURFACE, AND BRIDGE - DIVISION III               0.002119\n",
      "GRADE, DRAIN, SURFACE, AND BRIDGE - DIVISION IV                0.002119\n",
      "GRADE, DRAIN, SURFACE, AND EROSION CONTROL                     0.002119\n",
      "GRADE, DRAIN, SURFACE, AND SIGNAL                              0.002119\n",
      "GRADE, DRAIN, SURFACE, AND SIGNING                             0.002119\n",
      "GRADE, DRAIN, SURFACE, AND TRAFFIC SIGNALS                     0.002119\n",
      "GRADE, DRAIN, SURFACE, BRIDGE AND APPROACHES                   0.002119\n",
      "GRADE,DRAIN, SURFACE, AND BRIDGE                               0.002119\n",
      "INTERCHANGE                                                    0.002119\n",
      "INTERCHANGE - DIVISION II                                      0.002119\n",
      "INTERSECTION MODIFICATION                                      0.008475\n",
      "INTERSECTION MODIFICATION AND TRAFFIC SIGNAL                   0.004237\n",
      "INTERSECTION MODIFICATION AND TRAFFIC SIGNALS                  0.004237\n",
      "JOINT SEAL/REPAIR                                              0.002119\n",
      "NOISE ABATEMENT                                                0.002119\n",
      "PAVEMENT REHABILITATION                                        0.002119\n",
      "PAVEMENT REHABILITATION (P.C. CONCRETE)                        0.006356\n",
      "PEDESTRIAN IMPROVEMENTS                                        0.002119\n",
      "PEDESTRIAN IMPROVEMENTS (SIDEWALKS)                            0.008475\n",
      "RECONSTRUCT - ADD LANES                                        0.002119\n",
      "RECONSTRUCT-ADDED LANES, INTERSECTION MODIFICATION, SIGNALS    0.002119\n",
      "RESURFACE  (ASPHALT)                                           0.002119\n",
      "RESURFACE (ASPHALT)                                            0.129237\n",
      "RESURFACE (ASPHALT) - DIVISION II                              0.002119\n",
      "RESURFACE (ASPHALT) AND BRIDGE REPAIR                          0.002119\n",
      "RESURFACE (ASPHALT) AND PEDESTRIAN IMPROVEMENTS                0.002119\n",
      "RESURFACE (ASPHALT) AND TRAFFIC SIGNALS                        0.002119\n",
      "RESURFACE (CONCRETE)                                           0.002119\n",
      "RESURFACE (P.C. CONCRETE) - DIVISION VIII                      0.002119\n",
      "RESURFACE (P.C. CONCRETE) AND CABLE BARRIER                    0.002119\n",
      "RESURFACE (PC CONCRETE)                                        0.002119\n",
      "RESURFACE (UTBWC)                                              0.004237\n",
      "SAFETY IMPROVEMENT (CABLE BARRIER AND INT. MODIFICATION)       0.002119\n",
      "SAFETY IMPROVEMENT (CABLE BARRIER)                             0.004237\n",
      "SAFETY IMPROVEMENT (GUARDRAIL AND CABLE BARRIER)               0.002119\n",
      "SHOULDER IMPROVEMENT, RESURFACE (ASPHALT), AND BRIDGE          0.004237\n",
      "SIGNING AND HIGH FRICTION SURFACE COURSE                       0.002119\n",
      "SLIDE REPAIR                                                   0.002119\n",
      "SURFACE                                                        0.002119\n",
      "WIDEN AND RESURFACE                                            0.004237\n",
      "WIDEN AND RESURFACE (ASPHALT)                                  0.002119\n",
      "WIDEN AND RESURFACE - DIVISION VIII                            0.002119\n",
      "WIDEN, RESURFACE (AC), AND BRIDGE                              0.002119\n",
      "WIDEN, RESURFACE, AND BRIDGE                                   0.008475\n",
      "WIDENING AND RESURFACE (ASPHALT)                               0.002119\n",
      "Name: PROPOSAL_TYPE, dtype: float64\n",
      "2 DBE_goal\n",
      "0    0.091102\n",
      "1    0.908898\n",
      "Name: DBE_goal, dtype: float64\n"
     ]
    }
   ],
   "source": [
    "for var in categorical:\n",
    "    print(data[var].nunique(),(data.groupby(var)[var].count()/len(data)))"
   ]
  },
  {
   "cell_type": "code",
   "execution_count": 69,
   "metadata": {},
   "outputs": [
    {
     "name": "stdout",
     "output_type": "stream",
     "text": [
      "18 DBEGOALPERCENT\n",
      "0.5     0.004237\n",
      "1.0     0.033898\n",
      "1.5     0.038136\n",
      "2.0     0.182203\n",
      "2.5     0.031780\n",
      "3.0     0.197034\n",
      "3.5     0.029661\n",
      "4.0     0.156780\n",
      "4.5     0.008475\n",
      "5.0     0.131356\n",
      "5.5     0.002119\n",
      "6.0     0.114407\n",
      "6.5     0.006356\n",
      "7.0     0.042373\n",
      "7.5     0.004237\n",
      "8.0     0.008475\n",
      "9.0     0.006356\n",
      "10.0    0.002119\n",
      "Name: DBEGOALPERCENT, dtype: float64\n"
     ]
    }
   ],
   "source": [
    "for var in discrete:\n",
    "     print(data[var].nunique(),(data.groupby(var)[var].count()/len(data)))"
   ]
  },
  {
   "cell_type": "code",
   "execution_count": 70,
   "metadata": {},
   "outputs": [
    {
     "data": {
      "image/png": "[encoded data removed]",
      "text/plain": [
       "<Figure size 720x360 with 2 Axes>"
      ]
     },
     "metadata": {
      "needs_background": "light"
     },
     "output_type": "display_data"
    },
    {
     "data": {
      "image/png": "[encoded data removed]",
      "text/plain": [
       "<Figure size 720x360 with 2 Axes>"
      ]
     },
     "metadata": {
      "needs_background": "light"
     },
     "output_type": "display_data"
    },
    {
     "data": {
      "image/png": "[encoded data removed]",
      "text/plain": [
       "<Figure size 720x360 with 2 Axes>"
      ]
     },
     "metadata": {
      "needs_background": "light"
     },
     "output_type": "display_data"
    },
    {
     "data": {
      "image/png": "[encoded data removed]",
      "text/plain": [
       "<Figure size 720x360 with 2 Axes>"
      ]
     },
     "metadata": {
      "needs_background": "light"
     },
     "output_type": "display_data"
    },
    {
     "data": {
      "image/png": "[encoded data removed]",
      "text/plain": [
       "<Figure size 720x360 with 2 Axes>"
      ]
     },
     "metadata": {
      "needs_background": "light"
     },
     "output_type": "display_data"
    }
   ],
   "source": [
    "for var in continuous:\n",
    "    plt.figure(figsize=(10,5))\n",
    "    plt.subplot(1,2,1)\n",
    "    fig = data.boxplot(column=var)\n",
    "    fig.set_title('outliers')\n",
    "    fig.set_ylabel(var)\n",
    "    \n",
    "    plt.subplot(1,2,2)\n",
    "    fig = data[var].hist(bins=20)\n",
    "    fig.set_ylabel('number of cases')\n",
    "    fig.set_xlabel(var)    \n",
    "    plt.show()"
   ]
  },
  {
   "cell_type": "code",
   "execution_count": 71,
   "metadata": {},
   "outputs": [],
   "source": [
    "def diagnostic_plot(df, variable):\n",
    "    plt.figure(figsize=(16, 4))\n",
    "    sns.distplot(df[variable], bins=30)\n",
    "    plt.title('Histogram')"
   ]
  },
  {
   "cell_type": "code",
   "execution_count": 72,
   "metadata": {},
   "outputs": [],
   "source": [
    "data_copy = data.copy()\n",
    "data_copy['DBE_Commit_Amount'].skew(skipna = True)\n",
    "data_copy['DBE_Commit_Amount_log'] = data_copy['DBE_Commit_Amount'].map(lambda x: np.log(x))\n",
    "data_copy['DBE_Commit_Amount_rec'] = data_copy['DBE_Commit_Amount'].map(lambda x: np.reciprocal(x))\n",
    "data_copy['DBE_Commit_Amount_sqrt'] = data_copy['DBE_Commit_Amount'].map(lambda x: np.sqrt(x))"
   ]
  },
  {
   "cell_type": "code",
   "execution_count": 73,
   "metadata": {},
   "outputs": [
    {
     "data": {
      "text/plain": [
       "4.5262232161389875"
      ]
     },
     "execution_count": 73,
     "metadata": {},
     "output_type": "execute_result"
    }
   ],
   "source": [
    "data_copy['DBE_Commit_Amount'].skew(skipna = True)"
   ]
  },
  {
   "cell_type": "code",
   "execution_count": 74,
   "metadata": {},
   "outputs": [
    {
     "data": {
      "text/plain": [
       "0.3216324078016303"
      ]
     },
     "execution_count": 74,
     "metadata": {},
     "output_type": "execute_result"
    }
   ],
   "source": [
    "data_copy['DBE_Commit_Amount_log'].skew(skipna = True)"
   ]
  },
  {
   "cell_type": "code",
   "execution_count": 75,
   "metadata": {},
   "outputs": [
    {
     "data": {
      "text/plain": [
       "15.194083543231232"
      ]
     },
     "execution_count": 75,
     "metadata": {},
     "output_type": "execute_result"
    }
   ],
   "source": [
    "data_copy['DBE_Commit_Amount_rec'].skew(skipna = True)"
   ]
  },
  {
   "cell_type": "code",
   "execution_count": 76,
   "metadata": {},
   "outputs": [
    {
     "data": {
      "text/plain": [
       "2.028902314108477"
      ]
     },
     "execution_count": 76,
     "metadata": {},
     "output_type": "execute_result"
    }
   ],
   "source": [
    "data_copy['DBE_Commit_Amount_sqrt'].skew(skipna = True)"
   ]
  },
  {
   "cell_type": "code",
   "execution_count": 77,
   "metadata": {},
   "outputs": [],
   "source": [
    "data['DBE_Commit_Amount_log'] = data['DBE_Commit_Amount'].map(lambda x: np.log(x))"
   ]
  },
  {
   "cell_type": "code",
   "execution_count": 78,
   "metadata": {},
   "outputs": [
    {
     "name": "stderr",
     "output_type": "stream",
     "text": [
      "C:\\Users\\abdul\\Anaconda3\\envs\\IT_project\\lib\\site-packages\\seaborn\\distributions.py:2551: FutureWarning: `distplot` is a deprecated function and will be removed in a future version. Please adapt your code to use either `displot` (a figure-level function with similar flexibility) or `histplot` (an axes-level function for histograms).\n",
      "  warnings.warn(msg, FutureWarning)\n"
     ]
    },
    {
     "data": {
      "image/png": "[encoded data removed]",
      "text/plain": [
       "<Figure size 1152x288 with 1 Axes>"
      ]
     },
     "metadata": {
      "needs_background": "light"
     },
     "output_type": "display_data"
    }
   ],
   "source": [
    "diagnostic_plot(data_copy, 'DBE_Commit_Amount_log')"
   ]
  },
  {
   "cell_type": "code",
   "execution_count": 79,
   "metadata": {},
   "outputs": [
    {
     "data": {
      "text/plain": [
       "4.157202320469542"
      ]
     },
     "execution_count": 79,
     "metadata": {},
     "output_type": "execute_result"
    }
   ],
   "source": [
    "data_copy['DBE_Goal_Amount'].skew(skipna = True)"
   ]
  },
  {
   "cell_type": "code",
   "execution_count": 80,
   "metadata": {},
   "outputs": [],
   "source": [
    "data_copy['DBE_Goal_Amount_log'] = data_copy['DBE_Goal_Amount'].map(lambda x: np.log(x) if x > 0 else 0)\n",
    "data_copy['DBE_Goal_Amount_rec'] = data_copy['DBE_Goal_Amount'].map(lambda x: np.reciprocal(x) if x > 0 else 0)\n",
    "data_copy['DBE_Goal_Amount_sqrt'] = data_copy['DBE_Goal_Amount'].map(lambda x: np.sqrt(x))"
   ]
  },
  {
   "cell_type": "code",
   "execution_count": 81,
   "metadata": {},
   "outputs": [
    {
     "data": {
      "text/plain": [
       "0.27216812326922746"
      ]
     },
     "execution_count": 81,
     "metadata": {},
     "output_type": "execute_result"
    }
   ],
   "source": [
    "data_copy['DBE_Goal_Amount_log'].skew(skipna = True)"
   ]
  },
  {
   "cell_type": "code",
   "execution_count": 82,
   "metadata": {},
   "outputs": [
    {
     "data": {
      "text/plain": [
       "9.983727501697622"
      ]
     },
     "execution_count": 82,
     "metadata": {},
     "output_type": "execute_result"
    }
   ],
   "source": [
    "data_copy['DBE_Goal_Amount_rec'].skew(skipna = True)"
   ]
  },
  {
   "cell_type": "code",
   "execution_count": 83,
   "metadata": {},
   "outputs": [
    {
     "data": {
      "text/plain": [
       "2.017816736547593"
      ]
     },
     "execution_count": 83,
     "metadata": {},
     "output_type": "execute_result"
    }
   ],
   "source": [
    "data_copy['DBE_Goal_Amount_sqrt'].skew(skipna = True)"
   ]
  },
  {
   "cell_type": "code",
   "execution_count": 84,
   "metadata": {},
   "outputs": [],
   "source": [
    "data['DBE_Goal_Amount_log'] = data['DBE_Goal_Amount'].map(lambda x: np.log(x) if x > 0 else 0)"
   ]
  },
  {
   "cell_type": "code",
   "execution_count": 85,
   "metadata": {},
   "outputs": [],
   "source": [
    "data.drop(['DBE_Commit_Amount'], axis=1, inplace=True)"
   ]
  },
  {
   "cell_type": "code",
   "execution_count": 86,
   "metadata": {},
   "outputs": [],
   "source": [
    "data.drop(['DBE_Goal_Amount'], axis=1, inplace=True)"
   ]
  },
  {
   "cell_type": "code",
   "execution_count": 87,
   "metadata": {},
   "outputs": [
    {
     "data": {
      "text/plain": [
       "(472, 10)"
      ]
     },
     "execution_count": 87,
     "metadata": {},
     "output_type": "execute_result"
    }
   ],
   "source": [
    "data.shape"
   ]
  },
  {
   "cell_type": "code",
   "execution_count": 88,
   "metadata": {},
   "outputs": [
    {
     "name": "stderr",
     "output_type": "stream",
     "text": [
      "C:\\Users\\abdul\\Anaconda3\\envs\\IT_project\\lib\\site-packages\\seaborn\\distributions.py:2551: FutureWarning: `distplot` is a deprecated function and will be removed in a future version. Please adapt your code to use either `displot` (a figure-level function with similar flexibility) or `histplot` (an axes-level function for histograms).\n",
      "  warnings.warn(msg, FutureWarning)\n"
     ]
    },
    {
     "data": {
      "image/png": "[encoded data removed]",
      "text/plain": [
       "<Figure size 1152x288 with 1 Axes>"
      ]
     },
     "metadata": {
      "needs_background": "light"
     },
     "output_type": "display_data"
    }
   ],
   "source": [
    "diagnostic_plot(data_copy, 'DBE_Goal_Amount_log')"
   ]
  },
  {
   "cell_type": "code",
   "execution_count": 89,
   "metadata": {},
   "outputs": [
    {
     "data": {
      "text/plain": [
       "3.2637562738625983"
      ]
     },
     "execution_count": 89,
     "metadata": {},
     "output_type": "execute_result"
    }
   ],
   "source": [
    "data_copy['TOT_BID_AMT'].skew(skipna = True)"
   ]
  },
  {
   "cell_type": "code",
   "execution_count": 90,
   "metadata": {},
   "outputs": [],
   "source": [
    "data_copy['TOT_BID_AMT_log'] = data_copy['TOT_BID_AMT'].map(lambda x: np.log(x) if x > 0 else 0)\n",
    "data_copy['TOT_BID_AMT_rec'] = data_copy['TOT_BID_AMT'].map(lambda x: np.reciprocal(x) if x > 0 else 0)\n",
    "data_copy['TOT_BID_AMT_sqrt'] = data_copy['TOT_BID_AMT'].map(lambda x: np.sqrt(x))"
   ]
  },
  {
   "cell_type": "code",
   "execution_count": 91,
   "metadata": {},
   "outputs": [
    {
     "data": {
      "text/plain": [
       "0.318914544237967"
      ]
     },
     "execution_count": 91,
     "metadata": {},
     "output_type": "execute_result"
    }
   ],
   "source": [
    "data_copy['TOT_BID_AMT_log'].skew(skipna = True)"
   ]
  },
  {
   "cell_type": "code",
   "execution_count": 92,
   "metadata": {},
   "outputs": [
    {
     "data": {
      "text/plain": [
       "0.0"
      ]
     },
     "execution_count": 92,
     "metadata": {},
     "output_type": "execute_result"
    }
   ],
   "source": [
    "data_copy['TOT_BID_AMT_rec'].skew(skipna = True)"
   ]
  },
  {
   "cell_type": "code",
   "execution_count": 93,
   "metadata": {},
   "outputs": [
    {
     "data": {
      "text/plain": [
       "1.6287363552136287"
      ]
     },
     "execution_count": 93,
     "metadata": {},
     "output_type": "execute_result"
    }
   ],
   "source": [
    "data_copy['TOT_BID_AMT_sqrt'].skew(skipna = True)"
   ]
  },
  {
   "cell_type": "code",
   "execution_count": 94,
   "metadata": {},
   "outputs": [
    {
     "name": "stderr",
     "output_type": "stream",
     "text": [
      "C:\\Users\\abdul\\Anaconda3\\envs\\IT_project\\lib\\site-packages\\seaborn\\distributions.py:2551: FutureWarning: `distplot` is a deprecated function and will be removed in a future version. Please adapt your code to use either `displot` (a figure-level function with similar flexibility) or `histplot` (an axes-level function for histograms).\n",
      "  warnings.warn(msg, FutureWarning)\n"
     ]
    },
    {
     "data": {
      "image/png": "[encoded data removed]",
      "text/plain": [
       "<Figure size 1152x288 with 1 Axes>"
      ]
     },
     "metadata": {
      "needs_background": "light"
     },
     "output_type": "display_data"
    }
   ],
   "source": [
    "diagnostic_plot(data_copy, 'TOT_BID_AMT_log')"
   ]
  },
  {
   "cell_type": "code",
   "execution_count": 95,
   "metadata": {},
   "outputs": [],
   "source": [
    "data['TOT_BID_AMT_log'] = data['TOT_BID_AMT'].map(lambda x: np.log(x) if x > 0 else 0)"
   ]
  },
  {
   "cell_type": "code",
   "execution_count": 96,
   "metadata": {},
   "outputs": [],
   "source": [
    "data.drop(['TOT_BID_AMT'], axis=1, inplace=True)"
   ]
  },
  {
   "cell_type": "code",
   "execution_count": 97,
   "metadata": {},
   "outputs": [
    {
     "data": {
      "text/plain": [
       "(472, 10)"
      ]
     },
     "execution_count": 97,
     "metadata": {},
     "output_type": "execute_result"
    }
   ],
   "source": [
    "data.shape"
   ]
  },
  {
   "cell_type": "code",
   "execution_count": 98,
   "metadata": {},
   "outputs": [
    {
     "data": {
      "text/plain": [
       "8.901630749149783"
      ]
     },
     "execution_count": 98,
     "metadata": {},
     "output_type": "execute_result"
    }
   ],
   "source": [
    "data_copy['DBE_COMMITMENT'].skew(skipna = True)"
   ]
  },
  {
   "cell_type": "code",
   "execution_count": 99,
   "metadata": {},
   "outputs": [],
   "source": [
    "data_copy['DBE_COMMITMENT_log'] = data_copy['DBE_COMMITMENT'].map(lambda x: np.log(x) if x > 0 else 0)\n",
    "data_copy['DBE_COMMITMENT_rec'] = data_copy['DBE_COMMITMENT'].map(lambda x: np.reciprocal(x) if x > 0 else 0)\n",
    "data_copy['DBE_COMMITMENT_sqrt'] = data_copy['DBE_COMMITMENT'].map(lambda x: np.sqrt(x))"
   ]
  },
  {
   "cell_type": "code",
   "execution_count": 100,
   "metadata": {},
   "outputs": [
    {
     "data": {
      "text/plain": [
       "0.4197024487103892"
      ]
     },
     "execution_count": 100,
     "metadata": {},
     "output_type": "execute_result"
    }
   ],
   "source": [
    "data_copy['DBE_COMMITMENT_log'].skew(skipna = True)"
   ]
  },
  {
   "cell_type": "code",
   "execution_count": 101,
   "metadata": {},
   "outputs": [
    {
     "data": {
      "text/plain": [
       "4.295712923406511"
      ]
     },
     "execution_count": 101,
     "metadata": {},
     "output_type": "execute_result"
    }
   ],
   "source": [
    "data_copy['DBE_COMMITMENT_rec'].skew(skipna = True)"
   ]
  },
  {
   "cell_type": "code",
   "execution_count": 102,
   "metadata": {},
   "outputs": [
    {
     "data": {
      "text/plain": [
       "3.360574621393758"
      ]
     },
     "execution_count": 102,
     "metadata": {},
     "output_type": "execute_result"
    }
   ],
   "source": [
    "data_copy['DBE_COMMITMENT_sqrt'].skew(skipna = True)"
   ]
  },
  {
   "cell_type": "code",
   "execution_count": 103,
   "metadata": {},
   "outputs": [
    {
     "name": "stderr",
     "output_type": "stream",
     "text": [
      "C:\\Users\\abdul\\Anaconda3\\envs\\IT_project\\lib\\site-packages\\seaborn\\distributions.py:2551: FutureWarning: `distplot` is a deprecated function and will be removed in a future version. Please adapt your code to use either `displot` (a figure-level function with similar flexibility) or `histplot` (an axes-level function for histograms).\n",
      "  warnings.warn(msg, FutureWarning)\n"
     ]
    },
    {
     "data": {
      "image/png": "[encoded data removed]",
      "text/plain": [
       "<Figure size 1152x288 with 1 Axes>"
      ]
     },
     "metadata": {
      "needs_background": "light"
     },
     "output_type": "display_data"
    }
   ],
   "source": [
    "diagnostic_plot(data_copy, 'DBE_COMMITMENT_log')"
   ]
  },
  {
   "cell_type": "code",
   "execution_count": 104,
   "metadata": {},
   "outputs": [],
   "source": [
    "data['DBE_COMMITMENT_log'] = data['DBE_COMMITMENT'].map(lambda x: np.log(x) if x > 0 else 0)"
   ]
  },
  {
   "cell_type": "code",
   "execution_count": 105,
   "metadata": {},
   "outputs": [],
   "source": [
    "data.drop(['DBE_COMMITMENT'], axis=1, inplace=True)"
   ]
  },
  {
   "cell_type": "code",
   "execution_count": 106,
   "metadata": {},
   "outputs": [
    {
     "data": {
      "text/plain": [
       "(472, 10)"
      ]
     },
     "execution_count": 106,
     "metadata": {},
     "output_type": "execute_result"
    }
   ],
   "source": [
    "data.shape"
   ]
  },
  {
   "cell_type": "code",
   "execution_count": 107,
   "metadata": {},
   "outputs": [
    {
     "data": {
      "text/plain": [
       "1.475029846426311"
      ]
     },
     "execution_count": 107,
     "metadata": {},
     "output_type": "execute_result"
    }
   ],
   "source": [
    "data_copy['BID_DAYS'].skew(skipna = True)"
   ]
  },
  {
   "cell_type": "code",
   "execution_count": 108,
   "metadata": {},
   "outputs": [],
   "source": [
    "data_copy['BID_DAYS_log'] = data_copy['BID_DAYS'].map(lambda x: np.log(x) if x > 0 else 0)\n",
    "data_copy['BID_DAYS_rec'] = data_copy['BID_DAYS'].map(lambda x: np.reciprocal(x) if x > 0 else 0)\n",
    "data_copy['BID_DAYS_sqrt'] = data_copy['BID_DAYS'].map(lambda x: np.sqrt(x))"
   ]
  },
  {
   "cell_type": "code",
   "execution_count": 109,
   "metadata": {},
   "outputs": [
    {
     "data": {
      "text/plain": [
       "-0.19767978033838707"
      ]
     },
     "execution_count": 109,
     "metadata": {},
     "output_type": "execute_result"
    }
   ],
   "source": [
    "data_copy['BID_DAYS_log'].skew(skipna = True)"
   ]
  },
  {
   "cell_type": "code",
   "execution_count": 110,
   "metadata": {},
   "outputs": [
    {
     "data": {
      "text/plain": [
       "3.249020440521551"
      ]
     },
     "execution_count": 110,
     "metadata": {},
     "output_type": "execute_result"
    }
   ],
   "source": [
    "data_copy['BID_DAYS_rec'].skew(skipna = True)"
   ]
  },
  {
   "cell_type": "code",
   "execution_count": 111,
   "metadata": {},
   "outputs": [
    {
     "data": {
      "text/plain": [
       "0.6792491006338839"
      ]
     },
     "execution_count": 111,
     "metadata": {},
     "output_type": "execute_result"
    }
   ],
   "source": [
    "data_copy['BID_DAYS_sqrt'].skew(skipna = True)"
   ]
  },
  {
   "cell_type": "code",
   "execution_count": 112,
   "metadata": {},
   "outputs": [
    {
     "name": "stderr",
     "output_type": "stream",
     "text": [
      "C:\\Users\\abdul\\Anaconda3\\envs\\IT_project\\lib\\site-packages\\seaborn\\distributions.py:2551: FutureWarning: `distplot` is a deprecated function and will be removed in a future version. Please adapt your code to use either `displot` (a figure-level function with similar flexibility) or `histplot` (an axes-level function for histograms).\n",
      "  warnings.warn(msg, FutureWarning)\n"
     ]
    },
    {
     "data": {
      "image/png": "[encoded data removed]",
      "text/plain": [
       "<Figure size 1152x288 with 1 Axes>"
      ]
     },
     "metadata": {
      "needs_background": "light"
     },
     "output_type": "display_data"
    }
   ],
   "source": [
    "diagnostic_plot(data_copy, 'BID_DAYS_sqrt')"
   ]
  },
  {
   "cell_type": "code",
   "execution_count": 113,
   "metadata": {},
   "outputs": [],
   "source": [
    "data['BID_DAYS_sqrt'] = data['BID_DAYS'].map(lambda x: np.sqrt(x))"
   ]
  },
  {
   "cell_type": "code",
   "execution_count": 114,
   "metadata": {},
   "outputs": [],
   "source": [
    "data.drop(['BID_DAYS'], axis=1, inplace=True)"
   ]
  },
  {
   "cell_type": "code",
   "execution_count": 115,
   "metadata": {},
   "outputs": [
    {
     "data": {
      "text/plain": [
       "(472, 10)"
      ]
     },
     "execution_count": 115,
     "metadata": {},
     "output_type": "execute_result"
    }
   ],
   "source": [
    "data.shape"
   ]
  },
  {
   "cell_type": "code",
   "execution_count": 116,
   "metadata": {},
   "outputs": [],
   "source": [
    "def find_boundaries(df, variable):\n",
    "# calculate the boundaries anything outside the upper and lower boundaries is an outlier\n",
    "    upper_boundary = df[variable].mean() + 3 * df[variable].std()\n",
    "    lower_boundary = df[variable].mean() - 3 * df[variable].std()\n",
    "    return upper_boundary, lower_boundary"
   ]
  },
  {
   "cell_type": "code",
   "execution_count": 117,
   "metadata": {},
   "outputs": [
    {
     "data": {
      "text/plain": [
       "(15.327041338696588, 7.382578643304168)"
      ]
     },
     "execution_count": 117,
     "metadata": {},
     "output_type": "execute_result"
    }
   ],
   "source": [
    "upper_boundary, lower_boundary = find_boundaries(data, 'DBE_Commit_Amount_log')\n",
    "upper_boundary, lower_boundary"
   ]
  },
  {
   "cell_type": "code",
   "execution_count": 118,
   "metadata": {},
   "outputs": [
    {
     "name": "stdout",
     "output_type": "stream",
     "text": [
      "We have 0 upper boundary outliers:\n",
      "We have 1 lower boundary outliers:\n"
     ]
    }
   ],
   "source": [
    "print('We have {} upper boundary outliers:'.format(len(data[data['DBE_Commit_Amount_log'] > upper_boundary])))\n",
    "print('We have {} lower boundary outliers:'.format(len(data[data['DBE_Commit_Amount_log'] < lower_boundary])))"
   ]
  },
  {
   "cell_type": "code",
   "execution_count": 119,
   "metadata": {},
   "outputs": [
    {
     "data": {
      "text/plain": [
       "(15.180316166147982, 6.814481470787463)"
      ]
     },
     "execution_count": 119,
     "metadata": {},
     "output_type": "execute_result"
    }
   ],
   "source": [
    "upper_boundary2, lower_boundary2 = find_boundaries(data, 'DBE_Goal_Amount_log')\n",
    "upper_boundary2, lower_boundary2"
   ]
  },
  {
   "cell_type": "code",
   "execution_count": 120,
   "metadata": {},
   "outputs": [
    {
     "name": "stdout",
     "output_type": "stream",
     "text": [
      "We have 0 upper boundary outliers:\n",
      "We have 1 lower boundary outliers:\n"
     ]
    }
   ],
   "source": [
    "print('We have {} upper boundary outliers:'.format(len(data[data['DBE_Goal_Amount_log'] > upper_boundary2])))\n",
    "print('We have {} lower boundary outliers:'.format(len(data[data['DBE_Goal_Amount_log'] < lower_boundary2])))"
   ]
  },
  {
   "cell_type": "code",
   "execution_count": 121,
   "metadata": {},
   "outputs": [
    {
     "data": {
      "text/plain": [
       "(17.882782470634407, 10.900325185089821)"
      ]
     },
     "execution_count": 121,
     "metadata": {},
     "output_type": "execute_result"
    }
   ],
   "source": [
    "upper_boundary3, lower_boundary3 = find_boundaries(data, 'TOT_BID_AMT_log')\n",
    "upper_boundary3, lower_boundary3"
   ]
  },
  {
   "cell_type": "code",
   "execution_count": 122,
   "metadata": {},
   "outputs": [
    {
     "name": "stdout",
     "output_type": "stream",
     "text": [
      "We have 0 upper boundary outliers:\n",
      "We have 0 lower boundary outliers:\n"
     ]
    }
   ],
   "source": [
    "print('We have {} upper boundary outliers:'.format(len(data[data['TOT_BID_AMT_log'] > upper_boundary3])))\n",
    "print('We have {} lower boundary outliers:'.format(len(data[data['TOT_BID_AMT_log'] < lower_boundary3])))"
   ]
  },
  {
   "cell_type": "code",
   "execution_count": 123,
   "metadata": {},
   "outputs": [
    {
     "data": {
      "text/plain": [
       "(3.3195437216172667, -0.18269102336455867)"
      ]
     },
     "execution_count": 123,
     "metadata": {},
     "output_type": "execute_result"
    }
   ],
   "source": [
    "upper_boundary4, lower_boundary4 = find_boundaries(data, 'DBE_COMMITMENT_log')\n",
    "upper_boundary4, lower_boundary4"
   ]
  },
  {
   "cell_type": "code",
   "execution_count": 124,
   "metadata": {},
   "outputs": [
    {
     "name": "stdout",
     "output_type": "stream",
     "text": [
      "We have 6 upper boundary outliers:\n",
      "We have 3 lower boundary outliers:\n"
     ]
    }
   ],
   "source": [
    "print('We have {} upper boundary outliers:'.format(len(data[data['DBE_COMMITMENT_log'] > upper_boundary4])))\n",
    "print('We have {} lower boundary outliers:'.format(len(data[data['DBE_COMMITMENT_log'] < lower_boundary4])))"
   ]
  },
  {
   "cell_type": "code",
   "execution_count": 125,
   "metadata": {},
   "outputs": [
    {
     "data": {
      "text/plain": [
       "(24.440210880284887, 0.40085401833560574)"
      ]
     },
     "execution_count": 125,
     "metadata": {},
     "output_type": "execute_result"
    }
   ],
   "source": [
    "upper_boundary5, lower_boundary5 = find_boundaries(data, 'BID_DAYS_sqrt')\n",
    "upper_boundary5, lower_boundary5"
   ]
  },
  {
   "cell_type": "code",
   "execution_count": 126,
   "metadata": {},
   "outputs": [
    {
     "name": "stdout",
     "output_type": "stream",
     "text": [
      "We have 3 upper boundary outliers:\n",
      "We have 0 lower boundary outliers:\n"
     ]
    }
   ],
   "source": [
    "print('We have {} upper boundary outliers:'.format(len(data[data['BID_DAYS_sqrt'] > upper_boundary5])))\n",
    "print('We have {} lower boundary outliers:'.format(len(data[data['BID_DAYS_sqrt'] < lower_boundary5])))"
   ]
  },
  {
   "cell_type": "code",
   "execution_count": 127,
   "metadata": {},
   "outputs": [
    {
     "data": {
      "text/plain": [
       "(472, 10)"
      ]
     },
     "execution_count": 127,
     "metadata": {},
     "output_type": "execute_result"
    }
   ],
   "source": [
    "data.shape"
   ]
  },
  {
   "cell_type": "code",
   "execution_count": 128,
   "metadata": {},
   "outputs": [],
   "source": [
    "# Identify the outliers \n",
    "outliers_DBE_Commit_Amount = np.where(data['DBE_Commit_Amount_log'] > upper_boundary, True, np.where(data['DBE_Commit_Amount_log'] < lower_boundary, True, False))\n",
    "# trim the df of the outliers\n",
    "data = data.loc[~(outliers_DBE_Commit_Amount)]"
   ]
  },
  {
   "cell_type": "code",
   "execution_count": 129,
   "metadata": {},
   "outputs": [],
   "source": [
    "outliers_DBE_Goal_Amount = np.where(data['DBE_Goal_Amount_log'] > upper_boundary2, True, np.where(data['DBE_Goal_Amount_log'] < lower_boundary2, True, False))\n",
    "data = data.loc[~(outliers_DBE_Goal_Amount)]"
   ]
  },
  {
   "cell_type": "code",
   "execution_count": 130,
   "metadata": {},
   "outputs": [],
   "source": [
    "outliers_TOT_BID_AMT = np.where(data['TOT_BID_AMT_log'] > upper_boundary3, True, np.where(data['TOT_BID_AMT_log'] < lower_boundary3, True, False))\n",
    "data = data.loc[~(outliers_TOT_BID_AMT)]"
   ]
  },
  {
   "cell_type": "code",
   "execution_count": 131,
   "metadata": {},
   "outputs": [],
   "source": [
    "outliers_DBE_COMMITMENT = np.where(data['DBE_COMMITMENT_log'] > upper_boundary4, True, np.where(data['DBE_COMMITMENT_log'] < lower_boundary4, True, False))\n",
    "data = data.loc[~(outliers_DBE_COMMITMENT)]"
   ]
  },
  {
   "cell_type": "code",
   "execution_count": 132,
   "metadata": {},
   "outputs": [],
   "source": [
    "outliers_BID_DAYS = np.where(data['BID_DAYS_sqrt'] > upper_boundary5, True, np.where(data['BID_DAYS_sqrt'] < lower_boundary5, True, False))\n",
    "data = data.loc[~(outliers_BID_DAYS)]"
   ]
  },
  {
   "cell_type": "code",
   "execution_count": 133,
   "metadata": {},
   "outputs": [
    {
     "data": {
      "text/plain": [
       "(460, 10)"
      ]
     },
     "execution_count": 133,
     "metadata": {},
     "output_type": "execute_result"
    }
   ],
   "source": [
    "data.shape"
   ]
  },
  {
   "cell_type": "code",
   "execution_count": 134,
   "metadata": {},
   "outputs": [
    {
     "data": {
      "text/plain": [
       "1    0.91087\n",
       "0    0.08913\n",
       "Name: DBE_goal, dtype: float64"
      ]
     },
     "execution_count": 134,
     "metadata": {},
     "output_type": "execute_result"
    }
   ],
   "source": [
    "data['DBE_goal'].value_counts()/len(data)"
   ]
  },
  {
   "cell_type": "code",
   "execution_count": 135,
   "metadata": {},
   "outputs": [
    {
     "data": {
      "text/plain": [
       "1    419\n",
       "0     41\n",
       "Name: DBE_goal, dtype: int64"
      ]
     },
     "execution_count": 135,
     "metadata": {},
     "output_type": "execute_result"
    }
   ],
   "source": [
    "data['DBE_goal'].value_counts()"
   ]
  },
  {
   "cell_type": "code",
   "execution_count": 136,
   "metadata": {},
   "outputs": [
    {
     "data": {
      "text/plain": [
       "FUND_IND                  object\n",
       "FUNDTYPE                  object\n",
       "PROPOSAL_TYPE             object\n",
       "DBEGOALPERCENT           float64\n",
       "DBE_goal                   int64\n",
       "DBE_Commit_Amount_log    float64\n",
       "DBE_Goal_Amount_log      float64\n",
       "TOT_BID_AMT_log          float64\n",
       "DBE_COMMITMENT_log       float64\n",
       "BID_DAYS_sqrt            float64\n",
       "dtype: object"
      ]
     },
     "execution_count": 136,
     "metadata": {},
     "output_type": "execute_result"
    }
   ],
   "source": [
    "data.dtypes "
   ]
  },
  {
   "cell_type": "code",
   "execution_count": 137,
   "metadata": {},
   "outputs": [],
   "source": [
    "data[discrete] = data[discrete].astype('O')\n",
    "data['DBE_goal'] = data['DBE_goal'].astype('O')"
   ]
  },
  {
   "cell_type": "code",
   "execution_count": 138,
   "metadata": {},
   "outputs": [
    {
     "data": {
      "text/plain": [
       "FUND_IND                  object\n",
       "FUNDTYPE                  object\n",
       "PROPOSAL_TYPE             object\n",
       "DBEGOALPERCENT            object\n",
       "DBE_goal                  object\n",
       "DBE_Commit_Amount_log    float64\n",
       "DBE_Goal_Amount_log      float64\n",
       "TOT_BID_AMT_log          float64\n",
       "DBE_COMMITMENT_log       float64\n",
       "BID_DAYS_sqrt            float64\n",
       "dtype: object"
      ]
     },
     "execution_count": 138,
     "metadata": {},
     "output_type": "execute_result"
    }
   ],
   "source": [
    "data.dtypes"
   ]
  },
  {
   "cell_type": "code",
   "execution_count": null,
   "metadata": {},
   "outputs": [],
   "source": []
  },
  {
   "cell_type": "code",
   "execution_count": 139,
   "metadata": {},
   "outputs": [],
   "source": [
    "X_train, X_test, y_train, y_test = train_test_split(\n",
    "    data.drop('DBE_goal', axis=1),\n",
    "    data['DBE_goal'],\n",
    "    test_size=0.3,\n",
    "    random_state=SEED)"
   ]
  },
  {
   "cell_type": "code",
   "execution_count": 140,
   "metadata": {},
   "outputs": [
    {
     "data": {
      "text/plain": [
       "FUND_IND                  object\n",
       "FUNDTYPE                  object\n",
       "PROPOSAL_TYPE             object\n",
       "DBEGOALPERCENT            object\n",
       "DBE_goal                  object\n",
       "DBE_Commit_Amount_log    float64\n",
       "DBE_Goal_Amount_log      float64\n",
       "TOT_BID_AMT_log          float64\n",
       "DBE_COMMITMENT_log       float64\n",
       "BID_DAYS_sqrt            float64\n",
       "dtype: object"
      ]
     },
     "execution_count": 140,
     "metadata": {},
     "output_type": "execute_result"
    }
   ],
   "source": [
    "data.dtypes\n",
    "#categorical = ['PRIME_VEND_ID', 'FUND_IND', 'FUNDTYPE', 'PROPOSAL_TYPE','DBE_goal']\n",
    "#discrete = ['DBEGOALPERCENT','BID_DAYS']\n",
    "#continuous = ['DBE_Commit_Amount', 'DBE_Goal_Amount','TOT_BID_AMT','DBE_COMMITMENT']"
   ]
  },
  {
   "cell_type": "code",
   "execution_count": 141,
   "metadata": {},
   "outputs": [],
   "source": [
    "feat_transform = pipe([\n",
    "# Encoding rare categories for categorical and discrete features (Less than 1% is rare)\n",
    "('rare_label_encoder', RareLabelEncoder(\n",
    "tol=0.01, n_categories=6, variables=['FUNDTYPE','PROPOSAL_TYPE','DBEGOALPERCENT']\n",
    ")),\n",
    "# We will use one_hot_encoding for categorical features\n",
    "('one_hot_categorical_encoder', OneHotEncoder(variables=['FUND_IND','FUNDTYPE','PROPOSAL_TYPE','DBEGOALPERCENT'],drop_last=True))\n",
    "# We are going to use ordinal encoding according to the target mean to the target feature\n",
    "#('ordinal_categorical_encoder', OrdinalEncoder(encoding_method='ordered',variables=['DBEGOALPERCENT','BID_DAYS']))\n",
    "])"
   ]
  },
  {
   "cell_type": "code",
   "execution_count": 142,
   "metadata": {},
   "outputs": [
    {
     "data": {
      "text/plain": [
       "FUND_IND                  object\n",
       "FUNDTYPE                  object\n",
       "PROPOSAL_TYPE             object\n",
       "DBEGOALPERCENT            object\n",
       "DBE_Commit_Amount_log    float64\n",
       "DBE_Goal_Amount_log      float64\n",
       "TOT_BID_AMT_log          float64\n",
       "DBE_COMMITMENT_log       float64\n",
       "BID_DAYS_sqrt            float64\n",
       "dtype: object"
      ]
     },
     "execution_count": 142,
     "metadata": {},
     "output_type": "execute_result"
    }
   ],
   "source": [
    "X_train.dtypes"
   ]
  },
  {
   "cell_type": "code",
   "execution_count": 143,
   "metadata": {},
   "outputs": [
    {
     "data": {
      "text/html": [
       "<div>\n",
       "<style scoped>\n",
       "    .dataframe tbody tr th:only-of-type {\n",
       "        vertical-align: middle;\n",
       "    }\n",
       "\n",
       "    .dataframe tbody tr th {\n",
       "        vertical-align: top;\n",
       "    }\n",
       "\n",
       "    .dataframe thead th {\n",
       "        text-align: right;\n",
       "    }\n",
       "</style>\n",
       "<table border=\"1\" class=\"dataframe\">\n",
       "  <thead>\n",
       "    <tr style=\"text-align: right;\">\n",
       "      <th></th>\n",
       "      <th>DBE_Commit_Amount_log</th>\n",
       "      <th>DBE_Goal_Amount_log</th>\n",
       "      <th>TOT_BID_AMT_log</th>\n",
       "      <th>DBE_COMMITMENT_log</th>\n",
       "      <th>BID_DAYS_sqrt</th>\n",
       "      <th>FUND_IND_B</th>\n",
       "      <th>FUNDTYPE_0FED</th>\n",
       "      <th>FUNDTYPE_Rare</th>\n",
       "      <th>FUNDTYPE_FED</th>\n",
       "      <th>PROPOSAL_TYPE_BRIDGE AND APPROACHES</th>\n",
       "      <th>PROPOSAL_TYPE_RESURFACE (ASPHALT)</th>\n",
       "      <th>PROPOSAL_TYPE_PEDESTRIAN IMPROVEMENTS (SIDEWALKS)</th>\n",
       "      <th>PROPOSAL_TYPE_Rare</th>\n",
       "      <th>PROPOSAL_TYPE_BRIDGE REHABILITATION</th>\n",
       "      <th>PROPOSAL_TYPE_WIDEN, RESURFACE, AND BRIDGE</th>\n",
       "      <th>PROPOSAL_TYPE_GRADE, DRAIN, AND SURFACE</th>\n",
       "      <th>PROPOSAL_TYPE_GRADE, DRAIN, SURFACE, AND BRIDGE</th>\n",
       "      <th>DBEGOALPERCENT_3.0</th>\n",
       "      <th>DBEGOALPERCENT_5.0</th>\n",
       "      <th>DBEGOALPERCENT_4.0</th>\n",
       "      <th>DBEGOALPERCENT_2.5</th>\n",
       "      <th>DBEGOALPERCENT_2.0</th>\n",
       "      <th>DBEGOALPERCENT_7.0</th>\n",
       "      <th>DBEGOALPERCENT_6.0</th>\n",
       "      <th>DBEGOALPERCENT_1.5</th>\n",
       "      <th>DBEGOALPERCENT_Rare</th>\n",
       "      <th>DBEGOALPERCENT_3.5</th>\n",
       "      <th>DBEGOALPERCENT_8.0</th>\n",
       "    </tr>\n",
       "  </thead>\n",
       "  <tbody>\n",
       "    <tr>\n",
       "      <th>112</th>\n",
       "      <td>9.505460</td>\n",
       "      <td>9.505460</td>\n",
       "      <td>13.012018</td>\n",
       "      <td>1.098612</td>\n",
       "      <td>9.486833</td>\n",
       "      <td>1</td>\n",
       "      <td>1</td>\n",
       "      <td>0</td>\n",
       "      <td>0</td>\n",
       "      <td>1</td>\n",
       "      <td>0</td>\n",
       "      <td>0</td>\n",
       "      <td>0</td>\n",
       "      <td>0</td>\n",
       "      <td>0</td>\n",
       "      <td>0</td>\n",
       "      <td>0</td>\n",
       "      <td>1</td>\n",
       "      <td>0</td>\n",
       "      <td>0</td>\n",
       "      <td>0</td>\n",
       "      <td>0</td>\n",
       "      <td>0</td>\n",
       "      <td>0</td>\n",
       "      <td>0</td>\n",
       "      <td>0</td>\n",
       "      <td>0</td>\n",
       "      <td>0</td>\n",
       "    </tr>\n",
       "    <tr>\n",
       "      <th>438</th>\n",
       "      <td>11.155784</td>\n",
       "      <td>11.151792</td>\n",
       "      <td>14.147524</td>\n",
       "      <td>1.613430</td>\n",
       "      <td>10.000000</td>\n",
       "      <td>1</td>\n",
       "      <td>1</td>\n",
       "      <td>0</td>\n",
       "      <td>0</td>\n",
       "      <td>0</td>\n",
       "      <td>1</td>\n",
       "      <td>0</td>\n",
       "      <td>0</td>\n",
       "      <td>0</td>\n",
       "      <td>0</td>\n",
       "      <td>0</td>\n",
       "      <td>0</td>\n",
       "      <td>0</td>\n",
       "      <td>1</td>\n",
       "      <td>0</td>\n",
       "      <td>0</td>\n",
       "      <td>0</td>\n",
       "      <td>0</td>\n",
       "      <td>0</td>\n",
       "      <td>0</td>\n",
       "      <td>0</td>\n",
       "      <td>0</td>\n",
       "      <td>0</td>\n",
       "    </tr>\n",
       "    <tr>\n",
       "      <th>440</th>\n",
       "      <td>9.817625</td>\n",
       "      <td>9.253733</td>\n",
       "      <td>12.472609</td>\n",
       "      <td>1.950187</td>\n",
       "      <td>3.741657</td>\n",
       "      <td>0</td>\n",
       "      <td>1</td>\n",
       "      <td>0</td>\n",
       "      <td>0</td>\n",
       "      <td>0</td>\n",
       "      <td>1</td>\n",
       "      <td>0</td>\n",
       "      <td>0</td>\n",
       "      <td>0</td>\n",
       "      <td>0</td>\n",
       "      <td>0</td>\n",
       "      <td>0</td>\n",
       "      <td>0</td>\n",
       "      <td>0</td>\n",
       "      <td>1</td>\n",
       "      <td>0</td>\n",
       "      <td>0</td>\n",
       "      <td>0</td>\n",
       "      <td>0</td>\n",
       "      <td>0</td>\n",
       "      <td>0</td>\n",
       "      <td>0</td>\n",
       "      <td>0</td>\n",
       "    </tr>\n",
       "    <tr>\n",
       "      <th>122</th>\n",
       "      <td>9.344184</td>\n",
       "      <td>8.647045</td>\n",
       "      <td>12.335925</td>\n",
       "      <td>1.613430</td>\n",
       "      <td>10.000000</td>\n",
       "      <td>1</td>\n",
       "      <td>1</td>\n",
       "      <td>0</td>\n",
       "      <td>0</td>\n",
       "      <td>0</td>\n",
       "      <td>0</td>\n",
       "      <td>1</td>\n",
       "      <td>0</td>\n",
       "      <td>0</td>\n",
       "      <td>0</td>\n",
       "      <td>0</td>\n",
       "      <td>0</td>\n",
       "      <td>0</td>\n",
       "      <td>0</td>\n",
       "      <td>0</td>\n",
       "      <td>1</td>\n",
       "      <td>0</td>\n",
       "      <td>0</td>\n",
       "      <td>0</td>\n",
       "      <td>0</td>\n",
       "      <td>0</td>\n",
       "      <td>0</td>\n",
       "      <td>0</td>\n",
       "    </tr>\n",
       "    <tr>\n",
       "      <th>118</th>\n",
       "      <td>11.283388</td>\n",
       "      <td>10.755705</td>\n",
       "      <td>14.667728</td>\n",
       "      <td>1.220830</td>\n",
       "      <td>13.416408</td>\n",
       "      <td>1</td>\n",
       "      <td>1</td>\n",
       "      <td>0</td>\n",
       "      <td>0</td>\n",
       "      <td>0</td>\n",
       "      <td>0</td>\n",
       "      <td>0</td>\n",
       "      <td>1</td>\n",
       "      <td>0</td>\n",
       "      <td>0</td>\n",
       "      <td>0</td>\n",
       "      <td>0</td>\n",
       "      <td>0</td>\n",
       "      <td>0</td>\n",
       "      <td>0</td>\n",
       "      <td>0</td>\n",
       "      <td>1</td>\n",
       "      <td>0</td>\n",
       "      <td>0</td>\n",
       "      <td>0</td>\n",
       "      <td>0</td>\n",
       "      <td>0</td>\n",
       "      <td>0</td>\n",
       "    </tr>\n",
       "  </tbody>\n",
       "</table>\n",
       "</div>"
      ],
      "text/plain": [
       "     DBE_Commit_Amount_log  DBE_Goal_Amount_log  TOT_BID_AMT_log  \\\n",
       "112               9.505460             9.505460        13.012018   \n",
       "438              11.155784            11.151792        14.147524   \n",
       "440               9.817625             9.253733        12.472609   \n",
       "122               9.344184             8.647045        12.335925   \n",
       "118              11.283388            10.755705        14.667728   \n",
       "\n",
       "     DBE_COMMITMENT_log  BID_DAYS_sqrt  FUND_IND_B  FUNDTYPE_0FED  \\\n",
       "112            1.098612       9.486833           1              1   \n",
       "438            1.613430      10.000000           1              1   \n",
       "440            1.950187       3.741657           0              1   \n",
       "122            1.613430      10.000000           1              1   \n",
       "118            1.220830      13.416408           1              1   \n",
       "\n",
       "     FUNDTYPE_Rare  FUNDTYPE_FED  PROPOSAL_TYPE_BRIDGE AND APPROACHES  \\\n",
       "112              0             0                                    1   \n",
       "438              0             0                                    0   \n",
       "440              0             0                                    0   \n",
       "122              0             0                                    0   \n",
       "118              0             0                                    0   \n",
       "\n",
       "     PROPOSAL_TYPE_RESURFACE (ASPHALT)  \\\n",
       "112                                  0   \n",
       "438                                  1   \n",
       "440                                  1   \n",
       "122                                  0   \n",
       "118                                  0   \n",
       "\n",
       "     PROPOSAL_TYPE_PEDESTRIAN IMPROVEMENTS (SIDEWALKS)  PROPOSAL_TYPE_Rare  \\\n",
       "112                                                  0                   0   \n",
       "438                                                  0                   0   \n",
       "440                                                  0                   0   \n",
       "122                                                  1                   0   \n",
       "118                                                  0                   1   \n",
       "\n",
       "     PROPOSAL_TYPE_BRIDGE REHABILITATION  \\\n",
       "112                                    0   \n",
       "438                                    0   \n",
       "440                                    0   \n",
       "122                                    0   \n",
       "118                                    0   \n",
       "\n",
       "     PROPOSAL_TYPE_WIDEN, RESURFACE, AND BRIDGE  \\\n",
       "112                                           0   \n",
       "438                                           0   \n",
       "440                                           0   \n",
       "122                                           0   \n",
       "118                                           0   \n",
       "\n",
       "     PROPOSAL_TYPE_GRADE, DRAIN, AND SURFACE  \\\n",
       "112                                        0   \n",
       "438                                        0   \n",
       "440                                        0   \n",
       "122                                        0   \n",
       "118                                        0   \n",
       "\n",
       "     PROPOSAL_TYPE_GRADE, DRAIN, SURFACE, AND BRIDGE  DBEGOALPERCENT_3.0  \\\n",
       "112                                                0                   1   \n",
       "438                                                0                   0   \n",
       "440                                                0                   0   \n",
       "122                                                0                   0   \n",
       "118                                                0                   0   \n",
       "\n",
       "     DBEGOALPERCENT_5.0  DBEGOALPERCENT_4.0  DBEGOALPERCENT_2.5  \\\n",
       "112                   0                   0                   0   \n",
       "438                   1                   0                   0   \n",
       "440                   0                   1                   0   \n",
       "122                   0                   0                   1   \n",
       "118                   0                   0                   0   \n",
       "\n",
       "     DBEGOALPERCENT_2.0  DBEGOALPERCENT_7.0  DBEGOALPERCENT_6.0  \\\n",
       "112                   0                   0                   0   \n",
       "438                   0                   0                   0   \n",
       "440                   0                   0                   0   \n",
       "122                   0                   0                   0   \n",
       "118                   1                   0                   0   \n",
       "\n",
       "     DBEGOALPERCENT_1.5  DBEGOALPERCENT_Rare  DBEGOALPERCENT_3.5  \\\n",
       "112                   0                    0                   0   \n",
       "438                   0                    0                   0   \n",
       "440                   0                    0                   0   \n",
       "122                   0                    0                   0   \n",
       "118                   0                    0                   0   \n",
       "\n",
       "     DBEGOALPERCENT_8.0  \n",
       "112                   0  \n",
       "438                   0  \n",
       "440                   0  \n",
       "122                   0  \n",
       "118                   0  "
      ]
     },
     "execution_count": 143,
     "metadata": {},
     "output_type": "execute_result"
    }
   ],
   "source": [
    "feat_transform.fit(X_train, y_train)\n",
    "X_train_clean = feat_transform.transform(X_train)\n",
    "X_test_clean = feat_transform.transform(X_test)\n",
    "X_train_clean.head()"
   ]
  },
  {
   "cell_type": "code",
   "execution_count": 144,
   "metadata": {},
   "outputs": [
    {
     "data": {
      "text/plain": [
       "(322, 28)"
      ]
     },
     "execution_count": 144,
     "metadata": {},
     "output_type": "execute_result"
    }
   ],
   "source": [
    "X_train_clean.shape"
   ]
  },
  {
   "cell_type": "code",
   "execution_count": 145,
   "metadata": {},
   "outputs": [
    {
     "data": {
      "text/plain": [
       "(138, 28)"
      ]
     },
     "execution_count": 145,
     "metadata": {},
     "output_type": "execute_result"
    }
   ],
   "source": [
    "X_test_clean.shape"
   ]
  },
  {
   "cell_type": "code",
   "execution_count": 146,
   "metadata": {},
   "outputs": [],
   "source": [
    "scaler = StandardScaler()\n",
    "scaler.fit(X_train_clean)\n",
    "X_train_std = scaler.transform(X_train_clean)\n",
    "X_test_std = scaler.transform(X_test_clean)"
   ]
  },
  {
   "cell_type": "code",
   "execution_count": 147,
   "metadata": {},
   "outputs": [
    {
     "data": {
      "text/html": [
       "<div>\n",
       "<style scoped>\n",
       "    .dataframe tbody tr th:only-of-type {\n",
       "        vertical-align: middle;\n",
       "    }\n",
       "\n",
       "    .dataframe tbody tr th {\n",
       "        vertical-align: top;\n",
       "    }\n",
       "\n",
       "    .dataframe thead th {\n",
       "        text-align: right;\n",
       "    }\n",
       "</style>\n",
       "<table border=\"1\" class=\"dataframe\">\n",
       "  <thead>\n",
       "    <tr style=\"text-align: right;\">\n",
       "      <th></th>\n",
       "      <th>DBE_Commit_Amount_log</th>\n",
       "      <th>DBE_Goal_Amount_log</th>\n",
       "      <th>TOT_BID_AMT_log</th>\n",
       "      <th>DBE_COMMITMENT_log</th>\n",
       "      <th>BID_DAYS_sqrt</th>\n",
       "      <th>FUND_IND_B</th>\n",
       "      <th>FUNDTYPE_0FED</th>\n",
       "      <th>FUNDTYPE_Rare</th>\n",
       "      <th>FUNDTYPE_FED</th>\n",
       "      <th>PROPOSAL_TYPE_BRIDGE AND APPROACHES</th>\n",
       "      <th>PROPOSAL_TYPE_RESURFACE (ASPHALT)</th>\n",
       "      <th>PROPOSAL_TYPE_PEDESTRIAN IMPROVEMENTS (SIDEWALKS)</th>\n",
       "      <th>PROPOSAL_TYPE_Rare</th>\n",
       "      <th>PROPOSAL_TYPE_BRIDGE REHABILITATION</th>\n",
       "      <th>PROPOSAL_TYPE_WIDEN, RESURFACE, AND BRIDGE</th>\n",
       "      <th>PROPOSAL_TYPE_GRADE, DRAIN, AND SURFACE</th>\n",
       "      <th>PROPOSAL_TYPE_GRADE, DRAIN, SURFACE, AND BRIDGE</th>\n",
       "      <th>DBEGOALPERCENT_3.0</th>\n",
       "      <th>DBEGOALPERCENT_5.0</th>\n",
       "      <th>DBEGOALPERCENT_4.0</th>\n",
       "      <th>DBEGOALPERCENT_2.5</th>\n",
       "      <th>DBEGOALPERCENT_2.0</th>\n",
       "      <th>DBEGOALPERCENT_7.0</th>\n",
       "      <th>DBEGOALPERCENT_6.0</th>\n",
       "      <th>DBEGOALPERCENT_1.5</th>\n",
       "      <th>DBEGOALPERCENT_Rare</th>\n",
       "      <th>DBEGOALPERCENT_3.5</th>\n",
       "      <th>DBEGOALPERCENT_8.0</th>\n",
       "    </tr>\n",
       "  </thead>\n",
       "  <tbody>\n",
       "    <tr>\n",
       "      <th>112</th>\n",
       "      <td>9.505460</td>\n",
       "      <td>9.505460</td>\n",
       "      <td>13.012018</td>\n",
       "      <td>1.098612</td>\n",
       "      <td>9.486833</td>\n",
       "      <td>1</td>\n",
       "      <td>1</td>\n",
       "      <td>0</td>\n",
       "      <td>0</td>\n",
       "      <td>1</td>\n",
       "      <td>0</td>\n",
       "      <td>0</td>\n",
       "      <td>0</td>\n",
       "      <td>0</td>\n",
       "      <td>0</td>\n",
       "      <td>0</td>\n",
       "      <td>0</td>\n",
       "      <td>1</td>\n",
       "      <td>0</td>\n",
       "      <td>0</td>\n",
       "      <td>0</td>\n",
       "      <td>0</td>\n",
       "      <td>0</td>\n",
       "      <td>0</td>\n",
       "      <td>0</td>\n",
       "      <td>0</td>\n",
       "      <td>0</td>\n",
       "      <td>0</td>\n",
       "    </tr>\n",
       "    <tr>\n",
       "      <th>438</th>\n",
       "      <td>11.155784</td>\n",
       "      <td>11.151792</td>\n",
       "      <td>14.147524</td>\n",
       "      <td>1.613430</td>\n",
       "      <td>10.000000</td>\n",
       "      <td>1</td>\n",
       "      <td>1</td>\n",
       "      <td>0</td>\n",
       "      <td>0</td>\n",
       "      <td>0</td>\n",
       "      <td>1</td>\n",
       "      <td>0</td>\n",
       "      <td>0</td>\n",
       "      <td>0</td>\n",
       "      <td>0</td>\n",
       "      <td>0</td>\n",
       "      <td>0</td>\n",
       "      <td>0</td>\n",
       "      <td>1</td>\n",
       "      <td>0</td>\n",
       "      <td>0</td>\n",
       "      <td>0</td>\n",
       "      <td>0</td>\n",
       "      <td>0</td>\n",
       "      <td>0</td>\n",
       "      <td>0</td>\n",
       "      <td>0</td>\n",
       "      <td>0</td>\n",
       "    </tr>\n",
       "    <tr>\n",
       "      <th>440</th>\n",
       "      <td>9.817625</td>\n",
       "      <td>9.253733</td>\n",
       "      <td>12.472609</td>\n",
       "      <td>1.950187</td>\n",
       "      <td>3.741657</td>\n",
       "      <td>0</td>\n",
       "      <td>1</td>\n",
       "      <td>0</td>\n",
       "      <td>0</td>\n",
       "      <td>0</td>\n",
       "      <td>1</td>\n",
       "      <td>0</td>\n",
       "      <td>0</td>\n",
       "      <td>0</td>\n",
       "      <td>0</td>\n",
       "      <td>0</td>\n",
       "      <td>0</td>\n",
       "      <td>0</td>\n",
       "      <td>0</td>\n",
       "      <td>1</td>\n",
       "      <td>0</td>\n",
       "      <td>0</td>\n",
       "      <td>0</td>\n",
       "      <td>0</td>\n",
       "      <td>0</td>\n",
       "      <td>0</td>\n",
       "      <td>0</td>\n",
       "      <td>0</td>\n",
       "    </tr>\n",
       "    <tr>\n",
       "      <th>122</th>\n",
       "      <td>9.344184</td>\n",
       "      <td>8.647045</td>\n",
       "      <td>12.335925</td>\n",
       "      <td>1.613430</td>\n",
       "      <td>10.000000</td>\n",
       "      <td>1</td>\n",
       "      <td>1</td>\n",
       "      <td>0</td>\n",
       "      <td>0</td>\n",
       "      <td>0</td>\n",
       "      <td>0</td>\n",
       "      <td>1</td>\n",
       "      <td>0</td>\n",
       "      <td>0</td>\n",
       "      <td>0</td>\n",
       "      <td>0</td>\n",
       "      <td>0</td>\n",
       "      <td>0</td>\n",
       "      <td>0</td>\n",
       "      <td>0</td>\n",
       "      <td>1</td>\n",
       "      <td>0</td>\n",
       "      <td>0</td>\n",
       "      <td>0</td>\n",
       "      <td>0</td>\n",
       "      <td>0</td>\n",
       "      <td>0</td>\n",
       "      <td>0</td>\n",
       "    </tr>\n",
       "  </tbody>\n",
       "</table>\n",
       "</div>"
      ],
      "text/plain": [
       "     DBE_Commit_Amount_log  DBE_Goal_Amount_log  TOT_BID_AMT_log  \\\n",
       "112               9.505460             9.505460        13.012018   \n",
       "438              11.155784            11.151792        14.147524   \n",
       "440               9.817625             9.253733        12.472609   \n",
       "122               9.344184             8.647045        12.335925   \n",
       "\n",
       "     DBE_COMMITMENT_log  BID_DAYS_sqrt  FUND_IND_B  FUNDTYPE_0FED  \\\n",
       "112            1.098612       9.486833           1              1   \n",
       "438            1.613430      10.000000           1              1   \n",
       "440            1.950187       3.741657           0              1   \n",
       "122            1.613430      10.000000           1              1   \n",
       "\n",
       "     FUNDTYPE_Rare  FUNDTYPE_FED  PROPOSAL_TYPE_BRIDGE AND APPROACHES  \\\n",
       "112              0             0                                    1   \n",
       "438              0             0                                    0   \n",
       "440              0             0                                    0   \n",
       "122              0             0                                    0   \n",
       "\n",
       "     PROPOSAL_TYPE_RESURFACE (ASPHALT)  \\\n",
       "112                                  0   \n",
       "438                                  1   \n",
       "440                                  1   \n",
       "122                                  0   \n",
       "\n",
       "     PROPOSAL_TYPE_PEDESTRIAN IMPROVEMENTS (SIDEWALKS)  PROPOSAL_TYPE_Rare  \\\n",
       "112                                                  0                   0   \n",
       "438                                                  0                   0   \n",
       "440                                                  0                   0   \n",
       "122                                                  1                   0   \n",
       "\n",
       "     PROPOSAL_TYPE_BRIDGE REHABILITATION  \\\n",
       "112                                    0   \n",
       "438                                    0   \n",
       "440                                    0   \n",
       "122                                    0   \n",
       "\n",
       "     PROPOSAL_TYPE_WIDEN, RESURFACE, AND BRIDGE  \\\n",
       "112                                           0   \n",
       "438                                           0   \n",
       "440                                           0   \n",
       "122                                           0   \n",
       "\n",
       "     PROPOSAL_TYPE_GRADE, DRAIN, AND SURFACE  \\\n",
       "112                                        0   \n",
       "438                                        0   \n",
       "440                                        0   \n",
       "122                                        0   \n",
       "\n",
       "     PROPOSAL_TYPE_GRADE, DRAIN, SURFACE, AND BRIDGE  DBEGOALPERCENT_3.0  \\\n",
       "112                                                0                   1   \n",
       "438                                                0                   0   \n",
       "440                                                0                   0   \n",
       "122                                                0                   0   \n",
       "\n",
       "     DBEGOALPERCENT_5.0  DBEGOALPERCENT_4.0  DBEGOALPERCENT_2.5  \\\n",
       "112                   0                   0                   0   \n",
       "438                   1                   0                   0   \n",
       "440                   0                   1                   0   \n",
       "122                   0                   0                   1   \n",
       "\n",
       "     DBEGOALPERCENT_2.0  DBEGOALPERCENT_7.0  DBEGOALPERCENT_6.0  \\\n",
       "112                   0                   0                   0   \n",
       "438                   0                   0                   0   \n",
       "440                   0                   0                   0   \n",
       "122                   0                   0                   0   \n",
       "\n",
       "     DBEGOALPERCENT_1.5  DBEGOALPERCENT_Rare  DBEGOALPERCENT_3.5  \\\n",
       "112                   0                    0                   0   \n",
       "438                   0                    0                   0   \n",
       "440                   0                    0                   0   \n",
       "122                   0                    0                   0   \n",
       "\n",
       "     DBEGOALPERCENT_8.0  \n",
       "112                   0  \n",
       "438                   0  \n",
       "440                   0  \n",
       "122                   0  "
      ]
     },
     "execution_count": 147,
     "metadata": {},
     "output_type": "execute_result"
    }
   ],
   "source": [
    "X_train_clean.head(4)"
   ]
  },
  {
   "cell_type": "code",
   "execution_count": 152,
   "metadata": {},
   "outputs": [],
   "source": [
    "col_names = ['DBE_Commit_Amount_log','DBE_Goal_Amount_log','TOT_BID_AMT_log','DBE_COMMITMENT_log','BID_DAYS_sqrt','FUND_IND_B','FUNDTYPE_0FED','FUNDTYPE_Rare','FUNDTYPE_FED','PROPOSAL_TYPE_BRIDGE AND APPROACHES','PROPOSAL_TYPE_RESURFACE (ASPHALT)','PROPOSAL_TYPE_PEDESTRIAN IMPROVEMENTS (SIDEWALKS)','PROPOSAL_TYPE_Rare','PROPOSAL_TYPE_BRIDGE REHABILITATION','PROPOSAL_TYPE_WIDEN, RESURFACE, AND BRIDGE','ROPOSAL_TYPE_GRADE, DRAIN, AND SURFACE','PROPOSAL_TYPE_GRADE, DRAIN, SURFACE, AND BRIDGE','DBEGOALPERCENT_3.0','DBEGOALPERCENT_5.0','DBEGOALPERCENT_4.0','DBEGOALPERCENT_2.5','DBEGOALPERCENT_2.0','DBEGOALPERCENT_7.0','DBEGOALPERCENT_6.0','DBEGOALPERCENT_1.5','DBEGOALPERCENT_Rare','DBEGOALPERCENT_3.5','DBEGOALPERCENT_8.0']"
   ]
  },
  {
   "cell_type": "code",
   "execution_count": 153,
   "metadata": {},
   "outputs": [],
   "source": [
    "X_train_std_df = pd.DataFrame(X_train_std, columns=col_names)\n",
    "X_test_std_df = pd.DataFrame(X_test_std, columns=col_names)"
   ]
  },
  {
   "cell_type": "code",
   "execution_count": 154,
   "metadata": {},
   "outputs": [
    {
     "data": {
      "text/html": [
       "<div>\n",
       "<style scoped>\n",
       "    .dataframe tbody tr th:only-of-type {\n",
       "        vertical-align: middle;\n",
       "    }\n",
       "\n",
       "    .dataframe tbody tr th {\n",
       "        vertical-align: top;\n",
       "    }\n",
       "\n",
       "    .dataframe thead th {\n",
       "        text-align: right;\n",
       "    }\n",
       "</style>\n",
       "<table border=\"1\" class=\"dataframe\">\n",
       "  <thead>\n",
       "    <tr style=\"text-align: right;\">\n",
       "      <th></th>\n",
       "      <th>DBE_Commit_Amount_log</th>\n",
       "      <th>DBE_Goal_Amount_log</th>\n",
       "      <th>TOT_BID_AMT_log</th>\n",
       "      <th>DBE_COMMITMENT_log</th>\n",
       "      <th>BID_DAYS_sqrt</th>\n",
       "      <th>FUND_IND_B</th>\n",
       "      <th>FUNDTYPE_0FED</th>\n",
       "      <th>FUNDTYPE_Rare</th>\n",
       "      <th>FUNDTYPE_FED</th>\n",
       "      <th>PROPOSAL_TYPE_BRIDGE AND APPROACHES</th>\n",
       "      <th>PROPOSAL_TYPE_RESURFACE (ASPHALT)</th>\n",
       "      <th>PROPOSAL_TYPE_PEDESTRIAN IMPROVEMENTS (SIDEWALKS)</th>\n",
       "      <th>PROPOSAL_TYPE_Rare</th>\n",
       "      <th>PROPOSAL_TYPE_BRIDGE REHABILITATION</th>\n",
       "      <th>PROPOSAL_TYPE_WIDEN, RESURFACE, AND BRIDGE</th>\n",
       "      <th>ROPOSAL_TYPE_GRADE, DRAIN, AND SURFACE</th>\n",
       "      <th>PROPOSAL_TYPE_GRADE, DRAIN, SURFACE, AND BRIDGE</th>\n",
       "      <th>DBEGOALPERCENT_3.0</th>\n",
       "      <th>DBEGOALPERCENT_5.0</th>\n",
       "      <th>DBEGOALPERCENT_4.0</th>\n",
       "      <th>DBEGOALPERCENT_2.5</th>\n",
       "      <th>DBEGOALPERCENT_2.0</th>\n",
       "      <th>DBEGOALPERCENT_7.0</th>\n",
       "      <th>DBEGOALPERCENT_6.0</th>\n",
       "      <th>DBEGOALPERCENT_1.5</th>\n",
       "      <th>DBEGOALPERCENT_Rare</th>\n",
       "      <th>DBEGOALPERCENT_3.5</th>\n",
       "      <th>DBEGOALPERCENT_8.0</th>\n",
       "    </tr>\n",
       "  </thead>\n",
       "  <tbody>\n",
       "    <tr>\n",
       "      <th>0</th>\n",
       "      <td>-1.451832</td>\n",
       "      <td>-1.120233</td>\n",
       "      <td>-1.229902</td>\n",
       "      <td>-0.968384</td>\n",
       "      <td>-0.759491</td>\n",
       "      <td>0.651751</td>\n",
       "      <td>0.32053</td>\n",
       "      <td>-0.188069</td>\n",
       "      <td>-0.221043</td>\n",
       "      <td>1.012500</td>\n",
       "      <td>-0.371227</td>\n",
       "      <td>-0.112154</td>\n",
       "      <td>-0.433811</td>\n",
       "      <td>-0.228665</td>\n",
       "      <td>-0.112154</td>\n",
       "      <td>-0.28379</td>\n",
       "      <td>-0.264135</td>\n",
       "      <td>1.932691</td>\n",
       "      <td>-0.381978</td>\n",
       "      <td>-0.418548</td>\n",
       "      <td>-0.159617</td>\n",
       "      <td>-0.502910</td>\n",
       "      <td>-0.228665</td>\n",
       "      <td>-0.365791</td>\n",
       "      <td>-0.16957</td>\n",
       "      <td>-0.179029</td>\n",
       "      <td>-0.159617</td>\n",
       "      <td>-0.112154</td>\n",
       "    </tr>\n",
       "    <tr>\n",
       "      <th>1</th>\n",
       "      <td>-0.151971</td>\n",
       "      <td>0.093822</td>\n",
       "      <td>-0.219143</td>\n",
       "      <td>0.111707</td>\n",
       "      <td>-0.625935</td>\n",
       "      <td>0.651751</td>\n",
       "      <td>0.32053</td>\n",
       "      <td>-0.188069</td>\n",
       "      <td>-0.221043</td>\n",
       "      <td>-0.987654</td>\n",
       "      <td>2.693772</td>\n",
       "      <td>-0.112154</td>\n",
       "      <td>-0.433811</td>\n",
       "      <td>-0.228665</td>\n",
       "      <td>-0.112154</td>\n",
       "      <td>-0.28379</td>\n",
       "      <td>-0.264135</td>\n",
       "      <td>-0.517413</td>\n",
       "      <td>2.617949</td>\n",
       "      <td>-0.418548</td>\n",
       "      <td>-0.159617</td>\n",
       "      <td>-0.502910</td>\n",
       "      <td>-0.228665</td>\n",
       "      <td>-0.365791</td>\n",
       "      <td>-0.16957</td>\n",
       "      <td>-0.179029</td>\n",
       "      <td>-0.159617</td>\n",
       "      <td>-0.112154</td>\n",
       "    </tr>\n",
       "    <tr>\n",
       "      <th>2</th>\n",
       "      <td>-1.205959</td>\n",
       "      <td>-1.305864</td>\n",
       "      <td>-1.710052</td>\n",
       "      <td>0.818225</td>\n",
       "      <td>-2.254717</td>\n",
       "      <td>-1.534329</td>\n",
       "      <td>0.32053</td>\n",
       "      <td>-0.188069</td>\n",
       "      <td>-0.221043</td>\n",
       "      <td>-0.987654</td>\n",
       "      <td>2.693772</td>\n",
       "      <td>-0.112154</td>\n",
       "      <td>-0.433811</td>\n",
       "      <td>-0.228665</td>\n",
       "      <td>-0.112154</td>\n",
       "      <td>-0.28379</td>\n",
       "      <td>-0.264135</td>\n",
       "      <td>-0.517413</td>\n",
       "      <td>-0.381978</td>\n",
       "      <td>2.389212</td>\n",
       "      <td>-0.159617</td>\n",
       "      <td>-0.502910</td>\n",
       "      <td>-0.228665</td>\n",
       "      <td>-0.365791</td>\n",
       "      <td>-0.16957</td>\n",
       "      <td>-0.179029</td>\n",
       "      <td>-0.159617</td>\n",
       "      <td>-0.112154</td>\n",
       "    </tr>\n",
       "    <tr>\n",
       "      <th>3</th>\n",
       "      <td>-1.578860</td>\n",
       "      <td>-1.753255</td>\n",
       "      <td>-1.831721</td>\n",
       "      <td>0.111707</td>\n",
       "      <td>-0.625935</td>\n",
       "      <td>0.651751</td>\n",
       "      <td>0.32053</td>\n",
       "      <td>-0.188069</td>\n",
       "      <td>-0.221043</td>\n",
       "      <td>-0.987654</td>\n",
       "      <td>-0.371227</td>\n",
       "      <td>8.916277</td>\n",
       "      <td>-0.433811</td>\n",
       "      <td>-0.228665</td>\n",
       "      <td>-0.112154</td>\n",
       "      <td>-0.28379</td>\n",
       "      <td>-0.264135</td>\n",
       "      <td>-0.517413</td>\n",
       "      <td>-0.381978</td>\n",
       "      <td>-0.418548</td>\n",
       "      <td>6.264982</td>\n",
       "      <td>-0.502910</td>\n",
       "      <td>-0.228665</td>\n",
       "      <td>-0.365791</td>\n",
       "      <td>-0.16957</td>\n",
       "      <td>-0.179029</td>\n",
       "      <td>-0.159617</td>\n",
       "      <td>-0.112154</td>\n",
       "    </tr>\n",
       "    <tr>\n",
       "      <th>4</th>\n",
       "      <td>-0.051465</td>\n",
       "      <td>-0.198264</td>\n",
       "      <td>0.243912</td>\n",
       "      <td>-0.711970</td>\n",
       "      <td>0.263212</td>\n",
       "      <td>0.651751</td>\n",
       "      <td>0.32053</td>\n",
       "      <td>-0.188069</td>\n",
       "      <td>-0.221043</td>\n",
       "      <td>-0.987654</td>\n",
       "      <td>-0.371227</td>\n",
       "      <td>-0.112154</td>\n",
       "      <td>2.305152</td>\n",
       "      <td>-0.228665</td>\n",
       "      <td>-0.112154</td>\n",
       "      <td>-0.28379</td>\n",
       "      <td>-0.264135</td>\n",
       "      <td>-0.517413</td>\n",
       "      <td>-0.381978</td>\n",
       "      <td>-0.418548</td>\n",
       "      <td>-0.159617</td>\n",
       "      <td>1.988428</td>\n",
       "      <td>-0.228665</td>\n",
       "      <td>-0.365791</td>\n",
       "      <td>-0.16957</td>\n",
       "      <td>-0.179029</td>\n",
       "      <td>-0.159617</td>\n",
       "      <td>-0.112154</td>\n",
       "    </tr>\n",
       "  </tbody>\n",
       "</table>\n",
       "</div>"
      ],
      "text/plain": [
       "   DBE_Commit_Amount_log  DBE_Goal_Amount_log  TOT_BID_AMT_log  \\\n",
       "0              -1.451832            -1.120233        -1.229902   \n",
       "1              -0.151971             0.093822        -0.219143   \n",
       "2              -1.205959            -1.305864        -1.710052   \n",
       "3              -1.578860            -1.753255        -1.831721   \n",
       "4              -0.051465            -0.198264         0.243912   \n",
       "\n",
       "   DBE_COMMITMENT_log  BID_DAYS_sqrt  FUND_IND_B  FUNDTYPE_0FED  \\\n",
       "0           -0.968384      -0.759491    0.651751        0.32053   \n",
       "1            0.111707      -0.625935    0.651751        0.32053   \n",
       "2            0.818225      -2.254717   -1.534329        0.32053   \n",
       "3            0.111707      -0.625935    0.651751        0.32053   \n",
       "4           -0.711970       0.263212    0.651751        0.32053   \n",
       "\n",
       "   FUNDTYPE_Rare  FUNDTYPE_FED  PROPOSAL_TYPE_BRIDGE AND APPROACHES  \\\n",
       "0      -0.188069     -0.221043                             1.012500   \n",
       "1      -0.188069     -0.221043                            -0.987654   \n",
       "2      -0.188069     -0.221043                            -0.987654   \n",
       "3      -0.188069     -0.221043                            -0.987654   \n",
       "4      -0.188069     -0.221043                            -0.987654   \n",
       "\n",
       "   PROPOSAL_TYPE_RESURFACE (ASPHALT)  \\\n",
       "0                          -0.371227   \n",
       "1                           2.693772   \n",
       "2                           2.693772   \n",
       "3                          -0.371227   \n",
       "4                          -0.371227   \n",
       "\n",
       "   PROPOSAL_TYPE_PEDESTRIAN IMPROVEMENTS (SIDEWALKS)  PROPOSAL_TYPE_Rare  \\\n",
       "0                                          -0.112154           -0.433811   \n",
       "1                                          -0.112154           -0.433811   \n",
       "2                                          -0.112154           -0.433811   \n",
       "3                                           8.916277           -0.433811   \n",
       "4                                          -0.112154            2.305152   \n",
       "\n",
       "   PROPOSAL_TYPE_BRIDGE REHABILITATION  \\\n",
       "0                            -0.228665   \n",
       "1                            -0.228665   \n",
       "2                            -0.228665   \n",
       "3                            -0.228665   \n",
       "4                            -0.228665   \n",
       "\n",
       "   PROPOSAL_TYPE_WIDEN, RESURFACE, AND BRIDGE  \\\n",
       "0                                   -0.112154   \n",
       "1                                   -0.112154   \n",
       "2                                   -0.112154   \n",
       "3                                   -0.112154   \n",
       "4                                   -0.112154   \n",
       "\n",
       "   ROPOSAL_TYPE_GRADE, DRAIN, AND SURFACE  \\\n",
       "0                                -0.28379   \n",
       "1                                -0.28379   \n",
       "2                                -0.28379   \n",
       "3                                -0.28379   \n",
       "4                                -0.28379   \n",
       "\n",
       "   PROPOSAL_TYPE_GRADE, DRAIN, SURFACE, AND BRIDGE  DBEGOALPERCENT_3.0  \\\n",
       "0                                        -0.264135            1.932691   \n",
       "1                                        -0.264135           -0.517413   \n",
       "2                                        -0.264135           -0.517413   \n",
       "3                                        -0.264135           -0.517413   \n",
       "4                                        -0.264135           -0.517413   \n",
       "\n",
       "   DBEGOALPERCENT_5.0  DBEGOALPERCENT_4.0  DBEGOALPERCENT_2.5  \\\n",
       "0           -0.381978           -0.418548           -0.159617   \n",
       "1            2.617949           -0.418548           -0.159617   \n",
       "2           -0.381978            2.389212           -0.159617   \n",
       "3           -0.381978           -0.418548            6.264982   \n",
       "4           -0.381978           -0.418548           -0.159617   \n",
       "\n",
       "   DBEGOALPERCENT_2.0  DBEGOALPERCENT_7.0  DBEGOALPERCENT_6.0  \\\n",
       "0           -0.502910           -0.228665           -0.365791   \n",
       "1           -0.502910           -0.228665           -0.365791   \n",
       "2           -0.502910           -0.228665           -0.365791   \n",
       "3           -0.502910           -0.228665           -0.365791   \n",
       "4            1.988428           -0.228665           -0.365791   \n",
       "\n",
       "   DBEGOALPERCENT_1.5  DBEGOALPERCENT_Rare  DBEGOALPERCENT_3.5  \\\n",
       "0            -0.16957            -0.179029           -0.159617   \n",
       "1            -0.16957            -0.179029           -0.159617   \n",
       "2            -0.16957            -0.179029           -0.159617   \n",
       "3            -0.16957            -0.179029           -0.159617   \n",
       "4            -0.16957            -0.179029           -0.159617   \n",
       "\n",
       "   DBEGOALPERCENT_8.0  \n",
       "0           -0.112154  \n",
       "1           -0.112154  \n",
       "2           -0.112154  \n",
       "3           -0.112154  \n",
       "4           -0.112154  "
      ]
     },
     "execution_count": 154,
     "metadata": {},
     "output_type": "execute_result"
    }
   ],
   "source": [
    "X_train_std_df.head()"
   ]
  },
  {
   "cell_type": "code",
   "execution_count": 155,
   "metadata": {},
   "outputs": [
    {
     "data": {
      "text/plain": [
       "(322, 28)"
      ]
     },
     "execution_count": 155,
     "metadata": {},
     "output_type": "execute_result"
    }
   ],
   "source": [
    "X_train_std_df.shape"
   ]
  },
  {
   "cell_type": "code",
   "execution_count": 156,
   "metadata": {},
   "outputs": [
    {
     "data": {
      "text/plain": [
       "DBE_Commit_Amount_log                                float64\n",
       "DBE_Goal_Amount_log                                  float64\n",
       "TOT_BID_AMT_log                                      float64\n",
       "DBE_COMMITMENT_log                                   float64\n",
       "BID_DAYS_sqrt                                        float64\n",
       "FUND_IND_B                                           float64\n",
       "FUNDTYPE_0FED                                        float64\n",
       "FUNDTYPE_Rare                                        float64\n",
       "FUNDTYPE_FED                                         float64\n",
       "PROPOSAL_TYPE_BRIDGE AND APPROACHES                  float64\n",
       "PROPOSAL_TYPE_RESURFACE (ASPHALT)                    float64\n",
       "PROPOSAL_TYPE_PEDESTRIAN IMPROVEMENTS (SIDEWALKS)    float64\n",
       "PROPOSAL_TYPE_Rare                                   float64\n",
       "PROPOSAL_TYPE_BRIDGE REHABILITATION                  float64\n",
       "PROPOSAL_TYPE_WIDEN, RESURFACE, AND BRIDGE           float64\n",
       "ROPOSAL_TYPE_GRADE, DRAIN, AND SURFACE               float64\n",
       "PROPOSAL_TYPE_GRADE, DRAIN, SURFACE, AND BRIDGE      float64\n",
       "DBEGOALPERCENT_3.0                                   float64\n",
       "DBEGOALPERCENT_5.0                                   float64\n",
       "DBEGOALPERCENT_4.0                                   float64\n",
       "DBEGOALPERCENT_2.5                                   float64\n",
       "DBEGOALPERCENT_2.0                                   float64\n",
       "DBEGOALPERCENT_7.0                                   float64\n",
       "DBEGOALPERCENT_6.0                                   float64\n",
       "DBEGOALPERCENT_1.5                                   float64\n",
       "DBEGOALPERCENT_Rare                                  float64\n",
       "DBEGOALPERCENT_3.5                                   float64\n",
       "DBEGOALPERCENT_8.0                                   float64\n",
       "dtype: object"
      ]
     },
     "execution_count": 156,
     "metadata": {},
     "output_type": "execute_result"
    }
   ],
   "source": [
    "X_train_std_df.dtypes"
   ]
  },
  {
   "cell_type": "code",
   "execution_count": 157,
   "metadata": {},
   "outputs": [],
   "source": [
    "y_train=y_train.astype('int')"
   ]
  },
  {
   "cell_type": "code",
   "execution_count": 158,
   "metadata": {},
   "outputs": [
    {
     "data": {
      "text/plain": [
       "1    298\n",
       "0     24\n",
       "Name: DBE_goal, dtype: int64"
      ]
     },
     "execution_count": 158,
     "metadata": {},
     "output_type": "execute_result"
    }
   ],
   "source": [
    "y_train.value_counts()"
   ]
  },
  {
   "cell_type": "code",
   "execution_count": 159,
   "metadata": {},
   "outputs": [],
   "source": [
    "y_test=y_test.astype('int')"
   ]
  },
  {
   "cell_type": "code",
   "execution_count": 160,
   "metadata": {},
   "outputs": [
    {
     "data": {
      "text/plain": [
       "1    121\n",
       "0     17\n",
       "Name: DBE_goal, dtype: int64"
      ]
     },
     "execution_count": 160,
     "metadata": {},
     "output_type": "execute_result"
    }
   ],
   "source": [
    "y_test.value_counts()"
   ]
  },
  {
   "cell_type": "code",
   "execution_count": 161,
   "metadata": {},
   "outputs": [
    {
     "data": {
      "text/plain": [
       "dtype('int32')"
      ]
     },
     "execution_count": 161,
     "metadata": {},
     "output_type": "execute_result"
    }
   ],
   "source": [
    "y_test.dtypes"
   ]
  },
  {
   "cell_type": "code",
   "execution_count": 162,
   "metadata": {},
   "outputs": [
    {
     "data": {
      "text/plain": [
       "dtype('int32')"
      ]
     },
     "execution_count": 162,
     "metadata": {},
     "output_type": "execute_result"
    }
   ],
   "source": [
    "y_train.dtypes"
   ]
  },
  {
   "cell_type": "code",
   "execution_count": 163,
   "metadata": {},
   "outputs": [
    {
     "name": "stdout",
     "output_type": "stream",
     "text": [
      "[0.70333333 0.75333333 0.83333333 0.43389831 0.80338983]\n",
      "Logistic Regression: Avg CV roc_auc using all features on training data: 0.7055\n",
      "Logistic Regression: roc_auc w/all features on test data 0.9835:\n",
      "              precision    recall  f1-score   support\n",
      "\n",
      "           0       0.33      0.06      0.10        17\n",
      "           1       0.88      0.98      0.93       121\n",
      "\n",
      "    accuracy                           0.87       138\n",
      "   macro avg       0.61      0.52      0.51       138\n",
      "weighted avg       0.81      0.87      0.83       138\n",
      "\n",
      "[[  1  16]\n",
      " [  2 119]]\n"
     ]
    },
    {
     "data": {
      "image/png": "[encoded data removed]",
      "text/plain": [
       "<Figure size 432x216 with 2 Axes>"
      ]
     },
     "metadata": {
      "needs_background": "light"
     },
     "output_type": "display_data"
    },
    {
     "name": "stdout",
     "output_type": "stream",
     "text": [
      "-------------------------------------------------------\n",
      "[0.51       0.77666667 0.75208333 0.43220339 0.51525424]\n",
      "Random Forest: Avg CV roc_auc using all features on training data: 0.5972\n",
      "Random Forest: roc_auc w/all features on test data 0.9917:\n",
      "              precision    recall  f1-score   support\n",
      "\n",
      "           0       0.50      0.06      0.11        17\n",
      "           1       0.88      0.99      0.93       121\n",
      "\n",
      "    accuracy                           0.88       138\n",
      "   macro avg       0.69      0.53      0.52       138\n",
      "weighted avg       0.84      0.88      0.83       138\n",
      "\n",
      "[[  1  16]\n",
      " [  1 120]]\n"
     ]
    },
    {
     "data": {
      "image/png": "[encoded data removed]",
      "text/plain": [
       "<Figure size 432x216 with 2 Axes>"
      ]
     },
     "metadata": {
      "needs_background": "light"
     },
     "output_type": "display_data"
    },
    {
     "name": "stdout",
     "output_type": "stream",
     "text": [
      "-------------------------------------------------------\n",
      "[0.63       0.71       0.83333333 0.41186441 0.69322034]\n",
      "Naive Bayes: Avg CV roc_auc using all features on training data: 0.6557\n",
      "Naive Bayes: roc_auc w/all features on test data 0.3223:\n",
      "              precision    recall  f1-score   support\n",
      "\n",
      "           0       0.14      0.76      0.23        17\n",
      "           1       0.91      0.32      0.48       121\n",
      "\n",
      "    accuracy                           0.38       138\n",
      "   macro avg       0.52      0.54      0.35       138\n",
      "weighted avg       0.81      0.38      0.45       138\n",
      "\n",
      "[[13  4]\n",
      " [82 39]]\n"
     ]
    },
    {
     "data": {
      "image/png": "[encoded data removed]",
      "text/plain": [
       "<Figure size 432x216 with 2 Axes>"
      ]
     },
     "metadata": {
      "needs_background": "light"
     },
     "output_type": "display_data"
    },
    {
     "name": "stdout",
     "output_type": "stream",
     "text": [
      "-------------------------------------------------------\n",
      "[0.61       0.74       0.71041667 0.46779661 0.62711864]\n",
      "Gradient Boosting Classifier: Avg CV roc_auc using all features on training data: 0.6311\n",
      "Gradient Boosting Classifier: roc_auc w/all features on test data 0.9752:\n",
      "              precision    recall  f1-score   support\n",
      "\n",
      "           0       0.40      0.12      0.18        17\n",
      "           1       0.89      0.98      0.93       121\n",
      "\n",
      "    accuracy                           0.87       138\n",
      "   macro avg       0.64      0.55      0.56       138\n",
      "weighted avg       0.83      0.87      0.84       138\n",
      "\n",
      "[[  2  15]\n",
      " [  3 118]]\n"
     ]
    },
    {
     "data": {
      "image/png": "[encoded data removed]",
      "text/plain": [
       "<Figure size 432x216 with 2 Axes>"
      ]
     },
     "metadata": {
      "needs_background": "light"
     },
     "output_type": "display_data"
    },
    {
     "name": "stdout",
     "output_type": "stream",
     "text": [
      "-------------------------------------------------------\n",
      "[0.45       0.46666667 0.6        0.43220339 0.47457627]\n",
      "Decision Tree: Avg CV roc_auc using all features on training data: 0.4847\n",
      "Decision Tree: roc_auc w/all features on test data 0.9339:\n",
      "              precision    recall  f1-score   support\n",
      "\n",
      "           0       0.33      0.24      0.28        17\n",
      "           1       0.90      0.93      0.91       121\n",
      "\n",
      "    accuracy                           0.85       138\n",
      "   macro avg       0.62      0.58      0.60       138\n",
      "weighted avg       0.83      0.85      0.84       138\n",
      "\n",
      "[[  4  13]\n",
      " [  8 113]]\n"
     ]
    },
    {
     "data": {
      "image/png": "[encoded data removed]",
      "text/plain": [
       "<Figure size 432x216 with 2 Axes>"
      ]
     },
     "metadata": {
      "needs_background": "light"
     },
     "output_type": "display_data"
    },
    {
     "name": "stdout",
     "output_type": "stream",
     "text": [
      "-------------------------------------------------------\n",
      "[0.62333333 0.73       0.81666667 0.44067797 0.59322034]\n",
      "Support Vector Machine: Avg CV roc_auc using all features on training data: 0.6408\n",
      "Support Vector Machine: roc_auc w/all features on test data 1.0:\n",
      "              precision    recall  f1-score   support\n",
      "\n",
      "           0       0.00      0.00      0.00        17\n",
      "           1       0.88      1.00      0.93       121\n",
      "\n",
      "    accuracy                           0.88       138\n",
      "   macro avg       0.44      0.50      0.47       138\n",
      "weighted avg       0.77      0.88      0.82       138\n",
      "\n",
      "[[  0  17]\n",
      " [  0 121]]\n"
     ]
    },
    {
     "name": "stderr",
     "output_type": "stream",
     "text": [
      "C:\\Users\\abdul\\Anaconda3\\envs\\IT_project\\lib\\site-packages\\sklearn\\metrics\\_classification.py:1245: UndefinedMetricWarning: Precision and F-score are ill-defined and being set to 0.0 in labels with no predicted samples. Use `zero_division` parameter to control this behavior.\n",
      "  _warn_prf(average, modifier, msg_start, len(result))\n",
      "C:\\Users\\abdul\\Anaconda3\\envs\\IT_project\\lib\\site-packages\\sklearn\\metrics\\_classification.py:1245: UndefinedMetricWarning: Precision and F-score are ill-defined and being set to 0.0 in labels with no predicted samples. Use `zero_division` parameter to control this behavior.\n",
      "  _warn_prf(average, modifier, msg_start, len(result))\n",
      "C:\\Users\\abdul\\Anaconda3\\envs\\IT_project\\lib\\site-packages\\sklearn\\metrics\\_classification.py:1245: UndefinedMetricWarning: Precision and F-score are ill-defined and being set to 0.0 in labels with no predicted samples. Use `zero_division` parameter to control this behavior.\n",
      "  _warn_prf(average, modifier, msg_start, len(result))\n"
     ]
    },
    {
     "data": {
      "image/png": "[encoded data removed]",
      "text/plain": [
       "<Figure size 432x216 with 2 Axes>"
      ]
     },
     "metadata": {
      "needs_background": "light"
     },
     "output_type": "display_data"
    },
    {
     "name": "stdout",
     "output_type": "stream",
     "text": [
      "-------------------------------------------------------\n",
      "[0.57166667 0.69833333 0.7875     0.44067797 0.49152542]\n",
      "Nearest Neighbors: Avg CV roc_auc using all features on training data: 0.5979\n",
      "Nearest Neighbors: roc_auc w/all features on test data 0.9917:\n",
      "              precision    recall  f1-score   support\n",
      "\n",
      "           0       0.00      0.00      0.00        17\n",
      "           1       0.88      0.99      0.93       121\n",
      "\n",
      "    accuracy                           0.87       138\n",
      "   macro avg       0.44      0.50      0.47       138\n",
      "weighted avg       0.77      0.87      0.82       138\n",
      "\n",
      "[[  0  17]\n",
      " [  1 120]]\n"
     ]
    },
    {
     "data": {
      "image/png": "[encoded data removed]",
      "text/plain": [
       "<Figure size 432x216 with 2 Axes>"
      ]
     },
     "metadata": {
      "needs_background": "light"
     },
     "output_type": "display_data"
    },
    {
     "name": "stdout",
     "output_type": "stream",
     "text": [
      "-------------------------------------------------------\n",
      "[0.64333333 0.76       0.83333333 0.41694915 0.78305085]\n",
      "Neural Net: Avg CV roc_auc using all features on training data: 0.6873\n",
      "Neural Net: roc_auc w/all features on test data 0.9504:\n",
      "              precision    recall  f1-score   support\n",
      "\n",
      "           0       0.33      0.18      0.23        17\n",
      "           1       0.89      0.95      0.92       121\n",
      "\n",
      "    accuracy                           0.86       138\n",
      "   macro avg       0.61      0.56      0.58       138\n",
      "weighted avg       0.82      0.86      0.84       138\n",
      "\n",
      "[[  3  14]\n",
      " [  6 115]]\n"
     ]
    },
    {
     "data": {
      "image/png": "[encoded data removed]",
      "text/plain": [
       "<Figure size 432x216 with 2 Axes>"
      ]
     },
     "metadata": {
      "needs_background": "light"
     },
     "output_type": "display_data"
    },
    {
     "name": "stdout",
     "output_type": "stream",
     "text": [
      "-------------------------------------------------------\n"
     ]
    }
   ],
   "source": [
    "models = []\n",
    "models.append(('Logistic Regression', LogisticRegression(penalty= 'l2', solver='saga',max_iter=10000, random_state=42)))\n",
    "models.append(('Random Forest', RandomForestClassifier(n_estimators=100,random_state=42)))\n",
    "models.append(('Naive Bayes', GaussianNB()))\n",
    "models.append(('Gradient Boosting Classifier', GradientBoostingClassifier()))\n",
    "models.append(('Decision Tree', DecisionTreeClassifier()))\n",
    "models.append(('Support Vector Machine', svm.SVC(gamma = 'auto')))\n",
    "models.append(('Nearest Neighbors', KNeighborsClassifier()))\n",
    "models.append(('Neural Net',  MLPClassifier(solver='adam', alpha=0.0001,learning_rate='constant',max_iter=2000, learning_rate_init=0.001,random_state=42)))\n",
    "base_model_train = []\n",
    "base_model_test = []\n",
    "for name, classifier in models:\n",
    "    scores = cross_val_score(classifier, X_train_std_df, y_train, cv=5, scoring='roc_auc')\n",
    "    base_model_train.append(scores.mean().round(4))\n",
    "    print(scores)\n",
    "    print('{}: Avg CV roc_auc using all features on training data: {}'.format(name, scores.mean().round(4)))\n",
    "    \n",
    "    classifier.fit(X_train_std_df, y_train)\n",
    "    y_preds = classifier.predict(X_test_std_df)\n",
    "    test_recall = recall_score(y_test, y_preds, average='binary')\n",
    "    test_class = classification_report(y_test, y_preds)\n",
    "    cnf_matrix = confusion_matrix(y_test, y_preds)\n",
    "    base_model_test.append(test_recall.round(4))\n",
    "    print('{}: roc_auc w/all features on test data {}:'.format(name, test_recall.round(4)))\n",
    "    print(test_class)\n",
    "    print(cnf_matrix)\n",
    "    plt.figure(figsize=(6,3))\n",
    "    sns.heatmap(cnf_matrix, annot=True,cmap='Blues', fmt='g')\n",
    "    plt.show()\n",
    "    print('-------------------------------------------------------')"
   ]
  },
  {
   "cell_type": "markdown",
   "metadata": {},
   "source": [
    "### Model 1: Entire Feature Set & Balanced w/SMOTE\n"
   ]
  },
  {
   "cell_type": "code",
   "execution_count": 164,
   "metadata": {},
   "outputs": [
    {
     "data": {
      "text/plain": [
       "DBE_Commit_Amount_log                                float64\n",
       "DBE_Goal_Amount_log                                  float64\n",
       "TOT_BID_AMT_log                                      float64\n",
       "DBE_COMMITMENT_log                                   float64\n",
       "BID_DAYS_sqrt                                        float64\n",
       "FUND_IND_B                                           float64\n",
       "FUNDTYPE_0FED                                        float64\n",
       "FUNDTYPE_Rare                                        float64\n",
       "FUNDTYPE_FED                                         float64\n",
       "PROPOSAL_TYPE_BRIDGE AND APPROACHES                  float64\n",
       "PROPOSAL_TYPE_RESURFACE (ASPHALT)                    float64\n",
       "PROPOSAL_TYPE_PEDESTRIAN IMPROVEMENTS (SIDEWALKS)    float64\n",
       "PROPOSAL_TYPE_Rare                                   float64\n",
       "PROPOSAL_TYPE_BRIDGE REHABILITATION                  float64\n",
       "PROPOSAL_TYPE_WIDEN, RESURFACE, AND BRIDGE           float64\n",
       "ROPOSAL_TYPE_GRADE, DRAIN, AND SURFACE               float64\n",
       "PROPOSAL_TYPE_GRADE, DRAIN, SURFACE, AND BRIDGE      float64\n",
       "DBEGOALPERCENT_3.0                                   float64\n",
       "DBEGOALPERCENT_5.0                                   float64\n",
       "DBEGOALPERCENT_4.0                                   float64\n",
       "DBEGOALPERCENT_2.5                                   float64\n",
       "DBEGOALPERCENT_2.0                                   float64\n",
       "DBEGOALPERCENT_7.0                                   float64\n",
       "DBEGOALPERCENT_6.0                                   float64\n",
       "DBEGOALPERCENT_1.5                                   float64\n",
       "DBEGOALPERCENT_Rare                                  float64\n",
       "DBEGOALPERCENT_3.5                                   float64\n",
       "DBEGOALPERCENT_8.0                                   float64\n",
       "dtype: object"
      ]
     },
     "execution_count": 164,
     "metadata": {},
     "output_type": "execute_result"
    }
   ],
   "source": [
    "X_train_std_df.dtypes"
   ]
  },
  {
   "cell_type": "code",
   "execution_count": 169,
   "metadata": {},
   "outputs": [
    {
     "name": "stdout",
     "output_type": "stream",
     "text": [
      "[0.69333333 0.68333333 0.68333333 0.33559322 0.8440678 ]\n",
      "Logistic Regression: Avg CV roc_auc w/All Reatures: 0.6479\n",
      "Logistic Regression: roc_auc w/All Features on test data 0.8099:\n",
      "              precision    recall  f1-score   support\n",
      "\n",
      "           0       0.18      0.29      0.22        17\n",
      "           1       0.89      0.81      0.85       121\n",
      "\n",
      "    accuracy                           0.75       138\n",
      "   macro avg       0.53      0.55      0.54       138\n",
      "weighted avg       0.80      0.75      0.77       138\n",
      "\n",
      "[[ 5 12]\n",
      " [23 98]]\n"
     ]
    },
    {
     "data": {
      "image/png": "[encoded data removed]",
      "text/plain": [
       "<Figure size 432x216 with 2 Axes>"
      ]
     },
     "metadata": {
      "needs_background": "light"
     },
     "output_type": "display_data"
    },
    {
     "name": "stdout",
     "output_type": "stream",
     "text": [
      "-------------------------------------------------------\n",
      "[0.54833333 0.77833333 0.73125    0.56610169 0.71694915]\n",
      "Random Forest: Avg CV roc_auc w/All Reatures: 0.6682\n",
      "Random Forest: roc_auc w/All Features on test data 0.9174:\n",
      "              precision    recall  f1-score   support\n",
      "\n",
      "           0       0.23      0.18      0.20        17\n",
      "           1       0.89      0.92      0.90       121\n",
      "\n",
      "    accuracy                           0.83       138\n",
      "   macro avg       0.56      0.55      0.55       138\n",
      "weighted avg       0.81      0.83      0.82       138\n",
      "\n",
      "[[  3  14]\n",
      " [ 10 111]]\n"
     ]
    },
    {
     "data": {
      "image/png": "[encoded data removed]",
      "text/plain": [
       "<Figure size 432x216 with 2 Axes>"
      ]
     },
     "metadata": {
      "needs_background": "light"
     },
     "output_type": "display_data"
    },
    {
     "name": "stdout",
     "output_type": "stream",
     "text": [
      "-------------------------------------------------------\n",
      "[0.57333333 0.57666667 0.66041667 0.37627119 0.76949153]\n",
      "Naive Bayes: Avg CV roc_auc w/All Reatures: 0.5912\n",
      "Naive Bayes: roc_auc w/All Features on test data 0.5041:\n",
      "              precision    recall  f1-score   support\n",
      "\n",
      "           0       0.10      0.41      0.17        17\n",
      "           1       0.86      0.50      0.64       121\n",
      "\n",
      "    accuracy                           0.49       138\n",
      "   macro avg       0.48      0.46      0.40       138\n",
      "weighted avg       0.77      0.49      0.58       138\n",
      "\n",
      "[[ 7 10]\n",
      " [60 61]]\n"
     ]
    },
    {
     "data": {
      "image/png": "[encoded data removed]",
      "text/plain": [
       "<Figure size 432x216 with 2 Axes>"
      ]
     },
     "metadata": {
      "needs_background": "light"
     },
     "output_type": "display_data"
    },
    {
     "name": "stdout",
     "output_type": "stream",
     "text": [
      "-------------------------------------------------------\n",
      "[0.50666667 0.69666667 0.7375     0.34915254 0.75932203]\n",
      "Gradient Boosting Classifier: Avg CV roc_auc w/All Reatures: 0.6099\n",
      "Gradient Boosting Classifier: roc_auc w/All Features on test data 0.9091:\n",
      "              precision    recall  f1-score   support\n",
      "\n",
      "           0       0.31      0.29      0.30        17\n",
      "           1       0.90      0.91      0.91       121\n",
      "\n",
      "    accuracy                           0.83       138\n",
      "   macro avg       0.61      0.60      0.60       138\n",
      "weighted avg       0.83      0.83      0.83       138\n",
      "\n",
      "[[  5  12]\n",
      " [ 11 110]]\n"
     ]
    },
    {
     "data": {
      "image/png": "[encoded data removed]",
      "text/plain": [
       "<Figure size 432x216 with 2 Axes>"
      ]
     },
     "metadata": {
      "needs_background": "light"
     },
     "output_type": "display_data"
    },
    {
     "name": "stdout",
     "output_type": "stream",
     "text": [
      "-------------------------------------------------------\n",
      "[0.40833333 0.625      0.55833333 0.40677966 0.55762712]\n",
      "Decision Tree: Avg CV roc_auc w/All Reatures: 0.5112\n",
      "Decision Tree: roc_auc w/All Features on test data 0.9174:\n",
      "              precision    recall  f1-score   support\n",
      "\n",
      "           0       0.33      0.29      0.31        17\n",
      "           1       0.90      0.92      0.91       121\n",
      "\n",
      "    accuracy                           0.84       138\n",
      "   macro avg       0.62      0.61      0.61       138\n",
      "weighted avg       0.83      0.84      0.84       138\n",
      "\n",
      "[[  5  12]\n",
      " [ 10 111]]\n"
     ]
    },
    {
     "data": {
      "image/png": "[encoded data removed]",
      "text/plain": [
       "<Figure size 432x216 with 2 Axes>"
      ]
     },
     "metadata": {
      "needs_background": "light"
     },
     "output_type": "display_data"
    },
    {
     "name": "stdout",
     "output_type": "stream",
     "text": [
      "-------------------------------------------------------\n",
      "[0.56666667 0.75666667 0.64166667 0.40677966 0.77966102]\n",
      "Support Vector Machine: Avg CV roc_auc w/All Reatures: 0.6303\n",
      "Support Vector Machine: roc_auc w/All Features on test data 0.8926:\n",
      "              precision    recall  f1-score   support\n",
      "\n",
      "           0       0.00      0.00      0.00        17\n",
      "           1       0.86      0.89      0.88       121\n",
      "\n",
      "    accuracy                           0.78       138\n",
      "   macro avg       0.43      0.45      0.44       138\n",
      "weighted avg       0.76      0.78      0.77       138\n",
      "\n",
      "[[  0  17]\n",
      " [ 13 108]]\n"
     ]
    },
    {
     "data": {
      "image/png": "[encoded data removed]",
      "text/plain": [
       "<Figure size 432x216 with 2 Axes>"
      ]
     },
     "metadata": {
      "needs_background": "light"
     },
     "output_type": "display_data"
    },
    {
     "name": "stdout",
     "output_type": "stream",
     "text": [
      "-------------------------------------------------------\n",
      "[0.455      0.685      0.74166667 0.43220339 0.44237288]\n",
      "Nearest Neighbors: Avg CV roc_auc w/All Reatures: 0.5512\n",
      "Nearest Neighbors: roc_auc w/All Features on test data 0.9174:\n",
      "              precision    recall  f1-score   support\n",
      "\n",
      "           0       0.00      0.00      0.00        17\n",
      "           1       0.87      0.92      0.89       121\n",
      "\n",
      "    accuracy                           0.80       138\n",
      "   macro avg       0.43      0.46      0.45       138\n",
      "weighted avg       0.76      0.80      0.78       138\n",
      "\n",
      "[[  0  17]\n",
      " [ 10 111]]\n"
     ]
    },
    {
     "data": {
      "image/png": "[encoded data removed]",
      "text/plain": [
       "<Figure size 432x216 with 2 Axes>"
      ]
     },
     "metadata": {
      "needs_background": "light"
     },
     "output_type": "display_data"
    },
    {
     "name": "stdout",
     "output_type": "stream",
     "text": [
      "-------------------------------------------------------\n",
      "[0.49333333 0.70333333 0.825      0.43389831 0.8       ]\n",
      "Neural Net: Avg CV roc_auc w/All Reatures: 0.6511\n",
      "Neural Net: roc_auc w/All Features on test data 0.9174:\n",
      "              precision    recall  f1-score   support\n",
      "\n",
      "           0       0.17      0.12      0.14        17\n",
      "           1       0.88      0.92      0.90       121\n",
      "\n",
      "    accuracy                           0.82       138\n",
      "   macro avg       0.52      0.52      0.52       138\n",
      "weighted avg       0.79      0.82      0.81       138\n",
      "\n",
      "[[  2  15]\n",
      " [ 10 111]]\n"
     ]
    },
    {
     "data": {
      "image/png": "[encoded data removed]",
      "text/plain": [
       "<Figure size 432x216 with 2 Axes>"
      ]
     },
     "metadata": {
      "needs_background": "light"
     },
     "output_type": "display_data"
    },
    {
     "name": "stdout",
     "output_type": "stream",
     "text": [
      "-------------------------------------------------------\n"
     ]
    }
   ],
   "source": [
    "sm = SMOTENC(random_state=42, categorical_features=[5,6,7,8,9,10,11,12,13,14,15,16,17,18,19,20,21,22,23,24,25,26])\n",
    "X_train_std_sm, y_train_sm = sm.fit_resample(X_train_std_df, y_train)\n",
    "model1_train = []\n",
    "model1_test = []\n",
    "for name, classifier in models:\n",
    "    pipeline = make_pipeline(sm, classifier)\n",
    "    scores = cross_val_score(pipeline, X_train_std_df, y_train, cv=5, scoring='roc_auc')\n",
    "    model1_train.append(scores.mean().round(4))\n",
    "    print(scores)\n",
    "    print('{}: Avg CV roc_auc w/All Reatures: {}'.format(name, scores.mean().round(4)))\n",
    "    \n",
    "    classifier.fit(X_train_std_sm, y_train_sm)\n",
    "    y_preds = classifier.predict(X_test_std_df)\n",
    "    test_recall = recall_score(y_test, y_preds)\n",
    "    test_class = classification_report(y_test, y_preds)\n",
    "    cnf_matrix = confusion_matrix(y_test, y_preds)\n",
    "    model1_test.append(test_recall.round(4))\n",
    "    print('{}: roc_auc w/All Features on test data {}:'.format(name, test_recall.round(4)))\n",
    "    print(test_class)\n",
    "    print(cnf_matrix)\n",
    "    plt.figure(figsize=(6,3))\n",
    "    sns.heatmap(cnf_matrix, annot=True,cmap='Blues', fmt='g')\n",
    "    plt.show()\n",
    "    print('-------------------------------------------------------')"
   ]
  },
  {
   "cell_type": "code",
   "execution_count": 221,
   "metadata": {},
   "outputs": [],
   "source": [
    "rf_selector = RandomForestClassifier(n_estimators=100, random_state=SEED, n_jobs=-1)\n",
    "rf_selector.fit(X_train_std_sm, y_train_sm)\n",
    "feature_imp = pd.Series(rf_selector.feature_importances_, index=X_train_std_df.columns).sort_values(ascending=False)\n",
    "#feature_imp[:30]"
   ]
  },
  {
   "cell_type": "code",
   "execution_count": 198,
   "metadata": {},
   "outputs": [
    {
     "data": {
      "text/plain": [
       "DBE_COMMITMENT_log                                 0.138865\n",
       "TOT_BID_AMT_log                                    0.130116\n",
       "DBEGOALPERCENT_1.0                                 0.128403\n",
       "DBE_Goal_Amount_log                                0.113780\n",
       "BID_DAYS_sqrt                                      0.093067\n",
       "DBE_Commit_Amount_log                              0.091915\n",
       "PROPOSAL_TYPE_BRIDGE AND APPROACHES                0.064290\n",
       "DBEGOALPERCENT_6.0                                 0.050591\n",
       "FUND_IND_B                                         0.044034\n",
       "FUNDTYPE_0FED                                      0.020182\n",
       "DBEGOALPERCENT_5.0                                 0.019309\n",
       "DBEGOALPERCENT_7.0                                 0.017682\n",
       "DBEGOALPERCENT_3.5                                 0.014295\n",
       "FUNDTYPE_Rare                                      0.012480\n",
       "PROPOSAL_TYPE_BRIDGE REHABILITATION                0.010615\n",
       "PROPOSAL_TYPE_GRADE, DRAIN, AND SURFACE            0.008901\n",
       "PROPOSAL_TYPE_Rare                                 0.008613\n",
       "DBEGOALPERCENT_3.0                                 0.007330\n",
       "PROPOSAL_TYPE_RESURFACE (ASPHALT)                  0.006713\n",
       "DBEGOALPERCENT_2.0                                 0.004872\n",
       "DBEGOALPERCENT_4.5                                 0.003688\n",
       "DBEGOALPERCENT_1.5                                 0.003162\n",
       "DBEGOALPERCENT_4.0                                 0.002563\n",
       "PROPOSAL_TYPE_GRADE, DRAIN, SURFACE, AND BRIDGE    0.002177\n",
       "FUNDTYPE_FED                                       0.001877\n",
       "DBEGOALPERCENT_2.5                                 0.000481\n",
       "dtype: float64"
      ]
     },
     "execution_count": 198,
     "metadata": {},
     "output_type": "execute_result"
    }
   ],
   "source": [
    "feature_imp"
   ]
  },
  {
   "cell_type": "code",
   "execution_count": 213,
   "metadata": {},
   "outputs": [
    {
     "data": {
      "image/png": "[encoded data removed]",
      "text/plain": [
       "<Figure size 864x576 with 1 Axes>"
      ]
     },
     "metadata": {
      "needs_background": "light"
     },
     "output_type": "display_data"
    }
   ],
   "source": [
    "X_train_rf = X_train_std_df[feature_imp.index]\n",
    "X_test_rf = X_test_std_df[feature_imp.index]\n",
    "plt.figure(figsize=(12,8))\n",
    "sns.barplot(x=feature_imp[0:30], y=feature_imp.index[0:30])\n",
    "plt.xlabel('Feature Importance Score')\n",
    "plt.ylabel('Features')\n",
    "plt.title(\"Visualizing Important Features\")\n",
    "plt.yticks(fontsize=12)\n",
    "plt.grid(which='major', color='#666666', linestyle='-', alpha=0.1)\n",
    "plt.show()"
   ]
  },
  {
   "cell_type": "code",
   "execution_count": 218,
   "metadata": {},
   "outputs": [
    {
     "name": "stdout",
     "output_type": "stream",
     "text": [
      "Fitting 5 folds for each of 16 candidates, totalling 80 fits\n",
      "Best Score:  0.9006755886635827\n",
      "Best Params:  {'logisticregression__C': 1, 'logisticregression__penalty': 'l2'}\n"
     ]
    }
   ],
   "source": [
    "clf_lr = LogisticRegression(solver='saga',max_iter=10000, random_state=SEED)\n",
    "penalty = ['l1','l2']\n",
    "C = [0.001,0.002,0.003,0.005,1,10,100,1000]\n",
    "skf = StratifiedKFolnm.,d(n_splits=5)\n",
    "pipeline = make_pipeline(sm, clf_lr)\n",
    "param_grid = dict(logisticregression__penalty=penalty,\n",
    "                  logisticregression__C=C)\n",
    "grid = GridSearchCV(pipeline, \n",
    "                    param_grid=param_grid,\n",
    "                    scoring='roc_auc', \n",
    "                    verbose=1, cv=skf)\n",
    "grid_results = grid.fit(X_train_std_sm, y_train_sm) \n",
    "print('Best Score: ', grid_results.best_score_)\n",
    "print('Best Params: ', grid_results.best_params_)"
   ]
  }
 ],
 "metadata": {
  "kernelspec": {
   "display_name": "IT_project",
   "language": "python",
   "name": "it_project"
  },
  "language_info": {
   "codemirror_mode": {
    "name": "ipython",
    "version": 3
   },
   "file_extension": ".py",
   "mimetype": "text/x-python",
   "name": "python",
   "nbconvert_exporter": "python",
   "pygments_lexer": "ipython3",
   "version": "3.6.12"
  }
 },
 "nbformat": 4,
 "nbformat_minor": 2
}
